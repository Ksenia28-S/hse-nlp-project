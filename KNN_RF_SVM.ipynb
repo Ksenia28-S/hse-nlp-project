{
 "cells": [
  {
   "cell_type": "code",
   "execution_count": 20,
   "id": "a5739978-19e0-4611-a665-a0e71cb3c085",
   "metadata": {},
   "outputs": [
    {
     "name": "stderr",
     "output_type": "stream",
     "text": [
      "[nltk_data] Downloading package stopwords to\n",
      "[nltk_data]     C:\\Users\\PC\\AppData\\Roaming\\nltk_data...\n",
      "[nltk_data]   Package stopwords is already up-to-date!\n",
      "[nltk_data] Downloading package punkt to\n",
      "[nltk_data]     C:\\Users\\PC\\AppData\\Roaming\\nltk_data...\n",
      "[nltk_data]   Package punkt is already up-to-date!\n",
      "[nltk_data] Downloading package wordnet to\n",
      "[nltk_data]     C:\\Users\\PC\\AppData\\Roaming\\nltk_data...\n",
      "[nltk_data]   Package wordnet is already up-to-date!\n",
      "[nltk_data] Downloading package omw-1.4 to\n",
      "[nltk_data]     C:\\Users\\PC\\AppData\\Roaming\\nltk_data...\n",
      "[nltk_data]   Package omw-1.4 is already up-to-date!\n"
     ]
    }
   ],
   "source": [
    "import numpy as np\n",
    "import pandas as pd\n",
    "import nltk\n",
    "from nltk.stem import WordNetLemmatizer\n",
    "from nltk.tokenize import sent_tokenize, word_tokenize\n",
    "from tqdm import tqdm\n",
    "import re\n",
    "import pymorphy2\n",
    "import string\n",
    "import gensim\n",
    "from gensim.models.doc2vec import Doc2Vec, TaggedDocument\n",
    "from nltk.tokenize import word_tokenize\n",
    "from sklearn.model_selection import train_test_split, GridSearchCV, ShuffleSplit\n",
    "from sklearn.utils import shuffle, resample\n",
    "import time\n",
    "from sklearn.ensemble import RandomForestClassifier\n",
    "from sklearn.neighbors import KNeighborsClassifier\n",
    "from sklearn.svm import SVC\n",
    "from sklearn import metrics\n",
    "import matplotlib.pyplot as plt\n",
    "import pickle\n",
    "nltk.download('stopwords')\n",
    "nltk.download('punkt')\n",
    "nltk.download('wordnet')\n",
    "nltk.download('omw-1.4')\n",
    "from nltk.corpus import stopwords"
   ]
  },
  {
   "cell_type": "markdown",
   "id": "43925336-7dbe-43f5-b350-4c35863ab633",
   "metadata": {},
   "source": [
    "## **Предобработка**"
   ]
  },
  {
   "cell_type": "code",
   "execution_count": 1,
   "id": "b0d1046e",
   "metadata": {},
   "outputs": [
    {
     "name": "stdout",
     "output_type": "stream",
     "text": [
      "Dataset size (18779, 2)\n",
      "row number:  18779\n",
      "feature number:  2\n",
      "\n",
      "names of features:  ['original_data', 'score']\n",
      "-------------------\n",
      "full data loaded\n",
      "-------------------\n"
     ]
    }
   ],
   "source": [
    "# читаем данные из файла\n",
    "f = 'train_data_exam_1.xlsx'\n",
    "\n",
    "df = pd.read_excel(f, 0)  \n",
    "print('Dataset size', df.shape)\n",
    "num_rows, num_feature = df.shape\n",
    "print('row number: ', num_rows)\n",
    "print('feature number: ', num_feature)\n",
    "print()\n",
    "print('names of features: ', list(df))\n",
    "print('-------------------')\n",
    "print('full data loaded')\n",
    "print('-------------------')"
   ]
  },
  {
   "cell_type": "code",
   "execution_count": 3,
   "id": "a43d9053",
   "metadata": {},
   "outputs": [],
   "source": [
    "# уменьшим датасет за счет процедуры сэмплирования\n",
    "rslt_df = df.sample(frac=0.15, replace=True, random_state=1) "
   ]
  },
  {
   "cell_type": "code",
   "execution_count": 4,
   "id": "5da8cd31",
   "metadata": {},
   "outputs": [
    {
     "name": "stdout",
     "output_type": "stream",
     "text": [
      "                                           original_data  score\n",
      "235    Можно или научить основам и работе с документа...      0\n",
      "12172  сли А*Б меньше чем экономия на налогах - налог...     -1\n",
      "5192   Очень приятно, что вы заметили фото.  Зато тет...     -1\n",
      "17289  НЕСТЕРОВ Роман Андреевич –  следователь по осо...     -1\n",
      "10955  я сам не более чем на 89 согласен  точно! _) э...     -1\n",
      "7813   ли лягушачьи лапки. Или там работали сплошные ...      0\n",
      "144    Россия - побежденный геополитический конкурент...     -1\n",
      "16332  тем более, такой мелкий инфоповод. нет же. гру...     -2\n",
      "7751   ва мощных взрыва прогремели в понедельник у фи...     -1\n",
      "10989  арод, это лишь множество отдельных людей. Нет ...      0\n"
     ]
    }
   ],
   "source": [
    "print(rslt_df.head(10))"
   ]
  },
  {
   "cell_type": "code",
   "execution_count": 5,
   "id": "e960524d",
   "metadata": {},
   "outputs": [
    {
     "name": "stdout",
     "output_type": "stream",
     "text": [
      "Dataset size (2817, 3)\n"
     ]
    }
   ],
   "source": [
    "# востановим индексы\n",
    "newdf =rslt_df.reset_index()\n",
    "print('Dataset size', newdf.shape)\n",
    "num_rows, num_feature =newdf.shape"
   ]
  },
  {
   "cell_type": "code",
   "execution_count": 6,
   "id": "9958ec96",
   "metadata": {},
   "outputs": [
    {
     "name": "stderr",
     "output_type": "stream",
     "text": [
      "100%|██████████| 2817/2817 [01:21<00:00, 34.48it/s]"
     ]
    },
    {
     "name": "stdout",
     "output_type": "stream",
     "text": [
      "time of execution (sec) 81.69951391220093\n"
     ]
    },
    {
     "name": "stderr",
     "output_type": "stream",
     "text": [
      "\n"
     ]
    }
   ],
   "source": [
    "morph = pymorphy2.MorphAnalyzer()\n",
    "\n",
    "start = time.time()\n",
    "y_data = []\n",
    "for i in tqdm(range(num_rows)):\n",
    "    s = str(newdf['original_data'][i])\n",
    "    s1 = re.sub(r\"[,.?“/!@#$1234567890#—ツ►๑۩۞۩•*”˜˜”*°°*`)(]\", '', s)\n",
    "    tokens = word_tokenize(s1)\n",
    "    doc_stem=''\n",
    "    for j in range(0,len(tokens)):\n",
    "        tokens[j] = morph.parse(tokens[j])[0].normal_form\n",
    "        doc_stem = doc_stem + tokens[j] + ' '\n",
    "    \n",
    "    y_data.append(doc_stem)\n",
    "\n",
    "stop = time.time()    \n",
    "\n",
    "print('time of execution (sec)', stop - start)"
   ]
  },
  {
   "cell_type": "code",
   "execution_count": 7,
   "id": "5864e5c5",
   "metadata": {},
   "outputs": [
    {
     "name": "stdout",
     "output_type": "stream",
     "text": [
      "Vectorization of documents\n",
      "documents number :  2817 feature number:  35903\n"
     ]
    }
   ],
   "source": [
    "from nltk.corpus import stopwords\n",
    "words = stopwords.words(\"russian\")\n",
    "\n",
    "print('Vectorization of documents')\n",
    "from sklearn.feature_extraction.text import TfidfVectorizer\n",
    "vec = TfidfVectorizer(ngram_range=(1,1),stop_words=(words))\n",
    "\n",
    "data = vec.fit_transform(y_data).toarray()\n",
    "\n",
    "num_docs, num_feature =data.shape\n",
    "print('documents number : ', num_docs, 'feature number: ', num_feature)"
   ]
  },
  {
   "cell_type": "code",
   "execution_count": 8,
   "id": "ce7bb6a2",
   "metadata": {},
   "outputs": [],
   "source": [
    "with open('vectorizer15.pk', 'wb') as fin:\n",
    "    pickle.dump(vec, fin)"
   ]
  },
  {
   "cell_type": "code",
   "execution_count": 9,
   "id": "005c37d4",
   "metadata": {},
   "outputs": [
    {
     "name": "stdout",
     "output_type": "stream",
     "text": [
      "documents number :  2817 feature number:  35903\n"
     ]
    }
   ],
   "source": [
    "vectorizer = pickle.load(open(\"vectorizer15.pk\", \"rb\"))\n",
    "data = vectorizer.fit_transform(y_data).toarray()\n",
    "num_docs, num_feature =data.shape\n",
    "print('documents number : ', num_docs, 'feature number: ', num_feature)"
   ]
  },
  {
   "cell_type": "code",
   "execution_count": 10,
   "id": "9bfb68a7",
   "metadata": {},
   "outputs": [
    {
     "name": "stdout",
     "output_type": "stream",
     "text": [
      "(2817, 35903)\n",
      "итоговый размер:  (2817, 35904)\n"
     ]
    },
    {
     "data": {
      "text/html": [
       "<div>\n",
       "<style scoped>\n",
       "    .dataframe tbody tr th:only-of-type {\n",
       "        vertical-align: middle;\n",
       "    }\n",
       "\n",
       "    .dataframe tbody tr th {\n",
       "        vertical-align: top;\n",
       "    }\n",
       "\n",
       "    .dataframe thead th {\n",
       "        text-align: right;\n",
       "    }\n",
       "</style>\n",
       "<table border=\"1\" class=\"dataframe\">\n",
       "  <thead>\n",
       "    <tr style=\"text-align: right;\">\n",
       "      <th></th>\n",
       "      <th>0</th>\n",
       "      <th>1</th>\n",
       "      <th>2</th>\n",
       "      <th>3</th>\n",
       "      <th>4</th>\n",
       "      <th>5</th>\n",
       "      <th>6</th>\n",
       "      <th>7</th>\n",
       "      <th>8</th>\n",
       "      <th>9</th>\n",
       "      <th>...</th>\n",
       "      <th>35894</th>\n",
       "      <th>35895</th>\n",
       "      <th>35896</th>\n",
       "      <th>35897</th>\n",
       "      <th>35898</th>\n",
       "      <th>35899</th>\n",
       "      <th>35900</th>\n",
       "      <th>35901</th>\n",
       "      <th>35902</th>\n",
       "      <th>score</th>\n",
       "    </tr>\n",
       "  </thead>\n",
       "  <tbody>\n",
       "    <tr>\n",
       "      <th>0</th>\n",
       "      <td>0.0</td>\n",
       "      <td>0.0</td>\n",
       "      <td>0.0</td>\n",
       "      <td>0.0</td>\n",
       "      <td>0.0</td>\n",
       "      <td>0.0</td>\n",
       "      <td>0.0</td>\n",
       "      <td>0.0</td>\n",
       "      <td>0.0</td>\n",
       "      <td>0.0</td>\n",
       "      <td>...</td>\n",
       "      <td>0.0</td>\n",
       "      <td>0.0</td>\n",
       "      <td>0.0</td>\n",
       "      <td>0.0</td>\n",
       "      <td>0.0</td>\n",
       "      <td>0.0</td>\n",
       "      <td>0.0</td>\n",
       "      <td>0.0</td>\n",
       "      <td>0.0</td>\n",
       "      <td>0</td>\n",
       "    </tr>\n",
       "  </tbody>\n",
       "</table>\n",
       "<p>1 rows × 35904 columns</p>\n",
       "</div>"
      ],
      "text/plain": [
       "     0    1    2    3    4    5    6    7    8    9  ...  35894  35895  35896  \\\n",
       "0  0.0  0.0  0.0  0.0  0.0  0.0  0.0  0.0  0.0  0.0  ...    0.0    0.0    0.0   \n",
       "\n",
       "   35897  35898  35899  35900  35901  35902  score  \n",
       "0    0.0    0.0    0.0    0.0    0.0    0.0      0  \n",
       "\n",
       "[1 rows x 35904 columns]"
      ]
     },
     "execution_count": 10,
     "metadata": {},
     "output_type": "execute_result"
    }
   ],
   "source": [
    "newdata = pd.DataFrame(data=data)\n",
    "print(newdata.shape)\n",
    "newdata = pd.concat([newdata, newdf['score']], axis=1)\n",
    "print('итоговый размер: ', newdata.shape)\n",
    "newdata.head(1)"
   ]
  },
  {
   "cell_type": "code",
   "execution_count": 11,
   "id": "d3d034d1",
   "metadata": {},
   "outputs": [],
   "source": [
    "# upsampling\n",
    "#  выделим строки с определеными классами\n",
    "neut_df= newdata[newdata['score'] == 0]\n",
    "neg_df= newdata[newdata['score'] == -1]\n",
    "pos_df= newdata[newdata['score'] == 1]\n",
    "super_neg_df = newdata[newdata['score'] == -2]\n",
    "super_pos_df= newdata[newdata['score'] == 2]"
   ]
  },
  {
   "cell_type": "code",
   "execution_count": 12,
   "id": "b5084599",
   "metadata": {},
   "outputs": [
    {
     "name": "stdout",
     "output_type": "stream",
     "text": [
      "(1471, 35904)\n",
      "(970, 35904)\n",
      "(187, 35904)\n",
      "(152, 35904)\n",
      "(37, 35904)\n"
     ]
    }
   ],
   "source": [
    "print(neut_df.shape)\n",
    "print(neg_df.shape)\n",
    "print(pos_df.shape)\n",
    "print(super_neg_df.shape)\n",
    "print(super_pos_df.shape)"
   ]
  },
  {
   "cell_type": "code",
   "execution_count": 13,
   "id": "d1669c60",
   "metadata": {},
   "outputs": [
    {
     "name": "stdout",
     "output_type": "stream",
     "text": [
      "neg_dataset before sampling:  (970, 35904)\n",
      "neg_dataset after sampling:  (1471, 35904)\n"
     ]
    }
   ],
   "source": [
    "from sklearn.utils import resample\n",
    "print('neg_dataset before sampling: ', neg_df.shape)\n",
    "\n",
    "neg_downsample = resample(neg_df,\n",
    "             replace=True,\n",
    "             n_samples=1471,\n",
    "             random_state=42)\n",
    "\n",
    "print('neg_dataset after sampling: ', neg_downsample.shape)"
   ]
  },
  {
   "cell_type": "code",
   "execution_count": 14,
   "id": "03672581",
   "metadata": {},
   "outputs": [
    {
     "name": "stdout",
     "output_type": "stream",
     "text": [
      "pos_dataset before sampling:  (187, 35904)\n",
      "pos_dataset after sampling:  (1471, 35904)\n"
     ]
    }
   ],
   "source": [
    "print('pos_dataset before sampling: ', pos_df.shape)\n",
    "\n",
    "pos_downsample = resample(pos_df,\n",
    "             replace=True,\n",
    "             n_samples=1471,\n",
    "             random_state=42)\n",
    "\n",
    "print('pos_dataset after sampling: ', pos_downsample.shape)"
   ]
  },
  {
   "cell_type": "code",
   "execution_count": 15,
   "id": "44f684ad",
   "metadata": {},
   "outputs": [
    {
     "name": "stdout",
     "output_type": "stream",
     "text": [
      "super_neg_dataset before sampling:  (152, 35904)\n",
      "super_neg_dataset after sampling:  (1471, 35904)\n"
     ]
    }
   ],
   "source": [
    "print('super_neg_dataset before sampling: ', super_neg_df.shape)\n",
    "\n",
    "super_neg_downsample = resample(super_neg_df,\n",
    "             replace=True,\n",
    "             n_samples=1471,\n",
    "             random_state=42)\n",
    "\n",
    "print('super_neg_dataset after sampling: ', super_neg_downsample.shape)"
   ]
  },
  {
   "cell_type": "code",
   "execution_count": 16,
   "id": "09a8342e",
   "metadata": {},
   "outputs": [
    {
     "name": "stdout",
     "output_type": "stream",
     "text": [
      "super_pos_dataset before sampling:  (37, 35904)\n",
      "neg_dataset after sampling:  (1471, 35904)\n"
     ]
    }
   ],
   "source": [
    "print('super_pos_dataset before sampling: ', super_pos_df.shape)\n",
    "\n",
    "super_pos_downsample = resample(super_pos_df,\n",
    "             replace=True,\n",
    "             n_samples=1471,\n",
    "             random_state=42)\n",
    "\n",
    "print('neg_dataset after sampling: ', super_pos_downsample.shape)"
   ]
  },
  {
   "cell_type": "code",
   "execution_count": 17,
   "id": "68fcceac",
   "metadata": {},
   "outputs": [
    {
     "name": "stdout",
     "output_type": "stream",
     "text": [
      "(7355, 35904)\n"
     ]
    }
   ],
   "source": [
    "full_up_sample = pd.concat([super_neg_downsample, neg_downsample, neut_df, pos_downsample, super_pos_downsample])\n",
    "print(full_up_sample.shape)"
   ]
  },
  {
   "cell_type": "code",
   "execution_count": 21,
   "id": "4bf0945c",
   "metadata": {},
   "outputs": [
    {
     "name": "stdout",
     "output_type": "stream",
     "text": [
      "Test collection size:  (1471, 35903)\n",
      "Training collection size:  (5884, 35903)\n"
     ]
    }
   ],
   "source": [
    "Y = full_up_sample['score'].values\n",
    "X = full_up_sample[full_up_sample.columns[:-1]].to_numpy()\n",
    "X_train, X_test, y_train, y_test = train_test_split(X, Y, test_size=0.2, random_state=42)\n",
    "\n",
    "print('Test collection size: ', X_test.shape)\n",
    "print('Training collection size: ', X_train.shape)"
   ]
  },
  {
   "cell_type": "code",
   "execution_count": 29,
   "id": "ab600c80",
   "metadata": {},
   "outputs": [
    {
     "data": {
      "text/plain": [
       "(7355, 35904)"
      ]
     },
     "execution_count": 29,
     "metadata": {},
     "output_type": "execute_result"
    }
   ],
   "source": [
    "full_up_sample.shape"
   ]
  },
  {
   "cell_type": "markdown",
   "id": "6843f9ca-66e6-4f30-ab92-13dde28bb7b2",
   "metadata": {},
   "source": [
    "## **Модели**"
   ]
  },
  {
   "cell_type": "code",
   "execution_count": 35,
   "id": "6027a151",
   "metadata": {},
   "outputs": [],
   "source": [
    "n_estimators = [10, 100, 200]\n",
    "max_features = ['sqrt', 'log2']\n",
    "max_depth = [5, 7, 10]\n",
    "min_samples_split = [2, 5, 10]\n",
    "min_samples_leaf = [1, 2, 4]\n",
    "bootstrap = [True, False]\n",
    "criterion = ['gini', 'entropy']"
   ]
  },
  {
   "cell_type": "code",
   "execution_count": 36,
   "id": "fdfd227d",
   "metadata": {},
   "outputs": [
    {
     "name": "stdout",
     "output_type": "stream",
     "text": [
      "{'n_estimators': [10, 100, 200], 'max_features': ['sqrt', 'log2'], 'max_depth': [5, 7, 10], 'min_samples_split': [2, 5, 10], 'min_samples_leaf': [1, 2, 4], 'bootstrap': [True, False], 'criterion': ['gini', 'entropy']}\n"
     ]
    }
   ],
   "source": [
    "random_grid = {'n_estimators': n_estimators,\n",
    "               'max_features': max_features,\n",
    "               'max_depth': max_depth,\n",
    "               'min_samples_split': min_samples_split,\n",
    "               'min_samples_leaf': min_samples_leaf,\n",
    "               'bootstrap': bootstrap,\n",
    "               'criterion': criterion}\n",
    "\n",
    "print(random_grid)"
   ]
  },
  {
   "cell_type": "code",
   "execution_count": 37,
   "id": "31c8d8fa",
   "metadata": {},
   "outputs": [
    {
     "name": "stdout",
     "output_type": "stream",
     "text": [
      "{'bootstrap': False, 'criterion': 'entropy', 'max_depth': 10, 'max_features': 'log2', 'min_samples_leaf': 1, 'min_samples_split': 5, 'n_estimators': 200}\n",
      "0.8519252548131371\n",
      "time of execution (sec) 11846.082142591476\n"
     ]
    }
   ],
   "source": [
    "start = time.time()   \n",
    "\n",
    "myRF = RandomForestClassifier(\n",
    "    n_estimators=50,\n",
    "    criterion='gini',\n",
    "    max_depth=5,\n",
    "    min_samples_split=2,\n",
    "    min_samples_leaf=1,\n",
    "    min_weight_fraction_leaf=0.0,\n",
    "    max_features='log2',\n",
    "    max_leaf_nodes=None,\n",
    "    min_impurity_decrease=0.0,\n",
    "    bootstrap=True,\n",
    "    n_jobs=-1,\n",
    "    random_state=0,\n",
    "    verbose=0,\n",
    "    warm_start=False,\n",
    "    class_weight='balanced')\n",
    "\n",
    "mycv = ShuffleSplit(n_splits=2, test_size=0.3, random_state=0)\n",
    "\n",
    "clf = GridSearchCV(myRF, random_grid, cv=mycv)\n",
    "clf.fit(X_train, y_train)\n",
    "print(clf.best_params_)\n",
    "print(clf.best_score_)\n",
    "stop = time.time()    \n",
    "\n",
    "print('time of execution (sec)', stop - start)"
   ]
  },
  {
   "cell_type": "markdown",
   "id": "5543ea8b",
   "metadata": {},
   "source": [
    "{'bootstrap': False, 'criterion': 'entropy', 'max_depth': 10, 'max_features': 'log2', 'min_samples_leaf': 1, 'min_samples_split': 5, 'n_estimators': 200}\n",
    "0.8519252548131371\n",
    "time of execution (sec) 11846.082142591476"
   ]
  },
  {
   "cell_type": "code",
   "execution_count": 33,
   "id": "84f1dc13",
   "metadata": {},
   "outputs": [],
   "source": [
    "my_label=clf.predict(X_test)"
   ]
  },
  {
   "cell_type": "code",
   "execution_count": 34,
   "id": "0bfdfa41",
   "metadata": {},
   "outputs": [
    {
     "name": "stdout",
     "output_type": "stream",
     "text": [
      "              precision    recall  f1-score   support\n",
      "\n",
      "          -2       0.99      0.98      0.99       310\n",
      "          -1       0.96      0.76      0.85       286\n",
      "           0       0.81      0.94      0.87       303\n",
      "           1       0.96      1.00      0.98       290\n",
      "           2       0.99      1.00      0.99       282\n",
      "\n",
      "    accuracy                           0.94      1471\n",
      "   macro avg       0.94      0.94      0.94      1471\n",
      "weighted avg       0.94      0.94      0.94      1471\n",
      "\n",
      "[[305   0   0   5   0]\n",
      " [  4 216  66   0   0]\n",
      " [  0   9 284   7   3]\n",
      " [  0   0   0 290   0]\n",
      " [  0   0   0   0 282]]\n"
     ]
    },
    {
     "data": {
      "image/png": "[encoded data removed]",
      "text/plain": [
       "<Figure size 600x600 with 1 Axes>"
      ]
     },
     "metadata": {},
     "output_type": "display_data"
    }
   ],
   "source": [
    "# сравним полученный результат с известными ответами\n",
    "# вывод качества построенной модели\n",
    "print(metrics.classification_report(y_test, my_label, zero_division=0))\n",
    "print(metrics.confusion_matrix(y_test, my_label))\n",
    "\n",
    "%matplotlib inline\n",
    "fig, ax = plt.subplots()\n",
    "cmap=plt.cm.Blues\n",
    "ax.imshow(metrics.confusion_matrix(y_test, my_label), cmap=cmap)\n",
    "fig.set_figwidth(6)    \n",
    "fig.set_figheight(6)    \n",
    "plt.show()"
   ]
  },
  {
   "cell_type": "code",
   "execution_count": 38,
   "id": "339abbe0",
   "metadata": {},
   "outputs": [],
   "source": [
    "with open(\"model_up_RF15.pkl\", \"wb\") as f:\n",
    "    pickle.dump(clf, f)"
   ]
  },
  {
   "cell_type": "code",
   "execution_count": 41,
   "id": "3c70fee7",
   "metadata": {},
   "outputs": [
    {
     "name": "stdout",
     "output_type": "stream",
     "text": [
      "{'algorithm': 'ball_tree', 'n_neighbors': 7, 'p': 1, 'weights': 'distance'}\n",
      "0.9114252547443389\n",
      "time of execution (sec) 15373.197498559952\n"
     ]
    }
   ],
   "source": [
    "knn = KNeighborsClassifier()\n",
    "\n",
    "start = time.time() \n",
    "param_grid = [ {'n_neighbors': [1, 3, 7], 'weights': ['uniform','distance'], 'p': [1,2], \n",
    "                'algorithm' :['ball_tree', 'kd_tree', 'brute' ]} ]\n",
    "\n",
    "mycv = ShuffleSplit(n_splits=2, test_size=0.3, random_state=0)\n",
    "clf = GridSearchCV(knn, param_grid, cv=mycv , scoring='f1_macro')\n",
    "\n",
    "clf.fit(X_train, y_train)\n",
    "\n",
    "print(clf.best_params_)\n",
    "print(clf.best_score_)\n",
    "stop = time.time()    \n",
    "\n",
    "print('time of execution (sec)', stop - start)"
   ]
  },
  {
   "cell_type": "markdown",
   "id": "509b45f2",
   "metadata": {},
   "source": [
    "{'algorithm': 'ball_tree', 'n_neighbors': 7, 'p': 1, 'weights': 'distance'}\n",
    "0.9114252547443389\n",
    "time of execution (sec) 15373.197498559952"
   ]
  },
  {
   "cell_type": "code",
   "execution_count": null,
   "id": "1b2824a3",
   "metadata": {},
   "outputs": [],
   "source": [
    "my_label=clf.predict(X_test)"
   ]
  },
  {
   "cell_type": "code",
   "execution_count": null,
   "id": "d05f8df8",
   "metadata": {},
   "outputs": [],
   "source": [
    "# сравним полученный результат с известными ответами\n",
    "# вывод качества построенной модели\n",
    "print(metrics.classification_report(y_test, my_label, zero_division=0))\n",
    "print(metrics.confusion_matrix(y_test, my_label))\n",
    "\n",
    "%matplotlib inline\n",
    "fig, ax = plt.subplots()\n",
    "cmap=plt.cm.Blues\n",
    "ax.imshow(metrics.confusion_matrix(y_test, my_label), cmap=cmap)\n",
    "fig.set_figwidth(6)    \n",
    "fig.set_figheight(6)    \n",
    "plt.show()"
   ]
  },
  {
   "cell_type": "code",
   "execution_count": 42,
   "id": "e84fec42",
   "metadata": {},
   "outputs": [],
   "source": [
    "with open(\"my_modelKNN15.pkl\", \"wb\") as f:\n",
    "    pickle.dump(clf, f)"
   ]
  },
  {
   "cell_type": "code",
   "execution_count": 23,
   "id": "3d8c2884",
   "metadata": {},
   "outputs": [
    {
     "name": "stdout",
     "output_type": "stream",
     "text": [
      "{'C': 100, 'kernel': 'linear'}\n",
      "0.8997734994337485\n",
      "time of execution (sec) 13839.967208623886\n"
     ]
    }
   ],
   "source": [
    "start = time.time()   \n",
    "\n",
    "random_grid = [\n",
    "  {'C': [0.1, 1, 10, 100], 'kernel': ['linear']},\n",
    "  {'C': [1, 10, 100, 1000], 'gamma': [0.001, 0.0001], 'kernel': ['rbf']},\n",
    " ]\n",
    "mySVM = SVC(gamma=\"scale\")\n",
    "mycv = ShuffleSplit(n_splits=2, test_size=0.3, random_state=0)\n",
    "\n",
    "clf = GridSearchCV(mySVM, random_grid, cv=mycv)\n",
    "clf.fit(X_train, y_train)\n",
    "\n",
    "print(clf.best_params_)\n",
    "print(clf.best_score_)\n",
    "stop = time.time()    \n",
    "\n",
    "print('time of execution (sec)', stop - start)"
   ]
  },
  {
   "cell_type": "code",
   "execution_count": 24,
   "id": "1f06494b",
   "metadata": {},
   "outputs": [],
   "source": [
    "with open(\"my_modelSVM15.pkl\", \"wb\") as f:\n",
    "    pickle.dump(clf, f)"
   ]
  },
  {
   "cell_type": "code",
   "execution_count": 25,
   "id": "27a6b481",
   "metadata": {},
   "outputs": [],
   "source": [
    "my_label=clf.predict(X_test)"
   ]
  },
  {
   "cell_type": "code",
   "execution_count": 26,
   "id": "c9e1943a",
   "metadata": {},
   "outputs": [
    {
     "name": "stdout",
     "output_type": "stream",
     "text": [
      "              precision    recall  f1-score   support\n",
      "\n",
      "          -2       0.99      0.98      0.99       310\n",
      "          -1       0.84      0.83      0.84       286\n",
      "           0       0.85      0.83      0.84       303\n",
      "           1       0.96      1.00      0.98       290\n",
      "           2       1.00      1.00      1.00       282\n",
      "\n",
      "    accuracy                           0.93      1471\n",
      "   macro avg       0.93      0.93      0.93      1471\n",
      "weighted avg       0.93      0.93      0.93      1471\n",
      "\n",
      "[[305   0   0   5   0]\n",
      " [  4 238  44   0   0]\n",
      " [  0  44 251   7   1]\n",
      " [  0   0   0 290   0]\n",
      " [  0   0   0   0 282]]\n"
     ]
    },
    {
     "data": {
      "image/png": "[encoded data removed]",
      "text/plain": [
       "<Figure size 600x600 with 1 Axes>"
      ]
     },
     "metadata": {},
     "output_type": "display_data"
    }
   ],
   "source": [
    "print(metrics.classification_report(y_test, my_label, zero_division=0))\n",
    "print(metrics.confusion_matrix(y_test, my_label))\n",
    "\n",
    "%matplotlib inline\n",
    "fig, ax = plt.subplots()\n",
    "cmap=plt.cm.Blues\n",
    "ax.imshow(metrics.confusion_matrix(y_test, my_label), cmap=cmap)\n",
    "fig.set_figwidth(6)    \n",
    "fig.set_figheight(6)     \n",
    "plt.show()"
   ]
  },
  {
   "cell_type": "markdown",
   "id": "601e4e5e",
   "metadata": {},
   "source": [
    "## Тестирование"
   ]
  },
  {
   "cell_type": "code",
   "execution_count": 6,
   "id": "86ff0f40",
   "metadata": {},
   "outputs": [
    {
     "name": "stdout",
     "output_type": "stream",
     "text": [
      "Dataset size (8048, 2)\n",
      "row number:  8048\n",
      "feature number:  2\n",
      "\n",
      "names of features:  ['original_data', 'score']\n",
      "-------------------\n",
      "full data loaded\n",
      "-------------------\n"
     ]
    }
   ],
   "source": [
    "# читаем данные из файла\n",
    "f = 'test_data_exam_1.xlsx'\n",
    "df1 = pd.read_excel(f, 0)  \n",
    "print('Dataset size', df1.shape)\n",
    "num_rows, num_feature = df1.shape\n",
    "\n",
    "print('row number: ', num_rows)\n",
    "print('feature number: ', num_feature)\n",
    "print()\n",
    "print('names of features: ', list(df1))\n",
    "\n",
    "print('-------------------')\n",
    "print('full data loaded')\n",
    "print('-------------------')"
   ]
  },
  {
   "cell_type": "code",
   "execution_count": 8,
   "id": "501244e8",
   "metadata": {},
   "outputs": [
    {
     "name": "stderr",
     "output_type": "stream",
     "text": [
      "100%|██████████| 8048/8048 [03:47<00:00, 35.39it/s]"
     ]
    },
    {
     "name": "stdout",
     "output_type": "stream",
     "text": [
      "time of execution (sec) 227.39617896080017\n"
     ]
    },
    {
     "name": "stderr",
     "output_type": "stream",
     "text": [
      "\n"
     ]
    }
   ],
   "source": [
    "morph = pymorphy2.MorphAnalyzer()\n",
    "\n",
    "start = time.time()\n",
    "\n",
    "y_data1 = []\n",
    "for i in tqdm(range(num_rows)):\n",
    "    s = str(df1['original_data'][i])\n",
    "    s1 = re.sub(r\"[,.?“/!@#$1234567890#—ツ►๑۩۞۩•*”˜˜”*°°*`)(]\", '', s)\n",
    "    tokens = word_tokenize(s1)\n",
    "    doc_stem=''\n",
    "    for j in range(0,len(tokens)):\n",
    "        tokens[j] = morph.parse(tokens[j])[0].normal_form\n",
    "        doc_stem = doc_stem + tokens[j] + ' '\n",
    "    \n",
    "    y_data1.append(doc_stem)\n",
    "\n",
    "stop = time.time()    \n",
    "\n",
    "print('time of execution (sec)', stop - start)"
   ]
  },
  {
   "cell_type": "code",
   "execution_count": 12,
   "id": "1a387bc2",
   "metadata": {},
   "outputs": [],
   "source": [
    "vectorizer = pickle.load(open(\"vectorizer15.pk\", \"rb\"))"
   ]
  },
  {
   "cell_type": "code",
   "execution_count": 14,
   "id": "095b8df9",
   "metadata": {},
   "outputs": [
    {
     "name": "stdout",
     "output_type": "stream",
     "text": [
      "Vectorization of documents\n",
      "documents number :  8048 feature number:  35903\n"
     ]
    }
   ],
   "source": [
    "print('Vectorization of documents')\n",
    "\n",
    "data1 = vectorizer.transform(y_data1).toarray()\n",
    "\n",
    "num_docs, num_feature =data1.shape\n",
    "print('documents number : ', num_docs, 'feature number: ', num_feature)"
   ]
  },
  {
   "cell_type": "code",
   "execution_count": 16,
   "id": "9cf2fddc",
   "metadata": {},
   "outputs": [
    {
     "name": "stdout",
     "output_type": "stream",
     "text": [
      "(8048, 35903)\n",
      "итоговый размер:  (8048, 35904)\n",
      "(4199, 35904)\n",
      "(2747, 35904)\n",
      "(524, 35904)\n",
      "(473, 35904)\n",
      "(105, 35904)\n"
     ]
    }
   ],
   "source": [
    "newdata1 = pd.DataFrame(data=data1)\n",
    "print(newdata1.shape)\n",
    "newdata1 = pd.concat([newdata1, df1['score']], axis=1)\n",
    "print('итоговый размер: ', newdata1.shape)\n",
    "\n",
    "# upsampling\n",
    "#  выделим строки с определеными классами\n",
    "neut_df1= newdata1[newdata1['score'] == 0]\n",
    "neg_df1= newdata1[newdata1['score'] == -1]\n",
    "pos_df1= newdata1[newdata1['score'] == 1]\n",
    "super_neg_df1 = newdata1[newdata1['score'] == -2]\n",
    "super_pos_df1= newdata1[newdata1['score'] == 2]\n",
    "\n",
    "print(neut_df1.shape)\n",
    "print(neg_df1.shape)\n",
    "print(pos_df1.shape)\n",
    "print(super_neg_df1.shape)\n",
    "print(super_pos_df1.shape)\n"
   ]
  },
  {
   "cell_type": "code",
   "execution_count": 18,
   "id": "9933dba3",
   "metadata": {},
   "outputs": [
    {
     "name": "stdout",
     "output_type": "stream",
     "text": [
      "neg_dataset before sampling:  (2747, 35904)\n",
      "neg_dataset after sampling:  (4199, 35904)\n",
      "pos_dataset before sampling:  (524, 35904)\n",
      "pos_dataset after sampling:  (4199, 35904)\n",
      "super_neg_dataset before sampling:  (473, 35904)\n",
      "super_neg_dataset after sampling:  (4199, 35904)\n",
      "super_pos_dataset before sampling:  (105, 35904)\n",
      "neg_dataset after sampling:  (4199, 35904)\n"
     ]
    }
   ],
   "source": [
    "print('neg_dataset before sampling: ', neg_df1.shape)\n",
    "\n",
    "neg_downsample = resample(neg_df1,\n",
    "             replace=True,\n",
    "             n_samples=4199,\n",
    "             random_state=42)\n",
    "\n",
    "print('neg_dataset after sampling: ', neg_downsample.shape)\n",
    "\n",
    "print('pos_dataset before sampling: ', pos_df1.shape)\n",
    "\n",
    "pos_downsample = resample(pos_df1,\n",
    "             replace=True,\n",
    "             n_samples=4199,\n",
    "             random_state=42)\n",
    "\n",
    "print('pos_dataset after sampling: ', pos_downsample.shape)\n",
    "\n",
    "print('super_neg_dataset before sampling: ', super_neg_df1.shape)\n",
    "\n",
    "super_neg_downsample = resample(super_neg_df1,\n",
    "             replace=True,\n",
    "             n_samples=4199,\n",
    "             random_state=42)\n",
    "\n",
    "print('super_neg_dataset after sampling: ', super_neg_downsample.shape)\n",
    "\n",
    "print('super_pos_dataset before sampling: ', super_pos_df1.shape)\n",
    "\n",
    "super_pos_downsample = resample(super_pos_df1,\n",
    "             replace=True,\n",
    "             n_samples=4199,\n",
    "             random_state=42)\n",
    "\n",
    "print('neg_dataset after sampling: ', super_pos_downsample.shape)\n"
   ]
  },
  {
   "cell_type": "code",
   "execution_count": 9,
   "id": "000d82a1",
   "metadata": {},
   "outputs": [
    {
     "name": "stdout",
     "output_type": "stream",
     "text": [
      "(20995, 35904)\n"
     ]
    }
   ],
   "source": [
    "full_up_sample = pd.concat([super_neg_downsample, neg_downsample, neut_df1, pos_downsample, super_pos_downsample])\n",
    "print(full_up_sample.shape)"
   ]
  },
  {
   "cell_type": "code",
   "execution_count": 11,
   "id": "29b12946",
   "metadata": {},
   "outputs": [],
   "source": [
    "Y = full_up_sample['score'].values\n",
    "X = full_up_sample[full_up_sample.columns[:-1]].to_numpy()"
   ]
  },
  {
   "cell_type": "code",
   "execution_count": 10,
   "id": "52662d47",
   "metadata": {},
   "outputs": [],
   "source": [
    "with open(\"model_up_RF15.pkl\", \"rb\") as f:\n",
    "    modelRF15 = pickle.load(f)"
   ]
  },
  {
   "cell_type": "code",
   "execution_count": 12,
   "id": "f65c34e4",
   "metadata": {},
   "outputs": [
    {
     "name": "stdout",
     "output_type": "stream",
     "text": [
      "              precision    recall  f1-score   support\n",
      "\n",
      "          -2       0.61      0.19      0.29      4199\n",
      "          -1       0.27      0.39      0.32      4199\n",
      "           0       0.25      0.62      0.36      4199\n",
      "           1       0.38      0.25      0.30      4199\n",
      "           2       0.86      0.10      0.18      4199\n",
      "\n",
      "    accuracy                           0.31     20995\n",
      "   macro avg       0.47      0.31      0.29     20995\n",
      "weighted avg       0.47      0.31      0.29     20995\n",
      "\n",
      "[[ 788 1407 1861  120   23]\n",
      " [ 239 1632 2052  269    7]\n",
      " [ 124 1131 2623  306   15]\n",
      " [ 147  961 2032 1032   27]\n",
      " [   0 1007 1790  976  426]]\n"
     ]
    }
   ],
   "source": [
    "predictedRF = modelRF15.predict(X)\n",
    "print(metrics.classification_report(Y, predictedRF, zero_division=0))\n",
    "print(metrics.confusion_matrix(Y, predictedRF))"
   ]
  },
  {
   "cell_type": "code",
   "execution_count": 13,
   "id": "028ef36a",
   "metadata": {},
   "outputs": [],
   "source": [
    "with open(\"my_modelKNN15.pkl\", \"rb\") as f:\n",
    "    modelKNN15 = pickle.load(f)"
   ]
  },
  {
   "cell_type": "code",
   "execution_count": 29,
   "id": "86dd6178",
   "metadata": {},
   "outputs": [
    {
     "name": "stdout",
     "output_type": "stream",
     "text": [
      "              precision    recall  f1-score   support\n",
      "\n",
      "          -2       0.83      0.15      0.25      4199\n",
      "          -1       0.48      0.11      0.18      4199\n",
      "           0       0.22      0.94      0.36      4199\n",
      "           1       0.64      0.14      0.23      4199\n",
      "           2       0.87      0.09      0.17      4199\n",
      "\n",
      "    accuracy                           0.29     20995\n",
      "   macro avg       0.61      0.29      0.24     20995\n",
      "weighted avg       0.61      0.29      0.24     20995\n",
      "\n",
      "[[ 614  180 3351   41   13]\n",
      " [  77  463 3617   36    6]\n",
      " [  23  156 3939   67   14]\n",
      " [   0   73 3507  592   27]\n",
      " [  28   87 3499  191  394]]\n"
     ]
    }
   ],
   "source": [
    "predictedKNN = modelKNN15.predict(X)\n",
    "print(metrics.classification_report(Y, predictedKNN, zero_division=0))\n",
    "print(metrics.confusion_matrix(Y, predictedKNN))"
   ]
  },
  {
   "cell_type": "code",
   "execution_count": 37,
   "id": "4821c223",
   "metadata": {},
   "outputs": [],
   "source": [
    "with open(\"my_modelSVM15.pkl\", \"rb\") as f:\n",
    "    modelSVM = pickle.load(f)"
   ]
  },
  {
   "cell_type": "code",
   "execution_count": 38,
   "id": "67797954",
   "metadata": {},
   "outputs": [],
   "source": [
    "Y = df1['score'].values"
   ]
  },
  {
   "cell_type": "code",
   "execution_count": 39,
   "id": "50385479",
   "metadata": {},
   "outputs": [
    {
     "name": "stdout",
     "output_type": "stream",
     "text": [
      "              precision    recall  f1-score   support\n",
      "\n",
      "          -2       0.43      0.15      0.22       473\n",
      "          -1       0.47      0.41      0.44      2747\n",
      "           0       0.60      0.74      0.66      4199\n",
      "           1       0.40      0.19      0.26       524\n",
      "           2       0.44      0.11      0.18       105\n",
      "\n",
      "    accuracy                           0.55      8048\n",
      "   macro avg       0.47      0.32      0.35      8048\n",
      "weighted avg       0.53      0.55      0.53      8048\n",
      "\n",
      "[[  71  187  209    5    1]\n",
      " [  62 1137 1516   30    2]\n",
      " [  31  938 3127   94    9]\n",
      " [   1  115  305  100    3]\n",
      " [   2   19   52   20   12]]\n"
     ]
    }
   ],
   "source": [
    "from sklearn import metrics\n",
    "\n",
    "predictedRF = modelSVM.predict(data1)\n",
    "print(metrics.classification_report(Y, predictedRF, zero_division=0))\n",
    "print(metrics.confusion_matrix(Y, predictedRF))"
   ]
  }
 ],
 "metadata": {
  "kernelspec": {
   "display_name": "Python 3 (ipykernel)",
   "language": "python",
   "name": "python3"
  },
  "language_info": {
   "codemirror_mode": {
    "name": "ipython",
    "version": 3
   },
   "file_extension": ".py",
   "mimetype": "text/x-python",
   "name": "python",
   "nbconvert_exporter": "python",
   "pygments_lexer": "ipython3",
   "version": "3.9.19"
  }
 },
 "nbformat": 4,
 "nbformat_minor": 5
}
