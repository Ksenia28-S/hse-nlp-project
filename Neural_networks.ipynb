{
 "cells": [
  {
   "cell_type": "code",
   "execution_count": 3,
   "metadata": {},
   "outputs": [
    {
     "name": "stderr",
     "output_type": "stream",
     "text": [
      "[nltk_data] Downloading package stopwords to\n",
      "[nltk_data]     C:\\Users\\PC\\AppData\\Roaming\\nltk_data...\n",
      "[nltk_data]   Package stopwords is already up-to-date!\n",
      "[nltk_data] Downloading package punkt to\n",
      "[nltk_data]     C:\\Users\\PC\\AppData\\Roaming\\nltk_data...\n",
      "[nltk_data]   Package punkt is already up-to-date!\n",
      "[nltk_data] Downloading package wordnet to\n",
      "[nltk_data]     C:\\Users\\PC\\AppData\\Roaming\\nltk_data...\n",
      "[nltk_data]   Package wordnet is already up-to-date!\n",
      "[nltk_data] Downloading package omw-1.4 to\n",
      "[nltk_data]     C:\\Users\\PC\\AppData\\Roaming\\nltk_data...\n",
      "[nltk_data]   Package omw-1.4 is already up-to-date!\n"
     ]
    }
   ],
   "source": [
    "import numpy as np\n",
    "import pandas as pd\n",
    "import nltk\n",
    "from nltk.stem import WordNetLemmatizer\n",
    "from nltk.tokenize import sent_tokenize, word_tokenize\n",
    "from tqdm import tqdm\n",
    "import re\n",
    "import pymorphy2\n",
    "import string\n",
    "import gensim\n",
    "from gensim.models.doc2vec import Doc2Vec, TaggedDocument\n",
    "from nltk.tokenize import word_tokenize\n",
    "from sklearn.model_selection import train_test_split, ShuffleSplit\n",
    "from sklearn.utils import shuffle, resample\n",
    "import time\n",
    "from sklearn import metrics\n",
    "import matplotlib.pyplot as plt\n",
    "import pickle\n",
    "nltk.download('stopwords')\n",
    "nltk.download('punkt')\n",
    "nltk.download('wordnet')\n",
    "nltk.download('omw-1.4')\n",
    "from nltk.corpus import stopwords\n",
    "from keras.models import Sequential\n",
    "from keras.layers import Dense, Embedding, LSTM, Conv1D, MaxPooling1D, Bidirectional, Dropout, GRU, SimpleRNN, GlobalMaxPooling1D\n",
    "from keras import metrics\n",
    "from keras import regularizers\n",
    "from keras.utils import plot_model\n",
    "from keras.optimizers import Adam, SGD\n",
    "from keras.metrics import Precision, Recall"
   ]
  },
  {
   "cell_type": "markdown",
   "metadata": {
    "id": "QeFsimD9xXjH"
   },
   "source": [
    "## **Предобработка**"
   ]
  },
  {
   "cell_type": "code",
   "execution_count": null,
   "metadata": {
    "colab": {
     "base_uri": "https://localhost:8080/"
    },
    "executionInfo": {
     "elapsed": 6365,
     "status": "ok",
     "timestamp": 1679609613533,
     "user": {
      "displayName": "Ксения Сливкина",
      "userId": "17330713614842707096"
     },
     "user_tz": -180
    },
    "id": "hxK5gUtW3yrC",
    "outputId": "7d02faa1-503e-4ca0-e3f3-ac6d4c69a33f"
   },
   "outputs": [
    {
     "name": "stdout",
     "output_type": "stream",
     "text": [
      "Dataset size (18779, 2)\n",
      "row number:  18779\n",
      "feature number:  2\n",
      "\n",
      "names of features:  ['original_data', 'score']\n",
      "-------------------\n",
      "full data loaded\n",
      "-------------------\n"
     ]
    }
   ],
   "source": [
    "# читаем данные из файла\n",
    "f = '/content/drive/MyDrive/NLP/train_data_exam_1.xlsx'\n",
    "df = pd.read_excel(f, 0)  \n",
    "print('Dataset size', df.shape)\n",
    "num_rows, num_feature = df.shape\n",
    "\n",
    "print('row number: ', num_rows)\n",
    "print('feature number: ', num_feature)\n",
    "print()\n",
    "print('names of features: ', list(df))\n",
    "\n",
    "print('-------------------')\n",
    "print('full data loaded')\n",
    "print('-------------------')"
   ]
  },
  {
   "cell_type": "code",
   "execution_count": 5,
   "metadata": {
    "colab": {
     "base_uri": "https://localhost:8080/"
    },
    "executionInfo": {
     "elapsed": 313,
     "status": "ok",
     "timestamp": 1679609615331,
     "user": {
      "displayName": "Ксения Сливкина",
      "userId": "17330713614842707096"
     },
     "user_tz": -180
    },
    "id": "opqG5DCe6ogB",
    "outputId": "2d3e6242-620c-4d3c-bde9-7415d3b1fe8d"
   },
   "outputs": [],
   "source": [
    "# Init the Wordnet Lemmatizer\n",
    "lemmatizer = WordNetLemmatizer()"
   ]
  },
  {
   "cell_type": "code",
   "execution_count": null,
   "metadata": {
    "colab": {
     "base_uri": "https://localhost:8080/"
    },
    "executionInfo": {
     "elapsed": 912023,
     "status": "ok",
     "timestamp": 1679613240287,
     "user": {
      "displayName": "Ксения Сливкина",
      "userId": "17330713614842707096"
     },
     "user_tz": -180
    },
    "id": "R1BsjSPP-xkQ",
    "outputId": "b4d99fdd-1688-4df8-eca3-4c9b095d6b60"
   },
   "outputs": [
    {
     "name": "stderr",
     "output_type": "stream",
     "text": [
      "[nltk_data] Downloading package stopwords to /root/nltk_data...\n",
      "[nltk_data]   Package stopwords is already up-to-date!\n",
      "100%|██████████| 18779/18779 [15:11<00:00, 20.60it/s]"
     ]
    },
    {
     "name": "stdout",
     "output_type": "stream",
     "text": [
      "Lematization is over\n"
     ]
    },
    {
     "name": "stderr",
     "output_type": "stream",
     "text": [
      "\n"
     ]
    }
   ],
   "source": [
    "stop = set(stopwords.words(\"russian\") + list(string.punctuation))\n",
    "\n",
    "lemm_data = []\n",
    "y_data = []\n",
    "morph = pymorphy2.MorphAnalyzer()\n",
    "\n",
    "for i in tqdm(range(num_rows)):\n",
    "\n",
    "    s = str(df['original_data'][i])\n",
    "    s1 = re.sub(r\"[,.?“/!@#$1234567890#—ツ►๑۩۞۩•*”˜˜”*°°*`)(]\", '', s)\n",
    "    word_list = nltk.word_tokenize(s1)\n",
    "    for j in range(0,len(word_list)):\n",
    "        word_list[j] = morph.parse(word_list[j])[0].normal_form\n",
    "    word_list = [w for w in word_list if not w in stop]  \n",
    "    lemmatized_output = ' '.join([lemmatizer.lemmatize(w) for w in word_list])\n",
    "    lemm_data.append(lemmatized_output)\n",
    "    y_data.append(word_list)\n",
    "    \n",
    "print('Lematization is over')"
   ]
  },
  {
   "cell_type": "code",
   "execution_count": null,
   "metadata": {
    "colab": {
     "base_uri": "https://localhost:8080/"
    },
    "executionInfo": {
     "elapsed": 220,
     "status": "ok",
     "timestamp": 1679613287097,
     "user": {
      "displayName": "Ксения Сливкина",
      "userId": "17330713614842707096"
     },
     "user_tz": -180
    },
    "id": "lhC-Nvj6FG0H",
    "outputId": "9a83ccea-e610-4864-cc79-7cb051cebc86"
   },
   "outputs": [
    {
     "data": {
      "text/plain": [
       "18779"
      ]
     },
     "execution_count": 36,
     "metadata": {},
     "output_type": "execute_result"
    }
   ],
   "source": [
    "len(y_data)"
   ]
  },
  {
   "cell_type": "code",
   "execution_count": null,
   "metadata": {
    "id": "EaEVzDWJR4MF"
   },
   "outputs": [],
   "source": [
    "df[\"processed_data\"] = lemm_data"
   ]
  },
  {
   "cell_type": "code",
   "execution_count": null,
   "metadata": {
    "colab": {
     "base_uri": "https://localhost:8080/"
    },
    "executionInfo": {
     "elapsed": 2,
     "status": "ok",
     "timestamp": 1679613290173,
     "user": {
      "displayName": "Ксения Сливкина",
      "userId": "17330713614842707096"
     },
     "user_tz": -180
    },
    "id": "aVPpBgbbrM4j",
    "outputId": "3d1ed1a4-0b6d-4e1f-87a7-2af5a2e8d71e"
   },
   "outputs": [
    {
     "name": "stdout",
     "output_type": "stream",
     "text": [
      "(9795, 3)\n",
      "(6468, 3)\n",
      "(1206, 3)\n",
      "(1060, 3)\n",
      "(250, 3)\n"
     ]
    }
   ],
   "source": [
    "#  выделим строки с определеными классами\n",
    "neut_df= df[df['score'] == 0]\n",
    "neg_df= df[df['score'] == -1]\n",
    "pos_df= df[df['score'] == 1]\n",
    "super_neg_df = df[df['score'] == -2]\n",
    "super_pos_df= df[df['score'] == 2]\n",
    "\n",
    "print(neut_df.shape)\n",
    "print(neg_df.shape)\n",
    "print(pos_df.shape)\n",
    "print(super_neg_df.shape)\n",
    "print(super_pos_df.shape)"
   ]
  },
  {
   "cell_type": "code",
   "execution_count": null,
   "metadata": {
    "id": "3b0Uq0pMsjWl"
   },
   "outputs": [],
   "source": [
    "major_count = 9795\n",
    "neg_downsample = resample(neg_df,\n",
    "             replace=True,\n",
    "             n_samples=major_count,\n",
    "             random_state=42)\n",
    "\n",
    "pos_downsample = resample(pos_df,\n",
    "             replace=True,\n",
    "             n_samples=major_count,\n",
    "             random_state=42)\n",
    "\n",
    "super_neg_downsample = resample(super_neg_df,\n",
    "             replace=True,\n",
    "             n_samples=major_count,\n",
    "             random_state=42)\n",
    "\n",
    "super_pos_downsample = resample(super_pos_df,\n",
    "             replace=True,\n",
    "             n_samples=major_count,\n",
    "             random_state=42)\n"
   ]
  },
  {
   "cell_type": "code",
   "execution_count": null,
   "metadata": {
    "colab": {
     "base_uri": "https://localhost:8080/"
    },
    "executionInfo": {
     "elapsed": 2,
     "status": "ok",
     "timestamp": 1679613293046,
     "user": {
      "displayName": "Ксения Сливкина",
      "userId": "17330713614842707096"
     },
     "user_tz": -180
    },
    "id": "FyZx-XHitAAT",
    "outputId": "6c526094-e0ea-4321-f48a-5608e22ad515"
   },
   "outputs": [
    {
     "name": "stdout",
     "output_type": "stream",
     "text": [
      "(48975, 3)\n"
     ]
    }
   ],
   "source": [
    "full_up_sample = pd.concat([super_neg_downsample, neg_downsample, neut_df, pos_downsample, super_pos_downsample])\n",
    "full_up_sample = shuffle(full_up_sample, random_state = 200) \n",
    "print(full_up_sample.shape)"
   ]
  },
  {
   "cell_type": "code",
   "execution_count": null,
   "metadata": {
    "colab": {
     "base_uri": "https://localhost:8080/"
    },
    "executionInfo": {
     "elapsed": 55523,
     "status": "ok",
     "timestamp": 1679613357869,
     "user": {
      "displayName": "Ксения Сливкина",
      "userId": "17330713614842707096"
     },
     "user_tz": -180
    },
    "id": "H4TsBn6wtgNf",
    "outputId": "dd430565-1181-4020-9bb0-cbc4b5fd94db"
   },
   "outputs": [
    {
     "name": "stdout",
     "output_type": "stream",
     "text": [
      "88972\n"
     ]
    }
   ],
   "source": [
    "tokenizer = Tokenizer()\n",
    "tokenizer.fit_on_texts(full_up_sample['processed_data'])\n",
    "\n",
    "X = tokenizer.texts_to_sequences(full_up_sample['processed_data'].values)\n",
    "\n",
    "vocab_size = len(tokenizer.word_index) + 1\n",
    "print(vocab_size)  \n",
    "\n",
    "max_len = 50\n",
    "X_pad = pad_sequences(X, maxlen = max_len, padding='post', truncating='post') "
   ]
  },
  {
   "cell_type": "code",
   "execution_count": null,
   "metadata": {
    "id": "rtu7gc5S5eUv"
   },
   "outputs": [],
   "source": [
    "Y = pd.get_dummies(full_up_sample['score']).values"
   ]
  },
  {
   "cell_type": "code",
   "execution_count": null,
   "metadata": {
    "colab": {
     "base_uri": "https://localhost:8080/"
    },
    "executionInfo": {
     "elapsed": 5,
     "status": "ok",
     "timestamp": 1679613357870,
     "user": {
      "displayName": "Ксения Сливкина",
      "userId": "17330713614842707096"
     },
     "user_tz": -180
    },
    "id": "gHml1-qC1x2Q",
    "outputId": "73b3045f-a4df-42bf-f76e-19cf32d63a20"
   },
   "outputs": [
    {
     "name": "stdout",
     "output_type": "stream",
     "text": [
      "Test collection size:  (9795, 50)\n",
      "Training collection size:  (39180, 50)\n"
     ]
    }
   ],
   "source": [
    "X_train, X_test, y_train, y_test = train_test_split(X_pad, Y, test_size=0.2, random_state=42)\n",
    "\n",
    "print('Test collection size: ', X_test.shape)\n",
    "print('Training collection size: ', X_train.shape)"
   ]
  },
  {
   "cell_type": "markdown",
   "metadata": {
    "id": "rkPB6H-fyOJ4"
   },
   "source": [
    "## **Модели**"
   ]
  },
  {
   "cell_type": "code",
   "execution_count": null,
   "metadata": {
    "colab": {
     "base_uri": "https://localhost:8080/"
    },
    "executionInfo": {
     "elapsed": 2215,
     "status": "ok",
     "timestamp": 1679598040031,
     "user": {
      "displayName": "Ксения Сливкина",
      "userId": "17330713614842707096"
     },
     "user_tz": -180
    },
    "id": "_4rpkXUbeb8k",
    "outputId": "02263c8d-9a67-4fe1-fdef-37c8b3d5d169"
   },
   "outputs": [
    {
     "name": "stdout",
     "output_type": "stream",
     "text": [
      "Model: \"sequential\"\n",
      "_________________________________________________________________\n",
      " Layer (type)                Output Shape              Param #   \n",
      "=================================================================\n",
      " embedding (Embedding)       (None, 50, 20)            1779440   \n",
      "                                                                 \n",
      " lstm (LSTM)                 (None, 50)                14200     \n",
      "                                                                 \n",
      " dense (Dense)               (None, 5)                 255       \n",
      "                                                                 \n",
      "=================================================================\n",
      "Total params: 1,793,895\n",
      "Trainable params: 1,793,895\n",
      "Non-trainable params: 0\n",
      "_________________________________________________________________\n",
      "None\n"
     ]
    }
   ],
   "source": [
    "# LSTM\n",
    "max_len = 50\n",
    "embed_dim = 20\n",
    "lstm_out = 50\n",
    "def buildModel():     \n",
    "    model = Sequential()\n",
    "    model.add(Embedding(vocab_size, embed_dim, input_length=max_len))\n",
    "    model.add(LSTM(lstm_out, dropout = 0.5))\n",
    "    model.add(Dense(5, activation='softmax')) \n",
    "    model.compile(loss='categorical_crossentropy', optimizer='adam', metrics=['accuracy'])\n",
    "    return model\n",
    "model = buildModel()\n",
    "print(model.summary())"
   ]
  },
  {
   "cell_type": "code",
   "execution_count": null,
   "metadata": {
    "colab": {
     "base_uri": "https://localhost:8080/",
     "height": 369
    },
    "executionInfo": {
     "elapsed": 227,
     "status": "ok",
     "timestamp": 1679598047996,
     "user": {
      "displayName": "Ксения Сливкина",
      "userId": "17330713614842707096"
     },
     "user_tz": -180
    },
    "id": "yjAqQ7zhxIV3",
    "outputId": "c8a74b3c-1d76-46ef-8822-a1587d396cac"
   },
   "outputs": [
    {
     "data": {
      "image/png": "[encoded data removed]",
      "text/plain": [
       "<IPython.core.display.Image object>"
      ]
     },
     "execution_count": 17,
     "metadata": {},
     "output_type": "execute_result"
    }
   ],
   "source": [
    "plot_model(model, to_file='modelLSTM.png')"
   ]
  },
  {
   "cell_type": "code",
   "execution_count": null,
   "metadata": {
    "colab": {
     "base_uri": "https://localhost:8080/"
    },
    "executionInfo": {
     "elapsed": 1166136,
     "status": "ok",
     "timestamp": 1679599234897,
     "user": {
      "displayName": "Ксения Сливкина",
      "userId": "17330713614842707096"
     },
     "user_tz": -180
    },
    "id": "XG0oxo78qMHM",
    "outputId": "69700c08-0c31-4530-af42-a7bfca112e25"
   },
   "outputs": [
    {
     "name": "stdout",
     "output_type": "stream",
     "text": [
      "Epoch 1/30\n",
      "582/582 [==============================] - 56s 88ms/step - loss: 1.0097 - accuracy: 0.5534 - val_loss: 0.6842 - val_accuracy: 0.7228\n",
      "Epoch 2/30\n",
      "582/582 [==============================] - 40s 69ms/step - loss: 0.5636 - accuracy: 0.7787 - val_loss: 0.5572 - val_accuracy: 0.7953\n",
      "Epoch 3/30\n",
      "582/582 [==============================] - 37s 64ms/step - loss: 0.4568 - accuracy: 0.8364 - val_loss: 0.4968 - val_accuracy: 0.8193\n",
      "Epoch 4/30\n",
      "582/582 [==============================] - 37s 64ms/step - loss: 0.3983 - accuracy: 0.8629 - val_loss: 0.4735 - val_accuracy: 0.8331\n",
      "Epoch 5/30\n",
      "582/582 [==============================] - 37s 64ms/step - loss: 0.3590 - accuracy: 0.8789 - val_loss: 0.4615 - val_accuracy: 0.8418\n",
      "Epoch 6/30\n",
      "582/582 [==============================] - 36s 62ms/step - loss: 0.3350 - accuracy: 0.8866 - val_loss: 0.4682 - val_accuracy: 0.8397\n",
      "Epoch 7/30\n",
      "582/582 [==============================] - 36s 62ms/step - loss: 0.3149 - accuracy: 0.8918 - val_loss: 0.4552 - val_accuracy: 0.8392\n",
      "Epoch 8/30\n",
      "582/582 [==============================] - 37s 64ms/step - loss: 0.3016 - accuracy: 0.8944 - val_loss: 0.4660 - val_accuracy: 0.8392\n",
      "Epoch 9/30\n",
      "582/582 [==============================] - 35s 59ms/step - loss: 0.2904 - accuracy: 0.8972 - val_loss: 0.4611 - val_accuracy: 0.8367\n",
      "Epoch 10/30\n",
      "582/582 [==============================] - 35s 61ms/step - loss: 0.2791 - accuracy: 0.8984 - val_loss: 0.4594 - val_accuracy: 0.8423\n",
      "Epoch 11/30\n",
      "582/582 [==============================] - 35s 61ms/step - loss: 0.2715 - accuracy: 0.8997 - val_loss: 0.4754 - val_accuracy: 0.8458\n",
      "Epoch 12/30\n",
      "582/582 [==============================] - 38s 65ms/step - loss: 0.2647 - accuracy: 0.9014 - val_loss: 0.4856 - val_accuracy: 0.8484\n",
      "Epoch 13/30\n",
      "582/582 [==============================] - 37s 63ms/step - loss: 0.2553 - accuracy: 0.9027 - val_loss: 0.4848 - val_accuracy: 0.8540\n",
      "Epoch 14/30\n",
      "582/582 [==============================] - 39s 67ms/step - loss: 0.2503 - accuracy: 0.9049 - val_loss: 0.4838 - val_accuracy: 0.8407\n",
      "Epoch 15/30\n",
      "582/582 [==============================] - 37s 63ms/step - loss: 0.2463 - accuracy: 0.9046 - val_loss: 0.4916 - val_accuracy: 0.8423\n",
      "Epoch 16/30\n",
      "582/582 [==============================] - 37s 63ms/step - loss: 0.2419 - accuracy: 0.9066 - val_loss: 0.5063 - val_accuracy: 0.8530\n",
      "Epoch 17/30\n",
      "582/582 [==============================] - 37s 63ms/step - loss: 0.2378 - accuracy: 0.9077 - val_loss: 0.4802 - val_accuracy: 0.8520\n",
      "Epoch 18/30\n",
      "582/582 [==============================] - 36s 62ms/step - loss: 0.2361 - accuracy: 0.9079 - val_loss: 0.5254 - val_accuracy: 0.8560\n",
      "Epoch 19/30\n",
      "582/582 [==============================] - 38s 65ms/step - loss: 0.2335 - accuracy: 0.9078 - val_loss: 0.4919 - val_accuracy: 0.8443\n",
      "Epoch 20/30\n",
      "582/582 [==============================] - 38s 65ms/step - loss: 0.2299 - accuracy: 0.9094 - val_loss: 0.5600 - val_accuracy: 0.8479\n",
      "Epoch 21/30\n",
      "582/582 [==============================] - 38s 65ms/step - loss: 0.2249 - accuracy: 0.9096 - val_loss: 0.5607 - val_accuracy: 0.8494\n",
      "Epoch 22/30\n",
      "582/582 [==============================] - 37s 64ms/step - loss: 0.2245 - accuracy: 0.9115 - val_loss: 0.5504 - val_accuracy: 0.8458\n",
      "Epoch 23/30\n",
      "582/582 [==============================] - 37s 63ms/step - loss: 0.2220 - accuracy: 0.9120 - val_loss: 0.5665 - val_accuracy: 0.8474\n",
      "Epoch 24/30\n",
      "582/582 [==============================] - 38s 66ms/step - loss: 0.2210 - accuracy: 0.9116 - val_loss: 0.5464 - val_accuracy: 0.8520\n",
      "Epoch 25/30\n",
      "582/582 [==============================] - 39s 67ms/step - loss: 0.2189 - accuracy: 0.9115 - val_loss: 0.5600 - val_accuracy: 0.8530\n",
      "Epoch 26/30\n",
      "582/582 [==============================] - 37s 64ms/step - loss: 0.2174 - accuracy: 0.9123 - val_loss: 0.5577 - val_accuracy: 0.8479\n",
      "Epoch 27/30\n",
      "582/582 [==============================] - 38s 65ms/step - loss: 0.2156 - accuracy: 0.9130 - val_loss: 0.5617 - val_accuracy: 0.8464\n",
      "Epoch 28/30\n",
      "582/582 [==============================] - 38s 65ms/step - loss: 0.2150 - accuracy: 0.9134 - val_loss: 0.5877 - val_accuracy: 0.8484\n",
      "Epoch 29/30\n",
      "582/582 [==============================] - 36s 63ms/step - loss: 0.2124 - accuracy: 0.9139 - val_loss: 0.5785 - val_accuracy: 0.8402\n",
      "Epoch 30/30\n",
      "582/582 [==============================] - 38s 65ms/step - loss: 0.2145 - accuracy: 0.9139 - val_loss: 0.6222 - val_accuracy: 0.8438\n"
     ]
    },
    {
     "data": {
      "text/plain": [
       "<keras.callbacks.History at 0x7fc8d4093760>"
      ]
     },
     "execution_count": 18,
     "metadata": {},
     "output_type": "execute_result"
    }
   ],
   "source": [
    "model.fit(X_train, y_train, validation_split=0.05, epochs=30, batch_size=64)"
   ]
  },
  {
   "cell_type": "code",
   "execution_count": null,
   "metadata": {
    "colab": {
     "base_uri": "https://localhost:8080/"
    },
    "executionInfo": {
     "elapsed": 1148,
     "status": "ok",
     "timestamp": 1679599300943,
     "user": {
      "displayName": "Ксения Сливкина",
      "userId": "17330713614842707096"
     },
     "user_tz": -180
    },
    "id": "5S9z233D8OKR",
    "outputId": "644cf8c7-928a-412b-9a22-99170eabed18"
   },
   "outputs": [
    {
     "name": "stdout",
     "output_type": "stream",
     "text": [
      "Keras weights file (<HDF5 file \"variables.h5\" (mode r+)>) saving:\n",
      "...layers\n",
      "......dense\n",
      ".........vars\n",
      "............0\n",
      "............1\n",
      "......embedding\n",
      ".........vars\n",
      "............0\n",
      "......lstm\n",
      ".........cell\n",
      "............vars\n",
      "...............0\n",
      "...............1\n",
      "...............2\n",
      ".........vars\n",
      "...metrics\n",
      "......mean\n",
      ".........vars\n",
      "............0\n",
      "............1\n",
      "......mean_metric_wrapper\n",
      ".........vars\n",
      "............0\n",
      "............1\n",
      "...optimizer\n",
      "......vars\n",
      ".........0\n",
      ".........1\n",
      ".........10\n",
      ".........11\n",
      ".........12\n",
      ".........2\n",
      ".........3\n",
      ".........4\n",
      ".........5\n",
      ".........6\n",
      ".........7\n",
      ".........8\n",
      ".........9\n",
      "...vars\n",
      "Keras model archive saving:\n",
      "File Name                                             Modified             Size\n",
      "metadata.json                                  2023-03-23 19:21:38           64\n",
      "config.json                                    2023-03-23 19:21:38         2204\n",
      "variables.h5                                   2023-03-23 19:21:39     21552752\n"
     ]
    }
   ],
   "source": [
    "with open('LSTM_model_final.pkl', 'wb') as fin:\n",
    "    pickle.dump(model, fin)"
   ]
  },
  {
   "cell_type": "code",
   "execution_count": null,
   "metadata": {
    "colab": {
     "base_uri": "https://localhost:8080/"
    },
    "executionInfo": {
     "elapsed": 3713,
     "status": "ok",
     "timestamp": 1679599271870,
     "user": {
      "displayName": "Ксения Сливкина",
      "userId": "17330713614842707096"
     },
     "user_tz": -180
    },
    "id": "WfUeH5ER7RPE",
    "outputId": "c777b572-fa3e-40cf-b7ec-13c58302d684"
   },
   "outputs": [
    {
     "name": "stdout",
     "output_type": "stream",
     "text": [
      "307/307 [==============================] - 3s 9ms/step\n",
      "              precision    recall  f1-score   support\n",
      "\n",
      "           0       0.90      0.98      0.94      1998\n",
      "           1       0.71      0.74      0.73      1945\n",
      "           2       0.81      0.56      0.66      1938\n",
      "           3       0.86      0.95      0.90      1992\n",
      "           4       0.94      1.00      0.97      1922\n",
      "\n",
      "    accuracy                           0.85      9795\n",
      "   macro avg       0.84      0.85      0.84      9795\n",
      "weighted avg       0.84      0.85      0.84      9795\n",
      "\n"
     ]
    }
   ],
   "source": [
    "yhat_probs = model.predict(X_test)\n",
    "yhat_classes = np.argmax(yhat_probs, axis=1)\n",
    "rounded_labels=np.argmax(y_test, axis=1)\n",
    "print(metrics.classification_report(rounded_labels, yhat_classes))"
   ]
  },
  {
   "cell_type": "code",
   "execution_count": null,
   "metadata": {
    "colab": {
     "base_uri": "https://localhost:8080/"
    },
    "executionInfo": {
     "elapsed": 4744,
     "status": "ok",
     "timestamp": 1679610862451,
     "user": {
      "displayName": "Ксения Сливкина",
      "userId": "17330713614842707096"
     },
     "user_tz": -180
    },
    "id": "hLR-ojBxmQuy",
    "outputId": "755bdc65-cb06-40af-d2f0-3a4926dbcab4"
   },
   "outputs": [
    {
     "name": "stdout",
     "output_type": "stream",
     "text": [
      "Model: \"sequential_2\"\n",
      "_________________________________________________________________\n",
      " Layer (type)                Output Shape              Param #   \n",
      "=================================================================\n",
      " embedding_2 (Embedding)     (None, 50, 32)            2847104   \n",
      "                                                                 \n",
      " conv1d_1 (Conv1D)           (None, 50, 32)            3104      \n",
      "                                                                 \n",
      " max_pooling1d_1 (MaxPooling  (None, 25, 32)           0         \n",
      " 1D)                                                             \n",
      "                                                                 \n",
      " bidirectional_1 (Bidirectio  (None, 64)               16640     \n",
      " nal)                                                            \n",
      "                                                                 \n",
      " dropout_1 (Dropout)         (None, 64)                0         \n",
      "                                                                 \n",
      " dense_1 (Dense)             (None, 5)                 325       \n",
      "                                                                 \n",
      "=================================================================\n",
      "Total params: 2,867,173\n",
      "Trainable params: 2,867,173\n",
      "Non-trainable params: 0\n",
      "_________________________________________________________________\n",
      "None\n"
     ]
    }
   ],
   "source": [
    "# Bidirectional LSTM\n",
    "max_len = 50\n",
    "embed_dim = 32\n",
    "lstm_out = 50\n",
    "def buildModel():     \n",
    "    model4 = Sequential()\n",
    "    model4.add(Embedding(vocab_size, embed_dim, input_length=max_len))\n",
    "    model4.add(Conv1D(filters=32, kernel_size=3, padding='same', activation='relu'))\n",
    "    model4.add(MaxPooling1D(pool_size=2))\n",
    "    model4.add(Bidirectional(LSTM(32)))\n",
    "    model4.add(Dropout(0.4))\n",
    "    model4.add(Dense(5, activation='softmax')) \n",
    "    model4.compile(loss='categorical_crossentropy', optimizer='adam', metrics=['accuracy'])\n",
    "    return model4\n",
    "model4 = buildModel()\n",
    "print(model4.summary())"
   ]
  },
  {
   "cell_type": "code",
   "execution_count": null,
   "metadata": {
    "colab": {
     "base_uri": "https://localhost:8080/"
    },
    "executionInfo": {
     "elapsed": 1042375,
     "status": "ok",
     "timestamp": 1679612146848,
     "user": {
      "displayName": "Ксения Сливкина",
      "userId": "17330713614842707096"
     },
     "user_tz": -180
    },
    "id": "sN0uIDhjnCeh",
    "outputId": "bd83fb96-01a1-4ad2-dbd3-e5322bdc277a"
   },
   "outputs": [
    {
     "name": "stdout",
     "output_type": "stream",
     "text": [
      "Epoch 1/20\n",
      "613/613 [==============================] - 52s 84ms/step - loss: 0.4875 - accuracy: 0.8290 - val_loss: 0.4609 - val_accuracy: 0.8312\n",
      "Epoch 2/20\n",
      "613/613 [==============================] - 51s 84ms/step - loss: 0.3673 - accuracy: 0.8803 - val_loss: 0.4345 - val_accuracy: 0.8419\n",
      "Epoch 3/20\n",
      "613/613 [==============================] - 48s 79ms/step - loss: 0.3173 - accuracy: 0.8943 - val_loss: 0.4311 - val_accuracy: 0.8484\n",
      "Epoch 4/20\n",
      "613/613 [==============================] - 59s 96ms/step - loss: 0.2875 - accuracy: 0.8991 - val_loss: 0.4434 - val_accuracy: 0.8556\n",
      "Epoch 5/20\n",
      "613/613 [==============================] - 50s 82ms/step - loss: 0.2642 - accuracy: 0.9032 - val_loss: 0.4500 - val_accuracy: 0.8426\n",
      "Epoch 6/20\n",
      "613/613 [==============================] - 48s 79ms/step - loss: 0.2533 - accuracy: 0.9039 - val_loss: 0.4700 - val_accuracy: 0.8485\n",
      "Epoch 7/20\n",
      "613/613 [==============================] - 50s 82ms/step - loss: 0.2416 - accuracy: 0.9065 - val_loss: 0.5078 - val_accuracy: 0.8489\n",
      "Epoch 8/20\n",
      "613/613 [==============================] - 53s 87ms/step - loss: 0.2315 - accuracy: 0.9082 - val_loss: 0.5253 - val_accuracy: 0.8592\n",
      "Epoch 9/20\n",
      "613/613 [==============================] - 49s 80ms/step - loss: 0.2279 - accuracy: 0.9081 - val_loss: 0.5329 - val_accuracy: 0.8540\n",
      "Epoch 10/20\n",
      "613/613 [==============================] - 49s 80ms/step - loss: 0.2244 - accuracy: 0.9098 - val_loss: 0.5476 - val_accuracy: 0.8506\n",
      "Epoch 11/20\n",
      "613/613 [==============================] - 49s 80ms/step - loss: 0.2201 - accuracy: 0.9101 - val_loss: 0.5643 - val_accuracy: 0.8518\n",
      "Epoch 12/20\n",
      "613/613 [==============================] - 49s 80ms/step - loss: 0.2163 - accuracy: 0.9138 - val_loss: 0.5689 - val_accuracy: 0.8614\n",
      "Epoch 13/20\n",
      "613/613 [==============================] - 49s 81ms/step - loss: 0.2111 - accuracy: 0.9123 - val_loss: 0.5843 - val_accuracy: 0.8589\n",
      "Epoch 14/20\n",
      "613/613 [==============================] - 46s 75ms/step - loss: 0.2123 - accuracy: 0.9137 - val_loss: 0.6199 - val_accuracy: 0.8584\n",
      "Epoch 15/20\n",
      "613/613 [==============================] - 47s 77ms/step - loss: 0.2115 - accuracy: 0.9138 - val_loss: 0.6041 - val_accuracy: 0.8573\n",
      "Epoch 16/20\n",
      "613/613 [==============================] - 47s 77ms/step - loss: 0.2081 - accuracy: 0.9142 - val_loss: 0.6364 - val_accuracy: 0.8540\n",
      "Epoch 17/20\n",
      "613/613 [==============================] - 46s 76ms/step - loss: 0.2065 - accuracy: 0.9158 - val_loss: 0.6492 - val_accuracy: 0.8587\n",
      "Epoch 18/20\n",
      "613/613 [==============================] - 48s 79ms/step - loss: 0.2074 - accuracy: 0.9153 - val_loss: 0.6460 - val_accuracy: 0.8534\n",
      "Epoch 19/20\n",
      "613/613 [==============================] - 46s 75ms/step - loss: 0.2031 - accuracy: 0.9171 - val_loss: 0.6676 - val_accuracy: 0.8502\n",
      "Epoch 20/20\n",
      "613/613 [==============================] - 49s 80ms/step - loss: 0.2012 - accuracy: 0.9163 - val_loss: 0.6606 - val_accuracy: 0.8559\n"
     ]
    }
   ],
   "source": [
    "batch_size = 64 \n",
    "epochs=20\n",
    "history = model4.fit(X_train, y_train,\n",
    "                      validation_data=(X_test, y_test),\n",
    "                      batch_size=batch_size, epochs=epochs, verbose=1)"
   ]
  },
  {
   "cell_type": "code",
   "execution_count": null,
   "metadata": {
    "colab": {
     "base_uri": "https://localhost:8080/"
    },
    "executionInfo": {
     "elapsed": 7702,
     "status": "ok",
     "timestamp": 1679612211515,
     "user": {
      "displayName": "Ксения Сливкина",
      "userId": "17330713614842707096"
     },
     "user_tz": -180
    },
    "id": "NOH73ZzYsAE8",
    "outputId": "b55bd1ba-78d5-4e0b-db03-b699c9300ce1"
   },
   "outputs": [
    {
     "name": "stdout",
     "output_type": "stream",
     "text": [
      "              precision    recall  f1-score   support\n",
      "\n",
      "           0       0.89      0.98      0.93      1998\n",
      "           1       0.73      0.75      0.74      1945\n",
      "           2       0.82      0.59      0.69      1938\n",
      "           3       0.88      0.95      0.92      1992\n",
      "           4       0.94      1.00      0.97      1922\n",
      "\n",
      "    accuracy                           0.86      9795\n",
      "   macro avg       0.85      0.85      0.85      9795\n",
      "weighted avg       0.85      0.86      0.85      9795\n",
      "\n"
     ]
    }
   ],
   "source": [
    "yhat_probs2 = model4.predict(X_test, verbose=0)\n",
    "yhat_classes2 = np.argmax(yhat_probs2, axis=1)\n",
    "rounded_labels2=np.argmax(y_test, axis=1)\n",
    "print(metrics.classification_report(rounded_labels2, yhat_classes2))"
   ]
  },
  {
   "cell_type": "code",
   "execution_count": null,
   "metadata": {
    "colab": {
     "base_uri": "https://localhost:8080/"
    },
    "executionInfo": {
     "elapsed": 1088,
     "status": "ok",
     "timestamp": 1679600400581,
     "user": {
      "displayName": "Ксения Сливкина",
      "userId": "17330713614842707096"
     },
     "user_tz": -180
    },
    "id": "MUlK11qRmN14",
    "outputId": "0ba29b4d-98a2-4144-e074-9ec5f480690a"
   },
   "outputs": [
    {
     "name": "stdout",
     "output_type": "stream",
     "text": [
      "Model: \"sequential_2\"\n",
      "_________________________________________________________________\n",
      " Layer (type)                Output Shape              Param #   \n",
      "=================================================================\n",
      " embedding_2 (Embedding)     (None, 50, 20)            1779440   \n",
      "                                                                 \n",
      " gru_2 (GRU)                 (None, 50, 16)            1824      \n",
      "                                                                 \n",
      " gru_3 (GRU)                 (None, 8)                 624       \n",
      "                                                                 \n",
      " dense_2 (Dense)             (None, 5)                 45        \n",
      "                                                                 \n",
      "=================================================================\n",
      "Total params: 1,781,933\n",
      "Trainable params: 1,781,933\n",
      "Non-trainable params: 0\n",
      "_________________________________________________________________\n"
     ]
    }
   ],
   "source": [
    "# GRU\n",
    "embedding = Embedding(vocab_size, embed_dim, input_length=max_len)\n",
    "\n",
    "model2 = Sequential()\n",
    "model2.add(embedding)\n",
    "model2.add(GRU(units=16, return_sequences=True))\n",
    "model2.add(GRU(units=8))\n",
    "model2.add(Dense(5, activation='sigmoid'))\n",
    "model2.compile(loss='binary_crossentropy',\n",
    "              optimizer=Adam(learning_rate = 1e-3),\n",
    "              metrics=['accuracy'])\n",
    "model2.summary()"
   ]
  },
  {
   "cell_type": "code",
   "execution_count": null,
   "metadata": {
    "colab": {
     "base_uri": "https://localhost:8080/",
     "height": 466
    },
    "executionInfo": {
     "elapsed": 1453,
     "status": "ok",
     "timestamp": 1679600404725,
     "user": {
      "displayName": "Ксения Сливкина",
      "userId": "17330713614842707096"
     },
     "user_tz": -180
    },
    "id": "j04drs3qxzKJ",
    "outputId": "e10fbe3b-8b48-44b5-ace3-afe02ba495bd"
   },
   "outputs": [
    {
     "data": {
      "image/png": "[encoded data removed]",
      "text/plain": [
       "<IPython.core.display.Image object>"
      ]
     },
     "execution_count": 34,
     "metadata": {},
     "output_type": "execute_result"
    }
   ],
   "source": [
    "plot_model(model2, to_file='modelGRU.png')"
   ]
  },
  {
   "cell_type": "code",
   "execution_count": null,
   "metadata": {
    "colab": {
     "base_uri": "https://localhost:8080/"
    },
    "executionInfo": {
     "elapsed": 1774596,
     "status": "ok",
     "timestamp": 1679511980762,
     "user": {
      "displayName": "Ксения Сливкина",
      "userId": "17330713614842707096"
     },
     "user_tz": -180
    },
    "id": "lxUzfLJdm4sU",
    "outputId": "3981d97e-3802-42b5-b1f1-0f437a2f8780"
   },
   "outputs": [
    {
     "name": "stdout",
     "output_type": "stream",
     "text": [
      "Epoch 1/30\n",
      "582/582 [==============================] - 130s 196ms/step - loss: 0.4434 - accuracy: 0.4256 - val_loss: 0.3295 - val_accuracy: 0.6483\n",
      "Epoch 2/30\n",
      "582/582 [==============================] - 83s 143ms/step - loss: 0.2699 - accuracy: 0.7524 - val_loss: 0.2367 - val_accuracy: 0.7856\n",
      "Epoch 3/30\n",
      "582/582 [==============================] - 88s 150ms/step - loss: 0.1946 - accuracy: 0.8508 - val_loss: 0.2057 - val_accuracy: 0.8096\n",
      "Epoch 4/30\n",
      "582/582 [==============================] - 64s 110ms/step - loss: 0.1570 - accuracy: 0.8815 - val_loss: 0.1953 - val_accuracy: 0.8183\n",
      "Epoch 5/30\n",
      "582/582 [==============================] - 70s 120ms/step - loss: 0.1371 - accuracy: 0.8935 - val_loss: 0.1834 - val_accuracy: 0.8331\n",
      "Epoch 6/30\n",
      "582/582 [==============================] - 62s 106ms/step - loss: 0.1254 - accuracy: 0.9009 - val_loss: 0.1823 - val_accuracy: 0.8382\n",
      "Epoch 7/30\n",
      "582/582 [==============================] - 55s 94ms/step - loss: 0.1179 - accuracy: 0.9053 - val_loss: 0.1781 - val_accuracy: 0.8367\n",
      "Epoch 8/30\n",
      "582/582 [==============================] - 53s 91ms/step - loss: 0.1122 - accuracy: 0.9077 - val_loss: 0.1771 - val_accuracy: 0.8397\n",
      "Epoch 9/30\n",
      "582/582 [==============================] - 59s 102ms/step - loss: 0.1079 - accuracy: 0.9080 - val_loss: 0.1804 - val_accuracy: 0.8382\n",
      "Epoch 10/30\n",
      "582/582 [==============================] - 59s 102ms/step - loss: 0.1051 - accuracy: 0.9086 - val_loss: 0.1814 - val_accuracy: 0.8464\n",
      "Epoch 11/30\n",
      "582/582 [==============================] - 55s 95ms/step - loss: 0.1013 - accuracy: 0.9094 - val_loss: 0.1829 - val_accuracy: 0.8438\n",
      "Epoch 12/30\n",
      "582/582 [==============================] - 55s 95ms/step - loss: 0.0993 - accuracy: 0.9094 - val_loss: 0.1796 - val_accuracy: 0.8438\n",
      "Epoch 13/30\n",
      "582/582 [==============================] - 54s 93ms/step - loss: 0.0961 - accuracy: 0.9116 - val_loss: 0.1786 - val_accuracy: 0.8494\n",
      "Epoch 14/30\n",
      "582/582 [==============================] - 53s 91ms/step - loss: 0.0937 - accuracy: 0.9112 - val_loss: 0.1850 - val_accuracy: 0.8499\n",
      "Epoch 15/30\n",
      "582/582 [==============================] - 55s 95ms/step - loss: 0.0921 - accuracy: 0.9117 - val_loss: 0.1870 - val_accuracy: 0.8494\n",
      "Epoch 16/30\n",
      "582/582 [==============================] - 55s 95ms/step - loss: 0.0905 - accuracy: 0.9120 - val_loss: 0.1941 - val_accuracy: 0.8504\n",
      "Epoch 17/30\n",
      "582/582 [==============================] - 60s 103ms/step - loss: 0.0895 - accuracy: 0.9130 - val_loss: 0.1898 - val_accuracy: 0.8464\n",
      "Epoch 18/30\n",
      "582/582 [==============================] - 55s 95ms/step - loss: 0.0882 - accuracy: 0.9123 - val_loss: 0.1911 - val_accuracy: 0.8489\n",
      "Epoch 19/30\n",
      "582/582 [==============================] - 52s 90ms/step - loss: 0.0872 - accuracy: 0.9132 - val_loss: 0.1941 - val_accuracy: 0.8469\n",
      "Epoch 20/30\n",
      "582/582 [==============================] - 54s 93ms/step - loss: 0.0859 - accuracy: 0.9136 - val_loss: 0.1955 - val_accuracy: 0.8530\n",
      "Epoch 21/30\n",
      "582/582 [==============================] - 50s 86ms/step - loss: 0.0854 - accuracy: 0.9137 - val_loss: 0.1967 - val_accuracy: 0.8479\n",
      "Epoch 22/30\n",
      "582/582 [==============================] - 45s 77ms/step - loss: 0.0846 - accuracy: 0.9139 - val_loss: 0.1964 - val_accuracy: 0.8535\n",
      "Epoch 23/30\n",
      "582/582 [==============================] - 45s 77ms/step - loss: 0.0838 - accuracy: 0.9138 - val_loss: 0.2000 - val_accuracy: 0.8479\n",
      "Epoch 24/30\n",
      "582/582 [==============================] - 44s 76ms/step - loss: 0.0835 - accuracy: 0.9146 - val_loss: 0.1974 - val_accuracy: 0.8566\n",
      "Epoch 25/30\n",
      "582/582 [==============================] - 45s 77ms/step - loss: 0.0828 - accuracy: 0.9144 - val_loss: 0.2023 - val_accuracy: 0.8515\n",
      "Epoch 26/30\n",
      "582/582 [==============================] - 45s 78ms/step - loss: 0.0825 - accuracy: 0.9148 - val_loss: 0.2044 - val_accuracy: 0.8530\n",
      "Epoch 27/30\n",
      "582/582 [==============================] - 47s 81ms/step - loss: 0.0822 - accuracy: 0.9142 - val_loss: 0.2036 - val_accuracy: 0.8520\n",
      "Epoch 28/30\n",
      "582/582 [==============================] - 48s 83ms/step - loss: 0.0815 - accuracy: 0.9150 - val_loss: 0.2037 - val_accuracy: 0.8509\n",
      "Epoch 29/30\n",
      "582/582 [==============================] - 46s 79ms/step - loss: 0.0814 - accuracy: 0.9145 - val_loss: 0.2015 - val_accuracy: 0.8560\n",
      "Epoch 30/30\n",
      "582/582 [==============================] - 46s 79ms/step - loss: 0.0807 - accuracy: 0.9153 - val_loss: 0.2054 - val_accuracy: 0.8520\n"
     ]
    },
    {
     "data": {
      "text/plain": [
       "<keras.callbacks.History at 0x7f35e27e6730>"
      ]
     },
     "execution_count": 31,
     "metadata": {},
     "output_type": "execute_result"
    }
   ],
   "source": [
    "model2.fit(X_train, y_train, validation_split=0.05, epochs=30, batch_size=64)"
   ]
  },
  {
   "cell_type": "code",
   "execution_count": null,
   "metadata": {
    "colab": {
     "base_uri": "https://localhost:8080/"
    },
    "executionInfo": {
     "elapsed": 6073,
     "status": "ok",
     "timestamp": 1679512037052,
     "user": {
      "displayName": "Ксения Сливкина",
      "userId": "17330713614842707096"
     },
     "user_tz": -180
    },
    "id": "rr2Uqx0CnBVi",
    "outputId": "00ee4de0-c874-4ff0-b3f1-5dda6fb7e12c"
   },
   "outputs": [
    {
     "name": "stdout",
     "output_type": "stream",
     "text": [
      "              precision    recall  f1-score   support\n",
      "\n",
      "           0       0.89      0.98      0.93      1998\n",
      "           1       0.73      0.73      0.73      1945\n",
      "           2       0.78      0.59      0.67      1938\n",
      "           3       0.88      0.95      0.91      1992\n",
      "           4       0.93      1.00      0.97      1922\n",
      "\n",
      "    accuracy                           0.85      9795\n",
      "   macro avg       0.84      0.85      0.84      9795\n",
      "weighted avg       0.84      0.85      0.84      9795\n",
      "\n"
     ]
    }
   ],
   "source": [
    "yhat_probs2 = model2.predict(X_test, verbose=0)\n",
    "yhat_classes2 = np.argmax(yhat_probs2, axis=1)\n",
    "rounded_labels2=np.argmax(y_test, axis=1)\n",
    "print(metrics.classification_report(rounded_labels2, yhat_classes2))"
   ]
  },
  {
   "cell_type": "code",
   "execution_count": null,
   "metadata": {
    "colab": {
     "base_uri": "https://localhost:8080/"
    },
    "executionInfo": {
     "elapsed": 213,
     "status": "ok",
     "timestamp": 1679511988806,
     "user": {
      "displayName": "Ксения Сливкина",
      "userId": "17330713614842707096"
     },
     "user_tz": -180
    },
    "id": "jgoSI4_fnJEo",
    "outputId": "8c1d6a93-0642-438e-a961-fd9ae8092d7b"
   },
   "outputs": [
    {
     "name": "stdout",
     "output_type": "stream",
     "text": [
      "Keras weights file (<HDF5 file \"variables.h5\" (mode r+)>) saving:\n",
      "...layers\n",
      "......dense\n",
      ".........vars\n",
      "............0\n",
      "............1\n",
      "......embedding\n",
      ".........vars\n",
      "............0\n",
      "......gru\n",
      ".........cell\n",
      "............vars\n",
      "...............0\n",
      "...............1\n",
      "...............2\n",
      ".........vars\n",
      "......gru_1\n",
      ".........cell\n",
      "............vars\n",
      "...............0\n",
      "...............1\n",
      "...............2\n",
      ".........vars\n",
      "...metrics\n",
      "......mean\n",
      ".........vars\n",
      "............0\n",
      "............1\n",
      "......mean_metric_wrapper\n",
      ".........vars\n",
      "............0\n",
      "............1\n",
      "...vars\n",
      "Keras model archive saving:\n",
      "File Name                                             Modified             Size\n",
      "metadata.json                                  2023-03-22 19:06:27           64\n",
      "config.json                                    2023-03-22 19:06:27         3278\n",
      "variables.h5                                   2023-03-22 19:06:27      7152088\n"
     ]
    }
   ],
   "source": [
    "with open('GNU_model_final.pkl', 'wb') as fin:\n",
    "    pickle.dump(model2, fin)"
   ]
  },
  {
   "cell_type": "code",
   "execution_count": null,
   "metadata": {
    "colab": {
     "base_uri": "https://localhost:8080/"
    },
    "executionInfo": {
     "elapsed": 1736,
     "status": "ok",
     "timestamp": 1679600486156,
     "user": {
      "displayName": "Ксения Сливкина",
      "userId": "17330713614842707096"
     },
     "user_tz": -180
    },
    "id": "JPEbixk4zkpR",
    "outputId": "1340a931-03d7-44dc-dfa9-22ba8b14931c"
   },
   "outputs": [
    {
     "name": "stdout",
     "output_type": "stream",
     "text": [
      "Model: \"sequential_3\"\n",
      "_________________________________________________________________\n",
      " Layer (type)                Output Shape              Param #   \n",
      "=================================================================\n",
      " embedding_3 (Embedding)     (None, 50, 20)            1779440   \n",
      "                                                                 \n",
      " bidirectional (Bidirectiona  (None, 100)              28400     \n",
      " l)                                                              \n",
      "                                                                 \n",
      " dense_3 (Dense)             (None, 5)                 505       \n",
      "                                                                 \n",
      "=================================================================\n",
      "Total params: 1,808,345\n",
      "Trainable params: 1,808,345\n",
      "Non-trainable params: 0\n",
      "_________________________________________________________________\n",
      "None\n"
     ]
    }
   ],
   "source": [
    "# Другая Bidirectional LSTM\n",
    "bi_lstm_model = Sequential()\n",
    "bi_lstm_model.add(Embedding(vocab_size, embed_dim, input_length=max_len))\n",
    "bi_lstm_model.add(Bidirectional(LSTM(lstm_out,\n",
    "                                     activation='tanh',\n",
    "                                     return_sequences=False)))\n",
    "bi_lstm_model.add(Dense(5, activation='sigmoid'))\n",
    " \n",
    "# Printing model summary\n",
    "print(bi_lstm_model.summary())\n",
    " \n",
    "# Compiling model summary\n",
    "bi_lstm_model.compile(loss=\"binary_crossentropy\", optimizer='adam', metrics=['accuracy'])"
   ]
  },
  {
   "cell_type": "code",
   "execution_count": null,
   "metadata": {
    "colab": {
     "base_uri": "https://localhost:8080/",
     "height": 369
    },
    "executionInfo": {
     "elapsed": 650,
     "status": "ok",
     "timestamp": 1679600489718,
     "user": {
      "displayName": "Ксения Сливкина",
      "userId": "17330713614842707096"
     },
     "user_tz": -180
    },
    "id": "gU93Cc43yOuX",
    "outputId": "76c59126-8614-4af9-e67c-f159f288e266"
   },
   "outputs": [
    {
     "data": {
      "image/png": "[encoded data removed]",
      "text/plain": [
       "<IPython.core.display.Image object>"
      ]
     },
     "execution_count": 36,
     "metadata": {},
     "output_type": "execute_result"
    }
   ],
   "source": [
    "plot_model(bi_lstm_model, to_file='modelBidir.png')"
   ]
  },
  {
   "cell_type": "code",
   "execution_count": null,
   "metadata": {
    "colab": {
     "base_uri": "https://localhost:8080/"
    },
    "executionInfo": {
     "elapsed": 1740391,
     "status": "ok",
     "timestamp": 1679515583983,
     "user": {
      "displayName": "Ксения Сливкина",
      "userId": "17330713614842707096"
     },
     "user_tz": -180
    },
    "id": "jX0PuEjJ0rPJ",
    "outputId": "34d1ae34-474e-4d35-fc21-7c5a014bb8c6"
   },
   "outputs": [
    {
     "name": "stdout",
     "output_type": "stream",
     "text": [
      "Epoch 1/30\n",
      "582/582 [==============================] - 68s 108ms/step - loss: 0.3422 - accuracy: 0.5516 - val_loss: 0.2163 - val_accuracy: 0.7611\n",
      "Epoch 2/30\n",
      "582/582 [==============================] - 61s 105ms/step - loss: 0.1862 - accuracy: 0.8106 - val_loss: 0.1848 - val_accuracy: 0.8234\n",
      "Epoch 3/30\n",
      "582/582 [==============================] - 58s 100ms/step - loss: 0.1440 - accuracy: 0.8711 - val_loss: 0.1738 - val_accuracy: 0.8367\n",
      "Epoch 4/30\n",
      "582/582 [==============================] - 59s 101ms/step - loss: 0.1212 - accuracy: 0.8933 - val_loss: 0.1738 - val_accuracy: 0.8392\n",
      "Epoch 5/30\n",
      "582/582 [==============================] - 58s 99ms/step - loss: 0.1098 - accuracy: 0.9006 - val_loss: 0.1702 - val_accuracy: 0.8412\n",
      "Epoch 6/30\n",
      "582/582 [==============================] - 57s 98ms/step - loss: 0.1032 - accuracy: 0.9025 - val_loss: 0.1772 - val_accuracy: 0.8407\n",
      "Epoch 7/30\n",
      "582/582 [==============================] - 58s 100ms/step - loss: 0.0978 - accuracy: 0.9048 - val_loss: 0.1800 - val_accuracy: 0.8438\n",
      "Epoch 8/30\n",
      "582/582 [==============================] - 58s 99ms/step - loss: 0.0930 - accuracy: 0.9077 - val_loss: 0.1799 - val_accuracy: 0.8484\n",
      "Epoch 9/30\n",
      "582/582 [==============================] - 58s 99ms/step - loss: 0.0902 - accuracy: 0.9087 - val_loss: 0.1905 - val_accuracy: 0.8382\n",
      "Epoch 10/30\n",
      "582/582 [==============================] - 58s 100ms/step - loss: 0.0883 - accuracy: 0.9093 - val_loss: 0.1915 - val_accuracy: 0.8489\n",
      "Epoch 11/30\n",
      "582/582 [==============================] - 56s 96ms/step - loss: 0.0865 - accuracy: 0.9094 - val_loss: 0.1940 - val_accuracy: 0.8438\n",
      "Epoch 12/30\n",
      "582/582 [==============================] - 57s 98ms/step - loss: 0.0845 - accuracy: 0.9116 - val_loss: 0.1873 - val_accuracy: 0.8535\n",
      "Epoch 13/30\n",
      "582/582 [==============================] - 59s 101ms/step - loss: 0.0832 - accuracy: 0.9113 - val_loss: 0.2007 - val_accuracy: 0.8453\n",
      "Epoch 14/30\n",
      "582/582 [==============================] - 58s 99ms/step - loss: 0.0816 - accuracy: 0.9134 - val_loss: 0.2036 - val_accuracy: 0.8525\n",
      "Epoch 15/30\n",
      "582/582 [==============================] - 58s 99ms/step - loss: 0.0817 - accuracy: 0.9130 - val_loss: 0.1991 - val_accuracy: 0.8499\n",
      "Epoch 16/30\n",
      "582/582 [==============================] - 58s 99ms/step - loss: 0.0803 - accuracy: 0.9135 - val_loss: 0.2073 - val_accuracy: 0.8566\n",
      "Epoch 17/30\n",
      "582/582 [==============================] - 57s 98ms/step - loss: 0.0811 - accuracy: 0.9139 - val_loss: 0.2032 - val_accuracy: 0.8560\n",
      "Epoch 18/30\n",
      "582/582 [==============================] - 57s 98ms/step - loss: 0.0794 - accuracy: 0.9155 - val_loss: 0.2228 - val_accuracy: 0.8453\n",
      "Epoch 19/30\n",
      "582/582 [==============================] - 57s 98ms/step - loss: 0.0782 - accuracy: 0.9149 - val_loss: 0.2149 - val_accuracy: 0.8499\n",
      "Epoch 20/30\n",
      "582/582 [==============================] - 57s 98ms/step - loss: 0.0783 - accuracy: 0.9153 - val_loss: 0.2201 - val_accuracy: 0.8489\n",
      "Epoch 21/30\n",
      "582/582 [==============================] - 58s 100ms/step - loss: 0.0772 - accuracy: 0.9166 - val_loss: 0.2242 - val_accuracy: 0.8540\n",
      "Epoch 22/30\n",
      "582/582 [==============================] - 58s 100ms/step - loss: 0.0771 - accuracy: 0.9157 - val_loss: 0.2232 - val_accuracy: 0.8474\n",
      "Epoch 23/30\n",
      "582/582 [==============================] - 57s 97ms/step - loss: 0.0766 - accuracy: 0.9163 - val_loss: 0.2230 - val_accuracy: 0.8484\n",
      "Epoch 24/30\n",
      "582/582 [==============================] - 58s 99ms/step - loss: 0.0765 - accuracy: 0.9163 - val_loss: 0.2253 - val_accuracy: 0.8566\n",
      "Epoch 25/30\n",
      "582/582 [==============================] - 58s 99ms/step - loss: 0.0761 - accuracy: 0.9170 - val_loss: 0.2308 - val_accuracy: 0.8504\n",
      "Epoch 26/30\n",
      "582/582 [==============================] - 59s 101ms/step - loss: 0.0758 - accuracy: 0.9171 - val_loss: 0.2353 - val_accuracy: 0.8479\n",
      "Epoch 27/30\n",
      "582/582 [==============================] - 56s 95ms/step - loss: 0.0756 - accuracy: 0.9170 - val_loss: 0.2372 - val_accuracy: 0.8484\n",
      "Epoch 28/30\n",
      "582/582 [==============================] - 56s 96ms/step - loss: 0.0758 - accuracy: 0.9175 - val_loss: 0.2340 - val_accuracy: 0.8458\n",
      "Epoch 29/30\n",
      "582/582 [==============================] - 57s 98ms/step - loss: 0.0754 - accuracy: 0.9177 - val_loss: 0.2231 - val_accuracy: 0.8499\n",
      "Epoch 30/30\n",
      "582/582 [==============================] - 57s 98ms/step - loss: 0.0751 - accuracy: 0.9168 - val_loss: 0.2481 - val_accuracy: 0.8474\n"
     ]
    },
    {
     "data": {
      "text/plain": [
       "<keras.callbacks.History at 0x7f35e20042b0>"
      ]
     },
     "execution_count": 41,
     "metadata": {},
     "output_type": "execute_result"
    }
   ],
   "source": [
    "bi_lstm_model.fit(X_train, y_train, validation_split=0.05, epochs=30, batch_size=64)"
   ]
  },
  {
   "cell_type": "code",
   "execution_count": null,
   "metadata": {
    "colab": {
     "base_uri": "https://localhost:8080/"
    },
    "executionInfo": {
     "elapsed": 555,
     "status": "ok",
     "timestamp": 1679515696578,
     "user": {
      "displayName": "Ксения Сливкина",
      "userId": "17330713614842707096"
     },
     "user_tz": -180
    },
    "id": "v2Y53EaH71DQ",
    "outputId": "1ac5e47a-b6c0-428c-908a-051b591ac1b1"
   },
   "outputs": [
    {
     "name": "stdout",
     "output_type": "stream",
     "text": [
      "Keras weights file (<HDF5 file \"variables.h5\" (mode r+)>) saving:\n",
      "...layers\n",
      "......bidirectional\n",
      ".........backward_layer\n",
      "............cell\n",
      "...............vars\n",
      "..................0\n",
      "..................1\n",
      "..................2\n",
      "............vars\n",
      ".........forward_layer\n",
      "............cell\n",
      "...............vars\n",
      "..................0\n",
      "..................1\n",
      "..................2\n",
      "............vars\n",
      ".........layer\n",
      "............cell\n",
      "...............vars\n",
      "............vars\n",
      ".........vars\n",
      "......dense\n",
      ".........vars\n",
      "............0\n",
      "............1\n",
      "......embedding\n",
      ".........vars\n",
      "............0\n",
      "...metrics\n",
      "......mean\n",
      ".........vars\n",
      "............0\n",
      "............1\n",
      "......mean_metric_wrapper\n",
      ".........vars\n",
      "............0\n",
      "............1\n",
      "...optimizer\n",
      "......vars\n",
      ".........0\n",
      ".........1\n",
      ".........10\n",
      ".........11\n",
      ".........12\n",
      ".........13\n",
      ".........14\n",
      ".........15\n",
      ".........16\n",
      ".........17\n",
      ".........18\n",
      ".........2\n",
      ".........3\n",
      ".........4\n",
      ".........5\n",
      ".........6\n",
      ".........7\n",
      ".........8\n",
      ".........9\n",
      "...vars\n",
      "Keras model archive saving:\n",
      "File Name                                             Modified             Size\n",
      "metadata.json                                  2023-03-22 20:08:15           64\n",
      "config.json                                    2023-03-22 20:08:15         2351\n",
      "variables.h5                                   2023-03-22 20:08:15     21738776\n"
     ]
    }
   ],
   "source": [
    "with open('LSTM_Bi_model.pkl', 'wb') as fin:\n",
    "    pickle.dump(bi_lstm_model, fin)"
   ]
  },
  {
   "cell_type": "code",
   "execution_count": null,
   "metadata": {
    "colab": {
     "base_uri": "https://localhost:8080/"
    },
    "executionInfo": {
     "elapsed": 11641,
     "status": "ok",
     "timestamp": 1679515802569,
     "user": {
      "displayName": "Ксения Сливкина",
      "userId": "17330713614842707096"
     },
     "user_tz": -180
    },
    "id": "lr4hIZhm78PH",
    "outputId": "2ee88659-e9fb-4439-e6f6-d58edf02a037"
   },
   "outputs": [
    {
     "name": "stdout",
     "output_type": "stream",
     "text": [
      "              precision    recall  f1-score   support\n",
      "\n",
      "           0       0.90      0.98      0.94      1998\n",
      "           1       0.70      0.76      0.73      1945\n",
      "           2       0.81      0.56      0.66      1938\n",
      "           3       0.90      0.95      0.92      1992\n",
      "           4       0.94      1.00      0.97      1922\n",
      "\n",
      "    accuracy                           0.85      9795\n",
      "   macro avg       0.85      0.85      0.84      9795\n",
      "weighted avg       0.85      0.85      0.84      9795\n",
      "\n"
     ]
    }
   ],
   "source": [
    "yhat_probs_bi = bi_lstm_model.predict(X_test, verbose=0)\n",
    "yhat_classes_bi = np.argmax(yhat_probs_bi, axis=1)\n",
    "rounded_labels_bi=np.argmax(y_test, axis=1)\n",
    "print(metrics.classification_report(rounded_labels_bi, yhat_classes_bi))"
   ]
  },
  {
   "cell_type": "code",
   "execution_count": null,
   "metadata": {
    "id": "7_zZCtDJ_ez-"
   },
   "outputs": [],
   "source": [
    "# Попробуем какую-нибудь CNN\n",
    "embedding_dim = 128\n",
    "sequence_length = max_len\n",
    "vocab_size = 88972\n",
    "modelCNN = Sequential()\n",
    "modelCNN.add(Embedding(vocab_size, embedding_dim, input_length=sequence_length,\n",
    "                                    embeddings_regularizer = regularizers.l2(0.0005)))                                    \n",
    "\n",
    "modelCNN.add(Conv1D(1024,3, activation='relu',\n",
    "                                 kernel_regularizer = regularizers.l2(0.0005),\n",
    "                                 bias_regularizer = regularizers.l2(0.0005)))                               \n",
    "modelCNN.add(Conv1D(512,3, activation='relu',\n",
    "                                 kernel_regularizer = regularizers.l2(0.0005),\n",
    "                                 bias_regularizer = regularizers.l2(0.0005))) \n",
    "modelCNN.add(Conv1D(256,3, activation='relu',\n",
    "                                 kernel_regularizer = regularizers.l2(0.0005),\n",
    "                                 bias_regularizer = regularizers.l2(0.0005))) \n",
    "\n",
    "modelCNN.add(GlobalMaxPooling1D())\n",
    "\n",
    "modelCNN.add(Dropout(0.5))\n",
    "\n",
    "modelCNN.add(Dense(5, activation='sigmoid',\n",
    "                                kernel_regularizer=regularizers.l2(0.001),\n",
    "                                bias_regularizer=regularizers.l2(0.001),))"
   ]
  },
  {
   "cell_type": "code",
   "execution_count": null,
   "metadata": {
    "colab": {
     "base_uri": "https://localhost:8080/"
    },
    "executionInfo": {
     "elapsed": 7,
     "status": "ok",
     "timestamp": 1679524225420,
     "user": {
      "displayName": "Ксения Сливкина",
      "userId": "17330713614842707096"
     },
     "user_tz": -180
    },
    "id": "DYIJT6muBkuY",
    "outputId": "b4726b5d-849b-4548-d0a5-c737d397b41a"
   },
   "outputs": [
    {
     "name": "stdout",
     "output_type": "stream",
     "text": [
      "Model: \"sequential_7\"\n",
      "_________________________________________________________________\n",
      " Layer (type)                Output Shape              Param #   \n",
      "=================================================================\n",
      " embedding_6 (Embedding)     (None, 38, 128)           11388416  \n",
      "                                                                 \n",
      " conv1d_18 (Conv1D)          (None, 36, 1024)          394240    \n",
      "                                                                 \n",
      " conv1d_19 (Conv1D)          (None, 34, 512)           1573376   \n",
      "                                                                 \n",
      " conv1d_20 (Conv1D)          (None, 32, 256)           393472    \n",
      "                                                                 \n",
      " global_max_pooling1d_6 (Glo  (None, 256)              0         \n",
      " balMaxPooling1D)                                                \n",
      "                                                                 \n",
      " dropout_6 (Dropout)         (None, 256)               0         \n",
      "                                                                 \n",
      " dense_6 (Dense)             (None, 5)                 1285      \n",
      "                                                                 \n",
      "=================================================================\n",
      "Total params: 13,750,789\n",
      "Trainable params: 13,750,789\n",
      "Non-trainable params: 0\n",
      "_________________________________________________________________\n"
     ]
    }
   ],
   "source": [
    "lr = 0.001\n",
    "modelCNN.summary()\n",
    "modelCNN.compile(loss='categorical_crossentropy', \n",
    "              optimizer = Adam(learning_rate = lr),\n",
    "              metrics=['accuracy',Precision(),Recall()])\n"
   ]
  },
  {
   "cell_type": "code",
   "execution_count": null,
   "metadata": {
    "colab": {
     "base_uri": "https://localhost:8080/"
    },
    "executionInfo": {
     "elapsed": 458726,
     "status": "ok",
     "timestamp": 1679524701412,
     "user": {
      "displayName": "Ксения Сливкина",
      "userId": "17330713614842707096"
     },
     "user_tz": -180
    },
    "id": "kn8RvulDDQpl",
    "outputId": "34f8d5ce-27e8-45e0-ba21-19fb556643f4"
   },
   "outputs": [
    {
     "name": "stdout",
     "output_type": "stream",
     "text": [
      "Epoch 1/50\n",
      "307/307 [==============================] - 14s 32ms/step - loss: 1.5329 - accuracy: 0.4773 - precision_6: 0.2831 - recall_6: 0.8940 - val_loss: 1.0856 - val_accuracy: 0.6084 - val_precision_6: 0.2950 - val_recall_6: 0.9896\n",
      "Epoch 2/50\n",
      "307/307 [==============================] - 9s 30ms/step - loss: 0.9906 - accuracy: 0.6744 - precision_6: 0.3234 - recall_6: 0.9807 - val_loss: 0.9153 - val_accuracy: 0.7212 - val_precision_6: 0.3481 - val_recall_6: 0.9801\n",
      "Epoch 3/50\n",
      "307/307 [==============================] - 9s 30ms/step - loss: 0.8872 - accuracy: 0.7290 - precision_6: 0.3447 - recall_6: 0.9791 - val_loss: 0.9018 - val_accuracy: 0.7180 - val_precision_6: 0.3742 - val_recall_6: 0.9658\n",
      "Epoch 4/50\n",
      "307/307 [==============================] - 8s 28ms/step - loss: 0.8192 - accuracy: 0.7608 - precision_6: 0.3588 - recall_6: 0.9790 - val_loss: 0.8058 - val_accuracy: 0.7666 - val_precision_6: 0.3793 - val_recall_6: 0.9802\n",
      "Epoch 5/50\n",
      "307/307 [==============================] - 9s 28ms/step - loss: 0.7594 - accuracy: 0.7967 - precision_6: 0.3636 - recall_6: 0.9809 - val_loss: 0.7697 - val_accuracy: 0.7959 - val_precision_6: 0.3560 - val_recall_6: 0.9794\n",
      "Epoch 6/50\n",
      "307/307 [==============================] - 9s 28ms/step - loss: 0.7241 - accuracy: 0.8181 - precision_6: 0.3629 - recall_6: 0.9819 - val_loss: 0.7433 - val_accuracy: 0.7980 - val_precision_6: 0.3727 - val_recall_6: 0.9848\n",
      "Epoch 7/50\n",
      "307/307 [==============================] - 9s 28ms/step - loss: 0.6870 - accuracy: 0.8327 - precision_6: 0.3613 - recall_6: 0.9846 - val_loss: 0.7579 - val_accuracy: 0.7898 - val_precision_6: 0.3572 - val_recall_6: 0.9867\n",
      "Epoch 8/50\n",
      "307/307 [==============================] - 9s 30ms/step - loss: 0.6569 - accuracy: 0.8457 - precision_6: 0.3582 - recall_6: 0.9852 - val_loss: 0.7116 - val_accuracy: 0.8068 - val_precision_6: 0.3495 - val_recall_6: 0.9874\n",
      "Epoch 9/50\n",
      "307/307 [==============================] - 9s 30ms/step - loss: 0.6269 - accuracy: 0.8560 - precision_6: 0.3587 - recall_6: 0.9870 - val_loss: 0.6914 - val_accuracy: 0.8184 - val_precision_6: 0.3581 - val_recall_6: 0.9871\n",
      "Epoch 10/50\n",
      "307/307 [==============================] - 9s 30ms/step - loss: 0.6064 - accuracy: 0.8632 - precision_6: 0.3593 - recall_6: 0.9867 - val_loss: 0.7065 - val_accuracy: 0.8181 - val_precision_6: 0.3744 - val_recall_6: 0.9859\n",
      "Epoch 11/50\n",
      "307/307 [==============================] - 9s 28ms/step - loss: 0.5991 - accuracy: 0.8663 - precision_6: 0.3580 - recall_6: 0.9873 - val_loss: 0.7225 - val_accuracy: 0.8161 - val_precision_6: 0.3567 - val_recall_6: 0.9833\n",
      "Epoch 12/50\n",
      "307/307 [==============================] - 9s 29ms/step - loss: 0.6017 - accuracy: 0.8672 - precision_6: 0.3554 - recall_6: 0.9870 - val_loss: 0.7156 - val_accuracy: 0.8133 - val_precision_6: 0.3597 - val_recall_6: 0.9841\n",
      "Epoch 13/50\n",
      "307/307 [==============================] - 9s 28ms/step - loss: 0.5856 - accuracy: 0.8712 - precision_6: 0.3630 - recall_6: 0.9872 - val_loss: 0.7053 - val_accuracy: 0.8154 - val_precision_6: 0.3848 - val_recall_6: 0.9905\n",
      "Epoch 14/50\n",
      "307/307 [==============================] - 9s 29ms/step - loss: 0.5675 - accuracy: 0.8748 - precision_6: 0.3585 - recall_6: 0.9881 - val_loss: 0.6923 - val_accuracy: 0.8203 - val_precision_6: 0.3641 - val_recall_6: 0.9882\n",
      "Epoch 15/50\n",
      "307/307 [==============================] - 9s 30ms/step - loss: 0.5622 - accuracy: 0.8786 - precision_6: 0.3559 - recall_6: 0.9894 - val_loss: 0.7013 - val_accuracy: 0.8190 - val_precision_6: 0.3534 - val_recall_6: 0.9868\n",
      "Epoch 16/50\n",
      "307/307 [==============================] - 9s 28ms/step - loss: 0.5613 - accuracy: 0.8786 - precision_6: 0.3549 - recall_6: 0.9898 - val_loss: 0.6809 - val_accuracy: 0.8252 - val_precision_6: 0.3531 - val_recall_6: 0.9884\n",
      "Epoch 17/50\n",
      "307/307 [==============================] - 9s 31ms/step - loss: 0.5534 - accuracy: 0.8800 - precision_6: 0.3512 - recall_6: 0.9901 - val_loss: 0.6948 - val_accuracy: 0.8200 - val_precision_6: 0.3525 - val_recall_6: 0.9857\n",
      "Epoch 18/50\n",
      "307/307 [==============================] - 9s 31ms/step - loss: 0.5571 - accuracy: 0.8796 - precision_6: 0.3539 - recall_6: 0.9902 - val_loss: 0.7109 - val_accuracy: 0.8216 - val_precision_6: 0.3712 - val_recall_6: 0.9893\n",
      "Epoch 19/50\n",
      "307/307 [==============================] - 9s 30ms/step - loss: 0.5483 - accuracy: 0.8820 - precision_6: 0.3553 - recall_6: 0.9906 - val_loss: 0.6957 - val_accuracy: 0.8249 - val_precision_6: 0.3680 - val_recall_6: 0.9872\n",
      "Epoch 20/50\n",
      "307/307 [==============================] - 10s 32ms/step - loss: 0.5470 - accuracy: 0.8824 - precision_6: 0.3509 - recall_6: 0.9908 - val_loss: 0.6923 - val_accuracy: 0.8257 - val_precision_6: 0.3454 - val_recall_6: 0.9899\n",
      "Epoch 21/50\n",
      "307/307 [==============================] - 9s 29ms/step - loss: 0.5379 - accuracy: 0.8848 - precision_6: 0.3522 - recall_6: 0.9911 - val_loss: 0.6830 - val_accuracy: 0.8251 - val_precision_6: 0.3321 - val_recall_6: 0.9932\n",
      "Epoch 22/50\n",
      "307/307 [==============================] - 9s 30ms/step - loss: 0.5274 - accuracy: 0.8855 - precision_6: 0.3448 - recall_6: 0.9914 - val_loss: 0.6634 - val_accuracy: 0.8295 - val_precision_6: 0.3311 - val_recall_6: 0.9917\n",
      "Epoch 23/50\n",
      "307/307 [==============================] - 9s 31ms/step - loss: 0.5243 - accuracy: 0.8854 - precision_6: 0.3459 - recall_6: 0.9916 - val_loss: 0.7023 - val_accuracy: 0.8234 - val_precision_6: 0.3402 - val_recall_6: 0.9880\n",
      "Epoch 24/50\n",
      "307/307 [==============================] - 9s 29ms/step - loss: 0.5219 - accuracy: 0.8862 - precision_6: 0.3439 - recall_6: 0.9916 - val_loss: 0.6968 - val_accuracy: 0.8228 - val_precision_6: 0.3301 - val_recall_6: 0.9907\n",
      "Epoch 25/50\n",
      "307/307 [==============================] - 9s 30ms/step - loss: 0.5246 - accuracy: 0.8865 - precision_6: 0.3467 - recall_6: 0.9922 - val_loss: 0.6744 - val_accuracy: 0.8256 - val_precision_6: 0.3382 - val_recall_6: 0.9923\n",
      "Epoch 26/50\n",
      "307/307 [==============================] - 9s 29ms/step - loss: 0.5177 - accuracy: 0.8883 - precision_6: 0.3440 - recall_6: 0.9923 - val_loss: 0.6866 - val_accuracy: 0.8289 - val_precision_6: 0.3374 - val_recall_6: 0.9938\n",
      "Epoch 27/50\n",
      "307/307 [==============================] - 9s 30ms/step - loss: 0.5094 - accuracy: 0.8897 - precision_6: 0.3420 - recall_6: 0.9930 - val_loss: 0.6886 - val_accuracy: 0.8254 - val_precision_6: 0.3492 - val_recall_6: 0.9907\n",
      "Epoch 28/50\n",
      "307/307 [==============================] - 9s 29ms/step - loss: 0.5081 - accuracy: 0.8898 - precision_6: 0.3433 - recall_6: 0.9930 - val_loss: 0.6859 - val_accuracy: 0.8244 - val_precision_6: 0.3278 - val_recall_6: 0.9934\n",
      "Epoch 29/50\n",
      "307/307 [==============================] - 9s 29ms/step - loss: 0.5032 - accuracy: 0.8901 - precision_6: 0.3394 - recall_6: 0.9940 - val_loss: 0.6874 - val_accuracy: 0.8303 - val_precision_6: 0.3201 - val_recall_6: 0.9941\n",
      "Epoch 30/50\n",
      "307/307 [==============================] - 9s 31ms/step - loss: 0.5056 - accuracy: 0.8892 - precision_6: 0.3362 - recall_6: 0.9941 - val_loss: 0.7001 - val_accuracy: 0.8221 - val_precision_6: 0.3522 - val_recall_6: 0.9934\n",
      "Epoch 31/50\n",
      "307/307 [==============================] - 9s 31ms/step - loss: 0.5162 - accuracy: 0.8894 - precision_6: 0.3350 - recall_6: 0.9937 - val_loss: 0.7003 - val_accuracy: 0.8228 - val_precision_6: 0.3257 - val_recall_6: 0.9950\n",
      "Epoch 32/50\n",
      "307/307 [==============================] - 9s 28ms/step - loss: 0.4984 - accuracy: 0.8915 - precision_6: 0.3360 - recall_6: 0.9942 - val_loss: 0.6718 - val_accuracy: 0.8279 - val_precision_6: 0.3203 - val_recall_6: 0.9920\n",
      "Epoch 33/50\n",
      "307/307 [==============================] - 10s 31ms/step - loss: 0.5012 - accuracy: 0.8907 - precision_6: 0.3338 - recall_6: 0.9942 - val_loss: 0.6858 - val_accuracy: 0.8237 - val_precision_6: 0.3214 - val_recall_6: 0.9917\n",
      "Epoch 34/50\n",
      "307/307 [==============================] - 9s 31ms/step - loss: 0.4936 - accuracy: 0.8911 - precision_6: 0.3313 - recall_6: 0.9944 - val_loss: 0.7020 - val_accuracy: 0.8263 - val_precision_6: 0.3357 - val_recall_6: 0.9929\n",
      "Epoch 35/50\n",
      "307/307 [==============================] - 9s 28ms/step - loss: 0.4938 - accuracy: 0.8922 - precision_6: 0.3282 - recall_6: 0.9948 - val_loss: 0.6890 - val_accuracy: 0.8295 - val_precision_6: 0.3177 - val_recall_6: 0.9944\n",
      "Epoch 36/50\n",
      "307/307 [==============================] - 9s 29ms/step - loss: 0.4964 - accuracy: 0.8918 - precision_6: 0.3309 - recall_6: 0.9945 - val_loss: 0.6794 - val_accuracy: 0.8297 - val_precision_6: 0.3188 - val_recall_6: 0.9942\n",
      "Epoch 37/50\n",
      "307/307 [==============================] - 9s 31ms/step - loss: 0.4904 - accuracy: 0.8917 - precision_6: 0.3292 - recall_6: 0.9956 - val_loss: 0.6870 - val_accuracy: 0.8309 - val_precision_6: 0.3194 - val_recall_6: 0.9950\n",
      "Epoch 38/50\n",
      "307/307 [==============================] - 9s 30ms/step - loss: 0.4923 - accuracy: 0.8928 - precision_6: 0.3273 - recall_6: 0.9955 - val_loss: 0.6925 - val_accuracy: 0.8287 - val_precision_6: 0.3150 - val_recall_6: 0.9932\n",
      "Epoch 39/50\n",
      "307/307 [==============================] - 9s 29ms/step - loss: 0.4870 - accuracy: 0.8934 - precision_6: 0.3282 - recall_6: 0.9958 - val_loss: 0.6905 - val_accuracy: 0.8265 - val_precision_6: 0.3207 - val_recall_6: 0.9939\n",
      "Epoch 40/50\n",
      "307/307 [==============================] - 9s 29ms/step - loss: 0.4893 - accuracy: 0.8931 - precision_6: 0.3260 - recall_6: 0.9956 - val_loss: 0.6858 - val_accuracy: 0.8278 - val_precision_6: 0.3137 - val_recall_6: 0.9957\n",
      "Epoch 41/50\n",
      "307/307 [==============================] - 9s 30ms/step - loss: 0.4798 - accuracy: 0.8923 - precision_6: 0.3254 - recall_6: 0.9960 - val_loss: 0.6832 - val_accuracy: 0.8250 - val_precision_6: 0.3132 - val_recall_6: 0.9952\n",
      "Epoch 42/50\n",
      "307/307 [==============================] - 9s 29ms/step - loss: 0.4855 - accuracy: 0.8930 - precision_6: 0.3269 - recall_6: 0.9955 - val_loss: 0.6920 - val_accuracy: 0.8263 - val_precision_6: 0.3172 - val_recall_6: 0.9943\n",
      "Epoch 43/50\n",
      "307/307 [==============================] - 9s 29ms/step - loss: 0.4932 - accuracy: 0.8928 - precision_6: 0.3270 - recall_6: 0.9959 - val_loss: 0.7076 - val_accuracy: 0.8298 - val_precision_6: 0.3193 - val_recall_6: 0.9941\n",
      "Epoch 44/50\n",
      "307/307 [==============================] - 9s 30ms/step - loss: 0.4839 - accuracy: 0.8929 - precision_6: 0.3246 - recall_6: 0.9966 - val_loss: 0.7177 - val_accuracy: 0.8245 - val_precision_6: 0.3144 - val_recall_6: 0.9905\n",
      "Epoch 45/50\n",
      "307/307 [==============================] - 9s 29ms/step - loss: 0.4869 - accuracy: 0.8923 - precision_6: 0.3240 - recall_6: 0.9961 - val_loss: 0.6843 - val_accuracy: 0.8278 - val_precision_6: 0.3148 - val_recall_6: 0.9944\n",
      "Epoch 46/50\n",
      "307/307 [==============================] - 10s 31ms/step - loss: 0.4815 - accuracy: 0.8938 - precision_6: 0.3234 - recall_6: 0.9961 - val_loss: 0.6925 - val_accuracy: 0.8307 - val_precision_6: 0.3128 - val_recall_6: 0.9943\n",
      "Epoch 47/50\n",
      "307/307 [==============================] - 9s 30ms/step - loss: 0.4793 - accuracy: 0.8937 - precision_6: 0.3233 - recall_6: 0.9968 - val_loss: 0.7191 - val_accuracy: 0.8260 - val_precision_6: 0.3219 - val_recall_6: 0.9920\n",
      "Epoch 48/50\n",
      "307/307 [==============================] - 9s 31ms/step - loss: 0.4871 - accuracy: 0.8932 - precision_6: 0.3231 - recall_6: 0.9962 - val_loss: 0.6966 - val_accuracy: 0.8285 - val_precision_6: 0.3108 - val_recall_6: 0.9961\n",
      "Epoch 49/50\n",
      "307/307 [==============================] - 9s 29ms/step - loss: 0.4814 - accuracy: 0.8946 - precision_6: 0.3221 - recall_6: 0.9958 - val_loss: 0.7072 - val_accuracy: 0.8245 - val_precision_6: 0.3233 - val_recall_6: 0.9944\n",
      "Epoch 50/50\n",
      "307/307 [==============================] - 9s 31ms/step - loss: 0.4815 - accuracy: 0.8947 - precision_6: 0.3226 - recall_6: 0.9961 - val_loss: 0.7098 - val_accuracy: 0.8240 - val_precision_6: 0.3109 - val_recall_6: 0.9946\n"
     ]
    }
   ],
   "source": [
    "epochs = 50\n",
    "batch = 128\n",
    "\n",
    "history = modelCNN.fit(X_train, y_train, epochs=epochs, verbose=1,\n",
    "                    batch_size=batch,\n",
    "                    validation_data = (X_test, y_test))"
   ]
  },
  {
   "cell_type": "code",
   "execution_count": null,
   "metadata": {
    "colab": {
     "base_uri": "https://localhost:8080/"
    },
    "executionInfo": {
     "elapsed": 1860,
     "status": "ok",
     "timestamp": 1679524172540,
     "user": {
      "displayName": "Ксения Сливкина",
      "userId": "17330713614842707096"
     },
     "user_tz": -180
    },
    "id": "DybFKmdWPNUf",
    "outputId": "7b62d6e9-b8f4-4188-e47b-9d5139ac0ac6"
   },
   "outputs": [
    {
     "name": "stdout",
     "output_type": "stream",
     "text": [
      "Keras weights file (<HDF5 file \"variables.h5\" (mode r+)>) saving:\n",
      "...layers\n",
      "......conv1d\n",
      ".........vars\n",
      "............0\n",
      "............1\n",
      "......conv1d_1\n",
      ".........vars\n",
      "............0\n",
      "............1\n",
      "......conv1d_2\n",
      ".........vars\n",
      "............0\n",
      "............1\n",
      "......dense\n",
      ".........vars\n",
      "............0\n",
      "............1\n",
      "......dropout\n",
      ".........vars\n",
      "......embedding\n",
      ".........vars\n",
      "............0\n",
      "......global_max_pooling1d\n",
      ".........vars\n",
      "...metrics\n",
      "......mean\n",
      ".........vars\n",
      "............0\n",
      "............1\n",
      "......mean_metric_wrapper\n",
      ".........vars\n",
      "............0\n",
      "............1\n",
      "......precision\n",
      ".........vars\n",
      "............0\n",
      "............1\n",
      "......recall\n",
      ".........vars\n",
      "............0\n",
      "............1\n",
      "...optimizer\n",
      "......vars\n",
      ".........0\n",
      ".........1\n",
      ".........10\n",
      ".........11\n",
      ".........12\n",
      ".........13\n",
      ".........14\n",
      ".........15\n",
      ".........16\n",
      ".........17\n",
      ".........18\n",
      ".........2\n",
      ".........3\n",
      ".........4\n",
      ".........5\n",
      ".........6\n",
      ".........7\n",
      ".........8\n",
      ".........9\n",
      "...vars\n",
      "Keras model archive saving:\n",
      "File Name                                             Modified             Size\n",
      "variables.h5                                   2023-03-22 22:29:30    165049896\n",
      "config.json                                    2023-03-22 22:29:29         4665\n",
      "metadata.json                                  2023-03-22 22:29:29           64\n"
     ]
    }
   ],
   "source": [
    "with open('CNN_model43.pkl', 'wb') as fin:\n",
    "    pickle.dump(modelCNN, fin)"
   ]
  },
  {
   "cell_type": "code",
   "execution_count": null,
   "metadata": {
    "colab": {
     "base_uri": "https://localhost:8080/"
    },
    "executionInfo": {
     "elapsed": 582,
     "status": "ok",
     "timestamp": 1679614063604,
     "user": {
      "displayName": "Ксения Сливкина",
      "userId": "17330713614842707096"
     },
     "user_tz": -180
    },
    "id": "caFrhiExe9Gy",
    "outputId": "83318f54-5cf9-49e8-ab05-f5db5a27ce33"
   },
   "outputs": [
    {
     "name": "stdout",
     "output_type": "stream",
     "text": [
      "Model: \"sequential_4\"\n",
      "_________________________________________________________________\n",
      " Layer (type)                Output Shape              Param #   \n",
      "=================================================================\n",
      " embedding_4 (Embedding)     (None, 50, 20)            1779440   \n",
      "                                                                 \n",
      " bidirectional_2 (Bidirectio  (None, 100)              7100      \n",
      " nal)                                                            \n",
      "                                                                 \n",
      " dense_3 (Dense)             (None, 5)                 505       \n",
      "                                                                 \n",
      "=================================================================\n",
      "Total params: 1,787,045\n",
      "Trainable params: 1,787,045\n",
      "Non-trainable params: 0\n",
      "_________________________________________________________________\n",
      "None\n"
     ]
    }
   ],
   "source": [
    "# RNN\n",
    "embed_dim = 20\n",
    "\n",
    "RNNmodel = Sequential()\n",
    "RNNmodel.add(Embedding(vocab_size, embed_dim, input_length=max_len))\n",
    "RNNmodel.add(Bidirectional(SimpleRNN(50)))\n",
    "RNNmodel.add(Dense(5, activation='sigmoid'))\n",
    " \n",
    "# Printing model summary\n",
    "print(RNNmodel.summary())\n",
    " \n",
    "# Compiling model summary\n",
    "RNNmodel.compile(loss=\"categorical_crossentropy\", optimizer='adam', metrics=['accuracy'])"
   ]
  },
  {
   "cell_type": "code",
   "execution_count": null,
   "metadata": {
    "id": "5dzYrIc5zpSi"
   },
   "outputs": [],
   "source": [
    "plot_model(RNNmodel, to_file='modelRNN.png')"
   ]
  },
  {
   "cell_type": "code",
   "execution_count": null,
   "metadata": {
    "colab": {
     "base_uri": "https://localhost:8080/"
    },
    "id": "3cV_zNjEe9KA",
    "outputId": "f27886b5-7887-40af-ade0-1bbd45de187c"
   },
   "outputs": [
    {
     "name": "stdout",
     "output_type": "stream",
     "text": [
      "Epoch 1/20\n",
      "582/582 [==============================] - 44s 67ms/step - loss: 0.7833 - accuracy: 0.6852 - val_loss: 0.5100 - val_accuracy: 0.8142\n",
      "Epoch 2/20\n",
      "582/582 [==============================] - 46s 79ms/step - loss: 0.3884 - accuracy: 0.8664 - val_loss: 0.4509 - val_accuracy: 0.8315\n",
      "Epoch 3/20\n",
      "582/582 [==============================] - 41s 71ms/step - loss: 0.3073 - accuracy: 0.8939 - val_loss: 0.4493 - val_accuracy: 0.8418\n",
      "Epoch 4/20\n",
      "582/582 [==============================] - 40s 69ms/step - loss: 0.2756 - accuracy: 0.8997 - val_loss: 0.4500 - val_accuracy: 0.8428\n",
      "Epoch 5/20\n",
      "582/582 [==============================] - 36s 62ms/step - loss: 0.2591 - accuracy: 0.9026 - val_loss: 0.4672 - val_accuracy: 0.8464\n",
      "Epoch 6/20\n",
      "582/582 [==============================] - 36s 61ms/step - loss: 0.2482 - accuracy: 0.9039 - val_loss: 0.4516 - val_accuracy: 0.8530\n",
      "Epoch 7/20\n",
      "582/582 [==============================] - 38s 66ms/step - loss: 0.2383 - accuracy: 0.9060 - val_loss: 0.4799 - val_accuracy: 0.8489\n",
      "Epoch 8/20\n",
      "582/582 [==============================] - 36s 62ms/step - loss: 0.2334 - accuracy: 0.9073 - val_loss: 0.4731 - val_accuracy: 0.8438\n",
      "Epoch 9/20\n",
      "582/582 [==============================] - 37s 64ms/step - loss: 0.2292 - accuracy: 0.9083 - val_loss: 0.5122 - val_accuracy: 0.8428\n",
      "Epoch 10/20\n",
      "582/582 [==============================] - 35s 61ms/step - loss: 0.2238 - accuracy: 0.9085 - val_loss: 0.5051 - val_accuracy: 0.8382\n",
      "Epoch 11/20\n",
      "582/582 [==============================] - 38s 65ms/step - loss: 0.2200 - accuracy: 0.9101 - val_loss: 0.5217 - val_accuracy: 0.8377\n",
      "Epoch 12/20\n",
      "582/582 [==============================] - 36s 62ms/step - loss: 0.2177 - accuracy: 0.9115 - val_loss: 0.5073 - val_accuracy: 0.8489\n",
      "Epoch 13/20\n",
      "582/582 [==============================] - 37s 64ms/step - loss: 0.2141 - accuracy: 0.9112 - val_loss: 0.5066 - val_accuracy: 0.8484\n",
      "Epoch 14/20\n",
      "582/582 [==============================] - 36s 62ms/step - loss: 0.2131 - accuracy: 0.9117 - val_loss: 0.5166 - val_accuracy: 0.8566\n",
      "Epoch 15/20\n",
      "582/582 [==============================] - 37s 63ms/step - loss: 0.2110 - accuracy: 0.9120 - val_loss: 0.5524 - val_accuracy: 0.8525\n",
      "Epoch 16/20\n",
      "508/582 [=========================>....] - ETA: 4s - loss: 0.2058 - accuracy: 0.9140"
     ]
    }
   ],
   "source": [
    "RNNmodel.fit(X_train, y_train, validation_split=0.05, epochs=20, batch_size=64)"
   ]
  },
  {
   "cell_type": "code",
   "execution_count": null,
   "metadata": {
    "colab": {
     "base_uri": "https://localhost:8080/"
    },
    "executionInfo": {
     "elapsed": 520,
     "status": "ok",
     "timestamp": 1679526789735,
     "user": {
      "displayName": "Ксения Сливкина",
      "userId": "17330713614842707096"
     },
     "user_tz": -180
    },
    "id": "QAfKzUoNhaUm",
    "outputId": "7cf4c556-2f09-4931-bba8-1eaf42451ba4"
   },
   "outputs": [
    {
     "name": "stdout",
     "output_type": "stream",
     "text": [
      "Keras weights file (<HDF5 file \"variables.h5\" (mode r+)>) saving:\n",
      "...layers\n",
      "......bidirectional\n",
      ".........backward_layer\n",
      "............cell\n",
      "...............vars\n",
      "..................0\n",
      "..................1\n",
      "..................2\n",
      "............vars\n",
      ".........forward_layer\n",
      "............cell\n",
      "...............vars\n",
      "..................0\n",
      "..................1\n",
      "..................2\n",
      "............vars\n",
      ".........layer\n",
      "............cell\n",
      "...............vars\n",
      "............vars\n",
      ".........vars\n",
      "......dense\n",
      ".........vars\n",
      "............0\n",
      "............1\n",
      "......embedding\n",
      ".........vars\n",
      "............0\n",
      "...metrics\n",
      "......mean\n",
      ".........vars\n",
      "............0\n",
      "............1\n",
      "......mean_metric_wrapper\n",
      ".........vars\n",
      "............0\n",
      "............1\n",
      "...optimizer\n",
      "......vars\n",
      ".........0\n",
      ".........1\n",
      ".........10\n",
      ".........11\n",
      ".........12\n",
      ".........13\n",
      ".........14\n",
      ".........15\n",
      ".........16\n",
      ".........17\n",
      ".........18\n",
      ".........2\n",
      ".........3\n",
      ".........4\n",
      ".........5\n",
      ".........6\n",
      ".........7\n",
      ".........8\n",
      ".........9\n",
      "...vars\n",
      "Keras model archive saving:\n",
      "File Name                                             Modified             Size\n",
      "variables.h5                                   2023-03-22 23:13:08     21482680\n",
      "config.json                                    2023-03-22 23:13:08         2283\n",
      "metadata.json                                  2023-03-22 23:13:08           64\n"
     ]
    }
   ],
   "source": [
    "with open('RNN_model38.pkl', 'wb') as fin:\n",
    "    pickle.dump(RNNmodel, fin)"
   ]
  },
  {
   "cell_type": "code",
   "execution_count": null,
   "metadata": {
    "colab": {
     "base_uri": "https://localhost:8080/"
    },
    "executionInfo": {
     "elapsed": 82431,
     "status": "ok",
     "timestamp": 1679526885799,
     "user": {
      "displayName": "Ксения Сливкина",
      "userId": "17330713614842707096"
     },
     "user_tz": -180
    },
    "id": "3psYrDqke9OQ",
    "outputId": "19b0d47a-5722-4675-cbc2-c82b2fe576dd"
   },
   "outputs": [
    {
     "name": "stdout",
     "output_type": "stream",
     "text": [
      "              precision    recall  f1-score   support\n",
      "\n",
      "           0       0.90      0.97      0.93      1998\n",
      "           1       0.72      0.67      0.69      1945\n",
      "           2       0.74      0.65      0.69      1938\n",
      "           3       0.90      0.94      0.92      1992\n",
      "           4       0.93      1.00      0.97      1922\n",
      "\n",
      "    accuracy                           0.85      9795\n",
      "   macro avg       0.84      0.85      0.84      9795\n",
      "weighted avg       0.84      0.85      0.84      9795\n",
      "\n"
     ]
    }
   ],
   "source": [
    "yhat_probs_RNN = RNNmodel.predict(X_test, verbose=0)\n",
    "yhat_classes_RNN = np.argmax(yhat_probs_RNN, axis=1)\n",
    "rounded_labels=np.argmax(y_test, axis=1)\n",
    "print(metrics.classification_report(rounded_labels, yhat_classes_RNN))"
   ]
  },
  {
   "cell_type": "markdown",
   "metadata": {
    "id": "vPUxq-X9QzX9"
   },
   "source": [
    "# **ТЕСТИРОВАНИЕ**"
   ]
  },
  {
   "cell_type": "code",
   "execution_count": null,
   "metadata": {
    "colab": {
     "base_uri": "https://localhost:8080/"
    },
    "executionInfo": {
     "elapsed": 860,
     "status": "ok",
     "timestamp": 1679599345128,
     "user": {
      "displayName": "Ксения Сливкина",
      "userId": "17330713614842707096"
     },
     "user_tz": -180
    },
    "id": "z_vkEJqaQ3jM",
    "outputId": "2ab6a393-492d-4463-8d33-4cfedf0915cb"
   },
   "outputs": [
    {
     "name": "stdout",
     "output_type": "stream",
     "text": [
      "Dataset size (8048, 2)\n",
      "row number:  8048\n",
      "feature number:  2\n",
      "\n",
      "names of features:  ['original_data', 'score']\n",
      "-------------------\n",
      "full data loaded\n",
      "-------------------\n"
     ]
    }
   ],
   "source": [
    "# читаем данные из файла\n",
    "f = '/content/drive/MyDrive/NLP/test_data_exam_1.xlsx'\n",
    "df1 = pd.read_excel(f, 0)  \n",
    "print('Dataset size', df1.shape)\n",
    "num_rows, num_feature = df1.shape\n",
    "\n",
    "print('row number: ', num_rows)\n",
    "print('feature number: ', num_feature)\n",
    "print()\n",
    "print('names of features: ', list(df1))\n",
    "\n",
    "print('-------------------')\n",
    "print('full data loaded')\n",
    "print('-------------------')"
   ]
  },
  {
   "cell_type": "code",
   "execution_count": 7,
   "metadata": {
    "colab": {
     "base_uri": "https://localhost:8080/"
    },
    "executionInfo": {
     "elapsed": 1123,
     "status": "ok",
     "timestamp": 1679588252420,
     "user": {
      "displayName": "Ксения Сливкина",
      "userId": "17330713614842707096"
     },
     "user_tz": -180
    },
    "id": "bdk2mXm2xQL0",
    "outputId": "e193cf6a-b6d3-4a38-8d89-55583d58a1b9"
   },
   "outputs": [],
   "source": [
    "# Init the Wordnet Lemmatizer\n",
    "lemmatizer = WordNetLemmatizer()"
   ]
  },
  {
   "cell_type": "code",
   "execution_count": null,
   "metadata": {
    "colab": {
     "base_uri": "https://localhost:8080/"
    },
    "executionInfo": {
     "elapsed": 364565,
     "status": "ok",
     "timestamp": 1679599720856,
     "user": {
      "displayName": "Ксения Сливкина",
      "userId": "17330713614842707096"
     },
     "user_tz": -180
    },
    "id": "2C0cumGaREr0",
    "outputId": "c6ad738c-d498-4aff-f099-3795e10d8618"
   },
   "outputs": [
    {
     "name": "stderr",
     "output_type": "stream",
     "text": [
      "[nltk_data] Downloading package stopwords to /root/nltk_data...\n",
      "[nltk_data]   Package stopwords is already up-to-date!\n",
      "100%|██████████| 8048/8048 [06:04<00:00, 22.09it/s]"
     ]
    },
    {
     "name": "stdout",
     "output_type": "stream",
     "text": [
      "Lematization is over\n"
     ]
    },
    {
     "name": "stderr",
     "output_type": "stream",
     "text": [
      "\n"
     ]
    }
   ],
   "source": [
    "y_data1 = []\n",
    "lemm_data1 = []\n",
    "morph = pymorphy2.MorphAnalyzer()\n",
    "stop = set(stopwords.words(\"russian\") + list(string.punctuation))\n",
    "\n",
    "for i in tqdm(range(num_rows)):\n",
    "\n",
    "    s2 = str(df1['original_data'][i])\n",
    "    s12 = re.sub(r\"[,.?“/!@#$1234567890#—ツ►๑۩۞۩•*”˜˜”*°°*`)(]\", '', s2)\n",
    "    word_list1 = nltk.word_tokenize(s12)\n",
    "    for j in range(0,len(word_list1)):\n",
    "        word_list1[j] = morph.parse(word_list1[j])[0].normal_form\n",
    "    word_list1 = [w for w in word_list1 if not w in stop]  \n",
    "    lemmatized_output = ' '.join([lemmatizer.lemmatize(w) for w in word_list1])\n",
    "    lemm_data1.append(lemmatized_output)\n",
    "    y_data1.append(word_list1)\n",
    "    \n",
    "print('Lematization is over')"
   ]
  },
  {
   "cell_type": "code",
   "execution_count": null,
   "metadata": {
    "id": "MvptZuq6Rr1b"
   },
   "outputs": [],
   "source": [
    "df1['processed_data'] =  lemm_data1"
   ]
  },
  {
   "cell_type": "code",
   "execution_count": null,
   "metadata": {
    "colab": {
     "base_uri": "https://localhost:8080/"
    },
    "executionInfo": {
     "elapsed": 281,
     "status": "ok",
     "timestamp": 1679599839602,
     "user": {
      "displayName": "Ксения Сливкина",
      "userId": "17330713614842707096"
     },
     "user_tz": -180
    },
    "id": "GaheDRPKSc4b",
    "outputId": "50e87ed0-750e-4d8b-c51f-d9671de022ff"
   },
   "outputs": [
    {
     "name": "stdout",
     "output_type": "stream",
     "text": [
      "(4199, 3)\n",
      "(2747, 3)\n",
      "(524, 3)\n",
      "(473, 3)\n",
      "(105, 3)\n"
     ]
    }
   ],
   "source": [
    "df1[\"processed data\"] = lemm_data1\n",
    "\n",
    "neut_df1= df1[df1['score'] == 0]\n",
    "neg_df1= df1[df1['score'] == -1]\n",
    "pos_df1= df1[df1['score'] == 1]\n",
    "super_neg_df1 = df1[df1['score'] == -2]\n",
    "super_pos_df1= df1[df1['score'] == 2]\n",
    "\n",
    "print(neut_df1.shape)\n",
    "print(neg_df1.shape)\n",
    "print(pos_df1.shape)\n",
    "print(super_neg_df1.shape)\n",
    "print(super_pos_df1.shape)"
   ]
  },
  {
   "cell_type": "code",
   "execution_count": null,
   "metadata": {
    "colab": {
     "base_uri": "https://localhost:8080/"
    },
    "executionInfo": {
     "elapsed": 838,
     "status": "ok",
     "timestamp": 1679599842926,
     "user": {
      "displayName": "Ксения Сливкина",
      "userId": "17330713614842707096"
     },
     "user_tz": -180
    },
    "id": "lChs77EuSooR",
    "outputId": "1e2e6e36-6f90-4e2d-b2bf-6dda409d18c7"
   },
   "outputs": [
    {
     "name": "stdout",
     "output_type": "stream",
     "text": [
      "neg_dataset before sampling:  (2747, 3)\n",
      "neg_dataset after sampling:  (4199, 3)\n",
      "pos_dataset before sampling:  (524, 3)\n",
      "pos_dataset after sampling:  (4199, 3)\n",
      "super_neg_dataset before sampling:  (473, 3)\n",
      "super_neg_dataset after sampling:  (4199, 3)\n",
      "super_pos_dataset before sampling:  (105, 3)\n",
      "neg_dataset after sampling:  (4199, 3)\n"
     ]
    }
   ],
   "source": [
    "print('neg_dataset before sampling: ', neg_df1.shape)\n",
    "\n",
    "neg_downsample = resample(neg_df1,\n",
    "             replace=True,\n",
    "             n_samples=4199,\n",
    "             random_state=42)\n",
    "\n",
    "print('neg_dataset after sampling: ', neg_downsample.shape)\n",
    "\n",
    "print('pos_dataset before sampling: ', pos_df1.shape)\n",
    "\n",
    "pos_downsample = resample(pos_df1,\n",
    "             replace=True,\n",
    "             n_samples=4199,\n",
    "             random_state=42)\n",
    "\n",
    "print('pos_dataset after sampling: ', pos_downsample.shape)\n",
    "\n",
    "print('super_neg_dataset before sampling: ', super_neg_df1.shape)\n",
    "\n",
    "super_neg_downsample = resample(super_neg_df1,\n",
    "             replace=True,\n",
    "             n_samples=4199,\n",
    "             random_state=42)\n",
    "\n",
    "print('super_neg_dataset after sampling: ', super_neg_downsample.shape)\n",
    "\n",
    "print('super_pos_dataset before sampling: ', super_pos_df1.shape)\n",
    "\n",
    "super_pos_downsample = resample(super_pos_df1,\n",
    "             replace=True,\n",
    "             n_samples=4199,\n",
    "             random_state=42)\n",
    "\n",
    "print('neg_dataset after sampling: ', super_pos_downsample.shape)"
   ]
  },
  {
   "cell_type": "code",
   "execution_count": null,
   "metadata": {
    "colab": {
     "base_uri": "https://localhost:8080/"
    },
    "executionInfo": {
     "elapsed": 3,
     "status": "ok",
     "timestamp": 1679599846819,
     "user": {
      "displayName": "Ксения Сливкина",
      "userId": "17330713614842707096"
     },
     "user_tz": -180
    },
    "id": "4QX-W2Z_SrCB",
    "outputId": "2031168f-3d5d-40e3-d8a9-a013f875f3d6"
   },
   "outputs": [
    {
     "name": "stdout",
     "output_type": "stream",
     "text": [
      "(20995, 3)\n"
     ]
    }
   ],
   "source": [
    "full_up_sample1 = pd.concat([super_neg_downsample, neg_downsample, neut_df1, pos_downsample, super_pos_downsample])\n",
    "print(full_up_sample1.shape)"
   ]
  },
  {
   "cell_type": "code",
   "execution_count": null,
   "metadata": {
    "id": "rD4X1t-_Sx6z"
   },
   "outputs": [],
   "source": [
    "X1 = tokenizer.texts_to_sequences(full_up_sample1['processed data'].values)\n",
    "max_len = 50\n",
    "X1 = pad_sequences(X1, maxlen = max_len)\n",
    "Y1 = pd.get_dummies(full_up_sample1['score']).values"
   ]
  },
  {
   "cell_type": "code",
   "execution_count": null,
   "metadata": {
    "colab": {
     "base_uri": "https://localhost:8080/"
    },
    "executionInfo": {
     "elapsed": 1834,
     "status": "ok",
     "timestamp": 1679594714197,
     "user": {
      "displayName": "Ксения Сливкина",
      "userId": "17330713614842707096"
     },
     "user_tz": -180
    },
    "id": "4SCH7y1LUKay",
    "outputId": "c36ea8fe-a360-40af-e046-393d4323ee5c"
   },
   "outputs": [
    {
     "name": "stdout",
     "output_type": "stream",
     "text": [
      "Keras model archive loading:\n",
      "File Name                                             Modified             Size\n",
      "metadata.json                                  2023-03-22 09:44:14           64\n",
      "config.json                                    2023-03-22 09:44:14         2204\n",
      "variables.h5                                   2023-03-22 09:44:14     21552752\n",
      "Keras weights file (<HDF5 file \"variables.h5\" (mode r)>) loading:\n",
      "...layers\n",
      "......dense\n",
      ".........vars\n",
      "............0\n",
      "............1\n",
      "......embedding\n",
      ".........vars\n",
      "............0\n",
      "......lstm\n",
      ".........cell\n",
      "............vars\n",
      "...............0\n",
      "...............1\n",
      "...............2\n",
      ".........vars\n",
      "...metrics\n",
      "......mean\n",
      ".........vars\n",
      "............0\n",
      "............1\n",
      "......mean_metric_wrapper\n",
      ".........vars\n",
      "............0\n",
      "............1\n",
      "...optimizer\n",
      "......vars\n",
      ".........0\n",
      ".........1\n",
      ".........10\n",
      ".........11\n",
      ".........12\n",
      ".........2\n",
      ".........3\n",
      ".........4\n",
      ".........5\n",
      ".........6\n",
      ".........7\n",
      ".........8\n",
      ".........9\n",
      "...vars\n"
     ]
    }
   ],
   "source": [
    "with open(\"/content/drive/MyDrive/NLP/LSTM_model_final.pkl\", \"rb\") as f:\n",
    "    LSTM_model_final = pickle.load(f)"
   ]
  },
  {
   "cell_type": "code",
   "execution_count": null,
   "metadata": {
    "colab": {
     "base_uri": "https://localhost:8080/"
    },
    "executionInfo": {
     "elapsed": 11133,
     "status": "ok",
     "timestamp": 1679594732358,
     "user": {
      "displayName": "Ксения Сливкина",
      "userId": "17330713614842707096"
     },
     "user_tz": -180
    },
    "id": "OFdbQFAZTQTh",
    "outputId": "bf7c5fd1-fc9f-489d-9ff3-63d5339a4e19"
   },
   "outputs": [
    {
     "name": "stdout",
     "output_type": "stream",
     "text": [
      "657/657 [==============================] - 6s 8ms/step\n",
      "              precision    recall  f1-score   support\n",
      "\n",
      "           0       0.86      0.73      0.79      4199\n",
      "           1       0.61      0.64      0.63      4199\n",
      "           2       0.55      0.71      0.62      4199\n",
      "           3       0.80      0.75      0.78      4199\n",
      "           4       0.92      0.81      0.86      4199\n",
      "\n",
      "    accuracy                           0.73     20995\n",
      "   macro avg       0.75      0.73      0.73     20995\n",
      "weighted avg       0.75      0.73      0.73     20995\n",
      "\n"
     ]
    }
   ],
   "source": [
    "yhat_probs = LSTM_model_final.predict(X1)\n",
    "yhat_classes = np.argmax(yhat_probs, axis=1)\n",
    "rounded_labels=np.argmax(Y1, axis=1)\n",
    "print(metrics.classification_report(rounded_labels, yhat_classes))"
   ]
  },
  {
   "cell_type": "code",
   "execution_count": null,
   "metadata": {
    "colab": {
     "base_uri": "https://localhost:8080/"
    },
    "executionInfo": {
     "elapsed": 2746,
     "status": "ok",
     "timestamp": 1679572438647,
     "user": {
      "displayName": "Ксения Сливкина",
      "userId": "17330713614842707096"
     },
     "user_tz": -180
    },
    "id": "GkCYppwHUO3R",
    "outputId": "ad3c9f48-a689-4d75-8708-b6e797fdcc7e"
   },
   "outputs": [
    {
     "name": "stdout",
     "output_type": "stream",
     "text": [
      "Keras model archive loading:\n",
      "File Name                                             Modified             Size\n",
      "metadata.json                                  2023-03-22 19:06:26           64\n",
      "config.json                                    2023-03-22 19:06:26         3278\n",
      "variables.h5                                   2023-03-22 19:06:26      7152088\n",
      "Keras weights file (<HDF5 file \"variables.h5\" (mode r)>) loading:\n",
      "...layers\n",
      "......dense\n",
      ".........vars\n",
      "............0\n",
      "............1\n",
      "......embedding\n",
      ".........vars\n",
      "............0\n",
      "......gru\n",
      ".........cell\n",
      "............vars\n",
      "...............0\n",
      "...............1\n",
      "...............2\n",
      ".........vars\n",
      "......gru_1\n",
      ".........cell\n",
      "............vars\n",
      "...............0\n",
      "...............1\n",
      "...............2\n",
      ".........vars\n",
      "...metrics\n",
      "......mean\n",
      ".........vars\n",
      "............0\n",
      "............1\n",
      "......mean_metric_wrapper\n",
      ".........vars\n",
      "............0\n",
      "............1\n",
      "...vars\n"
     ]
    }
   ],
   "source": [
    "with open(\"/content/drive/MyDrive/NLP/GNU_model_final.pkl\", \"rb\") as f:\n",
    "    GNU_model = pickle.load(f)"
   ]
  },
  {
   "cell_type": "code",
   "execution_count": null,
   "metadata": {
    "colab": {
     "base_uri": "https://localhost:8080/"
    },
    "executionInfo": {
     "elapsed": 11022,
     "status": "ok",
     "timestamp": 1679572489178,
     "user": {
      "displayName": "Ксения Сливкина",
      "userId": "17330713614842707096"
     },
     "user_tz": -180
    },
    "id": "ZOGfQJ3vUals",
    "outputId": "e5c765fc-1f97-4dfd-c94a-536a3026620e"
   },
   "outputs": [
    {
     "name": "stdout",
     "output_type": "stream",
     "text": [
      "657/657 [==============================] - 7s 10ms/step\n",
      "              precision    recall  f1-score   support\n",
      "\n",
      "           0       0.82      0.73      0.77      4199\n",
      "           1       0.61      0.62      0.62      4199\n",
      "           2       0.55      0.69      0.61      4199\n",
      "           3       0.79      0.75      0.77      4199\n",
      "           4       0.92      0.82      0.87      4199\n",
      "\n",
      "    accuracy                           0.72     20995\n",
      "   macro avg       0.74      0.72      0.73     20995\n",
      "weighted avg       0.74      0.72      0.73     20995\n",
      "\n"
     ]
    }
   ],
   "source": [
    "yhat_probsGNU =  GNU_model.predict(X1)\n",
    "yhat_classesGNU = np.argmax(yhat_probsGNU, axis=1)\n",
    "rounded_labels=np.argmax(Y1, axis=1)\n",
    "print(metrics.classification_report(rounded_labels, yhat_classesGNU))"
   ]
  },
  {
   "cell_type": "code",
   "execution_count": null,
   "metadata": {
    "colab": {
     "base_uri": "https://localhost:8080/"
    },
    "executionInfo": {
     "elapsed": 2574,
     "status": "ok",
     "timestamp": 1679572253522,
     "user": {
      "displayName": "Ксения Сливкина",
      "userId": "17330713614842707096"
     },
     "user_tz": -180
    },
    "id": "d9ZvCibcTkCo",
    "outputId": "08573129-1f1e-4b3a-dc53-5812955d6f0c"
   },
   "outputs": [
    {
     "name": "stdout",
     "output_type": "stream",
     "text": [
      "Keras model archive loading:\n",
      "File Name                                             Modified             Size\n",
      "metadata.json                                  2023-03-22 20:08:14           64\n",
      "config.json                                    2023-03-22 20:08:14         2351\n",
      "variables.h5                                   2023-03-22 20:08:14     21738776\n",
      "Keras weights file (<HDF5 file \"variables.h5\" (mode r)>) loading:\n",
      "...layers\n",
      "......bidirectional\n",
      ".........backward_layer\n",
      "............cell\n",
      "...............vars\n",
      "..................0\n",
      "..................1\n",
      "..................2\n",
      "............vars\n",
      ".........forward_layer\n",
      "............cell\n",
      "...............vars\n",
      "..................0\n",
      "..................1\n",
      "..................2\n",
      "............vars\n",
      ".........layer\n",
      "............cell\n",
      "...............vars\n",
      "............vars\n",
      ".........vars\n",
      "......dense\n",
      ".........vars\n",
      "............0\n",
      "............1\n",
      "......embedding\n",
      ".........vars\n",
      "............0\n",
      "...metrics\n",
      "......mean\n",
      ".........vars\n",
      "............0\n",
      "............1\n",
      "......mean_metric_wrapper\n",
      ".........vars\n",
      "............0\n",
      "............1\n",
      "...optimizer\n",
      "......vars\n",
      ".........0\n",
      ".........1\n",
      ".........10\n",
      ".........11\n",
      ".........12\n",
      ".........13\n",
      ".........14\n",
      ".........15\n",
      ".........16\n",
      ".........17\n",
      ".........18\n",
      ".........2\n",
      ".........3\n",
      ".........4\n",
      ".........5\n",
      ".........6\n",
      ".........7\n",
      ".........8\n",
      ".........9\n",
      "...vars\n"
     ]
    }
   ],
   "source": [
    "with open(\"/content/drive/MyDrive/NLP/LSTM_Bi_model.pkl\", \"rb\") as f:\n",
    "    LSTM_Bi_model = pickle.load(f)"
   ]
  },
  {
   "cell_type": "code",
   "execution_count": null,
   "metadata": {
    "colab": {
     "base_uri": "https://localhost:8080/"
    },
    "executionInfo": {
     "elapsed": 13446,
     "status": "ok",
     "timestamp": 1679572289976,
     "user": {
      "displayName": "Ксения Сливкина",
      "userId": "17330713614842707096"
     },
     "user_tz": -180
    },
    "id": "Sw-dSaSSmN71",
    "outputId": "a97d3907-3af5-416d-eb94-f71912ec2ed5"
   },
   "outputs": [
    {
     "name": "stdout",
     "output_type": "stream",
     "text": [
      "657/657 [==============================] - 10s 12ms/step\n",
      "              precision    recall  f1-score   support\n",
      "\n",
      "           0       0.85      0.72      0.78      4199\n",
      "           1       0.57      0.66      0.61      4199\n",
      "           2       0.57      0.67      0.62      4199\n",
      "           3       0.80      0.75      0.77      4199\n",
      "           4       0.92      0.81      0.87      4199\n",
      "\n",
      "    accuracy                           0.72     20995\n",
      "   macro avg       0.74      0.72      0.73     20995\n",
      "weighted avg       0.74      0.72      0.73     20995\n",
      "\n"
     ]
    }
   ],
   "source": [
    "yhat_probsBI = LSTM_Bi_model.predict(X1)\n",
    "yhat_classesBI = np.argmax(yhat_probsBI, axis=1)\n",
    "rounded_labels=np.argmax(Y1, axis=1)\n",
    "print(metrics.classification_report(rounded_labels, yhat_classesBI))"
   ]
  },
  {
   "cell_type": "code",
   "execution_count": null,
   "metadata": {
    "id": "G44_RBZ_Ts2d"
   },
   "outputs": [],
   "source": [
    "yhat_probsBI = bi_lstm_model.predict(X1)\n",
    "yhat_classesBI = np.argmax(yhat_probsBI, axis=1)\n",
    "rounded_labels=np.argmax(Y1, axis=1)\n",
    "print(metrics.classification_report(rounded_labels, yhat_classesBI))"
   ]
  },
  {
   "cell_type": "code",
   "execution_count": null,
   "metadata": {
    "colab": {
     "base_uri": "https://localhost:8080/"
    },
    "executionInfo": {
     "elapsed": 7639,
     "status": "ok",
     "timestamp": 1679566460728,
     "user": {
      "displayName": "Ксения Сливкина",
      "userId": "17330713614842707096"
     },
     "user_tz": -180
    },
    "id": "JDbVFkoYw_vS",
    "outputId": "6648c4bb-7b32-4ef2-8ffc-d4345767d42e"
   },
   "outputs": [
    {
     "name": "stdout",
     "output_type": "stream",
     "text": [
      "Keras model archive loading:\n",
      "File Name                                             Modified             Size\n",
      "variables.h5                                   2023-03-22 22:29:30    165049896\n",
      "config.json                                    2023-03-22 22:29:28         4665\n",
      "metadata.json                                  2023-03-22 22:29:28           64\n",
      "Keras weights file (<HDF5 file \"variables.h5\" (mode r)>) loading:\n",
      "...layers\n",
      "......conv1d\n",
      ".........vars\n",
      "............0\n",
      "............1\n",
      "......conv1d_1\n",
      ".........vars\n",
      "............0\n",
      "............1\n",
      "......conv1d_2\n",
      ".........vars\n",
      "............0\n",
      "............1\n",
      "......dense\n",
      ".........vars\n",
      "............0\n",
      "............1\n",
      "......dropout\n",
      ".........vars\n",
      "......embedding\n",
      ".........vars\n",
      "............0\n",
      "......global_max_pooling1d\n",
      ".........vars\n",
      "...metrics\n",
      "......mean\n",
      ".........vars\n",
      "............0\n",
      "............1\n",
      "......mean_metric_wrapper\n",
      ".........vars\n",
      "............0\n",
      "............1\n",
      "......precision\n",
      ".........vars\n",
      "............0\n",
      "............1\n",
      "......recall\n",
      ".........vars\n",
      "............0\n",
      "............1\n",
      "...optimizer\n",
      "......vars\n",
      ".........0\n",
      ".........1\n",
      ".........10\n",
      ".........11\n",
      ".........12\n",
      ".........13\n",
      ".........14\n",
      ".........15\n",
      ".........16\n",
      ".........17\n",
      ".........18\n",
      ".........2\n",
      ".........3\n",
      ".........4\n",
      ".........5\n",
      ".........6\n",
      ".........7\n",
      ".........8\n",
      ".........9\n",
      "...vars\n"
     ]
    }
   ],
   "source": [
    "with open(\"/content/drive/MyDrive/NLP/CNN_model43.pkl\", \"rb\") as f:\n",
    "    CNN_model = pickle.load(f)"
   ]
  },
  {
   "cell_type": "code",
   "execution_count": null,
   "metadata": {
    "colab": {
     "base_uri": "https://localhost:8080/"
    },
    "executionInfo": {
     "elapsed": 82222,
     "status": "ok",
     "timestamp": 1679573244265,
     "user": {
      "displayName": "Ксения Сливкина",
      "userId": "17330713614842707096"
     },
     "user_tz": -180
    },
    "id": "A0jNyZ0CmN-y",
    "outputId": "57db6042-8d01-4454-a351-2db070eaebfb"
   },
   "outputs": [
    {
     "name": "stdout",
     "output_type": "stream",
     "text": [
      "657/657 [==============================] - 73s 111ms/step\n",
      "              precision    recall  f1-score   support\n",
      "\n",
      "           0       0.50      0.24      0.32      4199\n",
      "           1       0.30      0.38      0.33      4199\n",
      "           2       0.26      0.64      0.37      4199\n",
      "           3       0.47      0.23      0.30      4199\n",
      "           4       0.73      0.20      0.31      4199\n",
      "\n",
      "    accuracy                           0.34     20995\n",
      "   macro avg       0.45      0.34      0.33     20995\n",
      "weighted avg       0.45      0.34      0.33     20995\n",
      "\n"
     ]
    }
   ],
   "source": [
    "yhat_probs = CNN_model.predict(X1)\n",
    "yhat_classes = np.argmax(yhat_probs, axis=1)\n",
    "rounded_labels=np.argmax(Y1, axis=1)\n",
    "print(metrics.classification_report(rounded_labels, yhat_classes))"
   ]
  },
  {
   "cell_type": "code",
   "execution_count": null,
   "metadata": {
    "colab": {
     "base_uri": "https://localhost:8080/"
    },
    "executionInfo": {
     "elapsed": 602,
     "status": "ok",
     "timestamp": 1679573109486,
     "user": {
      "displayName": "Ксения Сливкина",
      "userId": "17330713614842707096"
     },
     "user_tz": -180
    },
    "id": "-Fxjdf54mOBc",
    "outputId": "c08f32b7-eb9e-462c-fbd3-9940a76bed3e"
   },
   "outputs": [
    {
     "name": "stdout",
     "output_type": "stream",
     "text": [
      "Keras model archive loading:\n",
      "File Name                                             Modified             Size\n",
      "variables.h5                                   2023-03-22 23:13:08     21482680\n",
      "config.json                                    2023-03-22 23:13:08         2283\n",
      "metadata.json                                  2023-03-22 23:13:08           64\n",
      "Keras weights file (<HDF5 file \"variables.h5\" (mode r)>) loading:\n",
      "...layers\n",
      "......bidirectional\n",
      ".........backward_layer\n",
      "............cell\n",
      "...............vars\n",
      "..................0\n",
      "..................1\n",
      "..................2\n",
      "............vars\n",
      ".........forward_layer\n",
      "............cell\n",
      "...............vars\n",
      "..................0\n",
      "..................1\n",
      "..................2\n",
      "............vars\n",
      ".........layer\n",
      "............cell\n",
      "...............vars\n",
      "............vars\n",
      ".........vars\n",
      "......dense\n",
      ".........vars\n",
      "............0\n",
      "............1\n",
      "......embedding\n",
      ".........vars\n",
      "............0\n",
      "...metrics\n",
      "......mean\n",
      ".........vars\n",
      "............0\n",
      "............1\n",
      "......mean_metric_wrapper\n",
      ".........vars\n",
      "............0\n",
      "............1\n",
      "...optimizer\n",
      "......vars\n",
      ".........0\n",
      ".........1\n",
      ".........10\n",
      ".........11\n",
      ".........12\n",
      ".........13\n",
      ".........14\n",
      ".........15\n",
      ".........16\n",
      ".........17\n",
      ".........18\n",
      ".........2\n",
      ".........3\n",
      ".........4\n",
      ".........5\n",
      ".........6\n",
      ".........7\n",
      ".........8\n",
      ".........9\n",
      "...vars\n"
     ]
    }
   ],
   "source": [
    "with open(\"/content/drive/MyDrive/NLP/RNN_model38.pkl\", \"rb\") as f:\n",
    "    RNN_model = pickle.load(f)"
   ]
  },
  {
   "cell_type": "code",
   "execution_count": null,
   "metadata": {
    "colab": {
     "base_uri": "https://localhost:8080/"
    },
    "executionInfo": {
     "elapsed": 7932,
     "status": "ok",
     "timestamp": 1679584807765,
     "user": {
      "displayName": "Ксения Сливкина",
      "userId": "17330713614842707096"
     },
     "user_tz": -180
    },
    "id": "9ott3_6iyf73",
    "outputId": "693b74cd-44f7-43e1-cf6f-eeb1c8b579b3"
   },
   "outputs": [
    {
     "name": "stdout",
     "output_type": "stream",
     "text": [
      "657/657 [==============================] - 7s 11ms/step\n",
      "              precision    recall  f1-score   support\n",
      "\n",
      "           0       0.68      0.30      0.41      4199\n",
      "           1       0.38      0.48      0.43      4199\n",
      "           2       0.29      0.69      0.41      4199\n",
      "           3       0.45      0.29      0.35      4199\n",
      "           4       0.91      0.26      0.40      4199\n",
      "\n",
      "    accuracy                           0.40     20995\n",
      "   macro avg       0.54      0.40      0.40     20995\n",
      "weighted avg       0.54      0.40      0.40     20995\n",
      "\n"
     ]
    }
   ],
   "source": [
    "yhat_probs = RNN_model.predict(X1)\n",
    "yhat_classes = np.argmax(yhat_probs, axis=1)\n",
    "rounded_labels=np.argmax(Y1, axis=1)\n",
    "print(metrics.classification_report(rounded_labels, yhat_classes))"
   ]
  }
 ],
 "metadata": {
  "colab": {
   "authorship_tag": "ABX9TyMv9HnHwuFu0Hy1+N+xM2E3",
   "provenance": []
  },
  "gpuClass": "standard",
  "kernelspec": {
   "display_name": "Python 3 (ipykernel)",
   "language": "python",
   "name": "python3"
  },
  "language_info": {
   "codemirror_mode": {
    "name": "ipython",
    "version": 3
   },
   "file_extension": ".py",
   "mimetype": "text/x-python",
   "name": "python",
   "nbconvert_exporter": "python",
   "pygments_lexer": "ipython3",
   "version": "3.9.19"
  }
 },
 "nbformat": 4,
 "nbformat_minor": 4
}
