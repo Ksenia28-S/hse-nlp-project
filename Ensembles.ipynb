{
 "cells": [
  {
   "cell_type": "code",
   "execution_count": 3,
   "id": "9bfc9d0b-453f-4bd1-9482-d6b229f532a8",
   "metadata": {},
   "outputs": [
    {
     "name": "stderr",
     "output_type": "stream",
     "text": [
      "[nltk_data] Downloading package stopwords to\n",
      "[nltk_data]     C:\\Users\\PC\\AppData\\Roaming\\nltk_data...\n",
      "[nltk_data]   Package stopwords is already up-to-date!\n",
      "[nltk_data] Downloading package punkt to\n",
      "[nltk_data]     C:\\Users\\PC\\AppData\\Roaming\\nltk_data...\n",
      "[nltk_data]   Package punkt is already up-to-date!\n",
      "[nltk_data] Downloading package wordnet to\n",
      "[nltk_data]     C:\\Users\\PC\\AppData\\Roaming\\nltk_data...\n",
      "[nltk_data]   Package wordnet is already up-to-date!\n",
      "[nltk_data] Downloading package omw-1.4 to\n",
      "[nltk_data]     C:\\Users\\PC\\AppData\\Roaming\\nltk_data...\n",
      "[nltk_data]   Package omw-1.4 is already up-to-date!\n"
     ]
    }
   ],
   "source": [
    "import numpy as np\n",
    "import pandas as pd\n",
    "import nltk\n",
    "from nltk.stem import WordNetLemmatizer\n",
    "from nltk.tokenize import sent_tokenize, word_tokenize\n",
    "from tqdm import tqdm\n",
    "import re\n",
    "import pymorphy2\n",
    "import string\n",
    "import gensim\n",
    "from gensim.models.doc2vec import Doc2Vec, TaggedDocument\n",
    "from nltk.tokenize import word_tokenize\n",
    "from sklearn.model_selection import train_test_split, GridSearchCV, ShuffleSplit\n",
    "from sklearn.utils import shuffle, resample\n",
    "import time\n",
    "from sklearn.ensemble import RandomForestClassifier, GradientBoostingClassifier, AdaBoostClassifier\n",
    "from sklearn import metrics\n",
    "import matplotlib.pyplot as plt\n",
    "import pickle\n",
    "nltk.download('stopwords')\n",
    "nltk.download('punkt')\n",
    "nltk.download('wordnet')\n",
    "nltk.download('omw-1.4')\n",
    "from nltk.corpus import stopwords"
   ]
  },
  {
   "cell_type": "code",
   "execution_count": 1,
   "id": "666fb5a6",
   "metadata": {},
   "outputs": [
    {
     "name": "stdout",
     "output_type": "stream",
     "text": [
      "Dataset size (18779, 2)\n",
      "row number:  18779\n",
      "feature number:  2\n",
      "\n",
      "names of features:  ['original_data', 'score']\n",
      "-------------------\n",
      "full data loaded\n",
      "-------------------\n"
     ]
    }
   ],
   "source": [
    "# читаем данные из файла\n",
    "f = 'train_data_exam_1.xlsx'\n",
    "\n",
    "df = pd.read_excel(f, 0)  \n",
    "print('Dataset size', df.shape)\n",
    "num_rows, num_feature = df.shape\n",
    "print('row number: ', num_rows)\n",
    "print('feature number: ', num_feature)\n",
    "print()\n",
    "print('names of features: ', list(df))\n",
    "print('-------------------')\n",
    "print('full data loaded')\n",
    "print('-------------------')"
   ]
  },
  {
   "cell_type": "code",
   "execution_count": 5,
   "id": "4aebc7af",
   "metadata": {},
   "outputs": [],
   "source": [
    "# Init the Wordnet Lemmatizer\n",
    "lemmatizer = WordNetLemmatizer()"
   ]
  },
  {
   "cell_type": "code",
   "execution_count": 3,
   "id": "08b39379",
   "metadata": {},
   "outputs": [
    {
     "name": "stderr",
     "output_type": "stream",
     "text": [
      "[nltk_data] Downloading package stopwords to\n",
      "[nltk_data]     C:\\Users\\PC\\AppData\\Roaming\\nltk_data...\n",
      "[nltk_data]   Package stopwords is already up-to-date!\n",
      "100%|██████████| 18779/18779 [08:59<00:00, 34.78it/s]"
     ]
    },
    {
     "name": "stdout",
     "output_type": "stream",
     "text": [
      "Lematization is over\n"
     ]
    },
    {
     "name": "stderr",
     "output_type": "stream",
     "text": [
      "\n"
     ]
    }
   ],
   "source": [
    "y_data = []\n",
    "morph = pymorphy2.MorphAnalyzer()\n",
    "stop = set(stopwords.words(\"russian\") + list(string.punctuation))\n",
    "\n",
    "for i in tqdm(range(num_rows)):\n",
    "\n",
    "    s = str(df['original_data'][i])\n",
    "    s1 = re.sub(r\"[,.?“/!@#$1234567890#—ツ►๑۩۞۩•*”˜˜”*°°*`)(]\", '', s)\n",
    "    word_list = nltk.word_tokenize(s1)\n",
    "    for j in range(0,len(word_list)):\n",
    "        word_list[j] = morph.parse(word_list[j])[0].normal_form\n",
    "    word_list = [w for w in word_list if not w in stop]  \n",
    "    y_data.append(word_list)\n",
    "    \n",
    "print('Lematization is over')"
   ]
  },
  {
   "cell_type": "code",
   "execution_count": 4,
   "id": "98f9f2ed",
   "metadata": {},
   "outputs": [],
   "source": [
    "df[\"processed_data\"] = y_data"
   ]
  },
  {
   "cell_type": "code",
   "execution_count": 5,
   "id": "ee8f3e70",
   "metadata": {},
   "outputs": [
    {
     "name": "stdout",
     "output_type": "stream",
     "text": [
      "(9795, 3)\n",
      "(6468, 3)\n",
      "(1206, 3)\n",
      "(1060, 3)\n",
      "(250, 3)\n"
     ]
    }
   ],
   "source": [
    "neut_df= df[df['score'] == 0]\n",
    "neg_df= df[df['score'] == -1]\n",
    "pos_df= df[df['score'] == 1]\n",
    "super_neg_df = df[df['score'] == -2]\n",
    "super_pos_df= df[df['score'] == 2]\n",
    "\n",
    "print(neut_df.shape)\n",
    "print(neg_df.shape)\n",
    "print(pos_df.shape)\n",
    "print(super_neg_df.shape)\n",
    "print(super_pos_df.shape)"
   ]
  },
  {
   "cell_type": "code",
   "execution_count": 6,
   "id": "b9f98e3f",
   "metadata": {},
   "outputs": [],
   "source": [
    "major_count = 9795\n",
    "neg_downsample = resample(neg_df,\n",
    "             replace=True,\n",
    "             n_samples=major_count,\n",
    "             random_state=42)\n",
    "\n",
    "pos_downsample = resample(pos_df,\n",
    "             replace=True,\n",
    "             n_samples=major_count,\n",
    "             random_state=42)\n",
    "\n",
    "super_neg_downsample = resample(super_neg_df,\n",
    "             replace=True,\n",
    "             n_samples=major_count,\n",
    "             random_state=42)\n",
    "\n",
    "super_pos_downsample = resample(super_pos_df,\n",
    "             replace=True,\n",
    "             n_samples=major_count,\n",
    "             random_state=42)\n"
   ]
  },
  {
   "cell_type": "code",
   "execution_count": 7,
   "id": "b2a0a568",
   "metadata": {},
   "outputs": [
    {
     "name": "stdout",
     "output_type": "stream",
     "text": [
      "(48975, 3)\n"
     ]
    }
   ],
   "source": [
    "full_up_sample = pd.concat([super_neg_downsample, neg_downsample, neut_df, pos_downsample, super_pos_downsample])\n",
    "full_up_sample = shuffle(full_up_sample, random_state = 200) \n",
    "print(full_up_sample.shape)"
   ]
  },
  {
   "cell_type": "code",
   "execution_count": 8,
   "id": "5ea1e83f",
   "metadata": {},
   "outputs": [],
   "source": [
    "y_data = list(full_up_sample[\"processed_data\"])"
   ]
  },
  {
   "cell_type": "code",
   "execution_count": 9,
   "id": "b8f88658",
   "metadata": {},
   "outputs": [],
   "source": [
    "documents = [TaggedDocument(doc, [i]) for i, doc in enumerate(y_data)]\n",
    "d2v_model = Doc2Vec(documents, vector_size=100, window=2, min_count=1, workers=4, dm=0)"
   ]
  },
  {
   "cell_type": "code",
   "execution_count": 10,
   "id": "b29fdd6d",
   "metadata": {},
   "outputs": [],
   "source": [
    "d2v_model.build_vocab(documents, update = True)"
   ]
  },
  {
   "cell_type": "code",
   "execution_count": 11,
   "id": "96721ba9",
   "metadata": {},
   "outputs": [],
   "source": [
    "d2v_model.train(documents, total_examples = d2v_model.corpus_count, epochs = 20)"
   ]
  },
  {
   "cell_type": "code",
   "execution_count": 37,
   "id": "9fcfcfc9",
   "metadata": {},
   "outputs": [],
   "source": [
    "d2v_model.save('doc2vec2Upsample.model')"
   ]
  },
  {
   "cell_type": "code",
   "execution_count": 12,
   "id": "bbcb675c",
   "metadata": {},
   "outputs": [
    {
     "name": "stdout",
     "output_type": "stream",
     "text": [
      "48975 100\n"
     ]
    }
   ],
   "source": [
    "# можем теперь получить искомую матрицу, которая содержит наши эмбединги документов\n",
    "my_array = np.empty((len(d2v_model.dv), 100))\n",
    "num, col = my_array.shape\n",
    "print(num,  col)"
   ]
  },
  {
   "cell_type": "code",
   "execution_count": 13,
   "id": "acf28819",
   "metadata": {},
   "outputs": [],
   "source": [
    "#### заполним ее числами из эмбедингов\n",
    "for i in range(num):\n",
    "    mm = d2v_model.dv[i]\n",
    "    for j in range(col): \n",
    "        my_array [i, j] = mm[j]"
   ]
  },
  {
   "cell_type": "code",
   "execution_count": 1,
   "id": "8cba74e3",
   "metadata": {},
   "outputs": [],
   "source": [
    "# # Если загружаем уже обученную модель\n",
    "# output_train = []\n",
    "# for d in y_data:\n",
    "#     output_train.append(doc2vec_model.infer_vector(d))"
   ]
  },
  {
   "cell_type": "code",
   "execution_count": 14,
   "id": "42b6f26f",
   "metadata": {},
   "outputs": [
    {
     "name": "stdout",
     "output_type": "stream",
     "text": [
      "Size of the test collection:  (9795, 100)\n",
      "Size of the training collection:  (39180, 100)\n"
     ]
    }
   ],
   "source": [
    "# разбиваем датасет на тестовую и тренировочную часть\n",
    "Y=full_up_sample['score']\n",
    "X_train, X_test, y_train, y_test = train_test_split(my_array, Y, test_size=0.2, random_state=42)\n",
    "print('Size of the test collection: ', X_test.shape)\n",
    "print('Size of the training collection: ', X_train.shape)"
   ]
  },
  {
   "cell_type": "code",
   "execution_count": 19,
   "id": "9ad63133",
   "metadata": {},
   "outputs": [],
   "source": [
    "max_features = ['sqrt', 'log2']\n",
    "max_depth = [5, 10]\n",
    "min_samples_split = [2, 5, 10]\n",
    "criterion = ['gini', 'entropy']"
   ]
  },
  {
   "cell_type": "code",
   "execution_count": 20,
   "id": "ead9465f",
   "metadata": {},
   "outputs": [],
   "source": [
    "random_grid = {'criterion': criterion,\n",
    "               'max_features': max_features,\n",
    "               'max_depth': max_depth,\n",
    "               'min_samples_split': min_samples_split}"
   ]
  },
  {
   "cell_type": "code",
   "execution_count": 21,
   "id": "327d742e",
   "metadata": {},
   "outputs": [
    {
     "name": "stdout",
     "output_type": "stream",
     "text": [
      "{'criterion': 'entropy', 'max_depth': 10, 'max_features': 'log2', 'min_samples_split': 5}\n",
      "0.5392722431772798\n",
      "time of execution (sec) 141.78282690048218\n"
     ]
    }
   ],
   "source": [
    "start = time.time()   \n",
    "\n",
    "myRF = RandomForestClassifier(\n",
    "    n_estimators=200,\n",
    "    criterion='gini',\n",
    "    max_depth=5,\n",
    "    min_samples_split=2,\n",
    "    min_samples_leaf=1,\n",
    "    min_weight_fraction_leaf=0.0,\n",
    "    max_features='log2',\n",
    "    max_leaf_nodes=None,\n",
    "    min_impurity_decrease=0.0,\n",
    "    bootstrap=True,\n",
    "    n_jobs=-1,\n",
    "    random_state=0,\n",
    "    verbose=0,\n",
    "    warm_start=False,\n",
    "    class_weight='balanced')\n",
    "\n",
    "mycv = ShuffleSplit(n_splits=2, test_size=0.3, random_state=0)\n",
    "clf = GridSearchCV(myRF, random_grid, cv=mycv)\n",
    "clf.fit(X_train, y_train)\n",
    "\n",
    "print(clf.best_params_)\n",
    "print(clf.best_score_)\n",
    "stop = time.time()    \n",
    "print('time of execution (sec)', stop - start)"
   ]
  },
  {
   "cell_type": "code",
   "execution_count": 22,
   "id": "3c8a3ece",
   "metadata": {},
   "outputs": [],
   "source": [
    "my_label=clf.predict(X_test)"
   ]
  },
  {
   "cell_type": "code",
   "execution_count": 23,
   "id": "d192cb57",
   "metadata": {},
   "outputs": [
    {
     "name": "stdout",
     "output_type": "stream",
     "text": [
      "              precision    recall  f1-score   support\n",
      "\n",
      "          -2       0.20      0.12      0.15       192\n",
      "          -1       0.47      0.52      0.49      1291\n",
      "           0       0.66      0.66      0.66      2001\n",
      "           1       0.33      0.25      0.29       229\n",
      "           2       0.32      0.19      0.24        43\n",
      "\n",
      "    accuracy                           0.55      3756\n",
      "   macro avg       0.39      0.35      0.36      3756\n",
      "weighted avg       0.54      0.55      0.55      3756\n",
      "\n",
      "[[  24  116   49    3    0]\n",
      " [  63  667  527   33    1]\n",
      " [  32  576 1313   72    8]\n",
      " [   3   60  100   58    8]\n",
      " [   0   10   15   10    8]]\n"
     ]
    },
    {
     "data": {
      "image/png": "[encoded data removed]",
      "text/plain": [
       "<Figure size 600x600 with 1 Axes>"
      ]
     },
     "metadata": {},
     "output_type": "display_data"
    }
   ],
   "source": [
    "# сравним полученный результат с известными ответами\n",
    "# вывод качества построенной модели\n",
    "print(metrics.classification_report(y_test, my_label, zero_division=0))\n",
    "print(metrics.confusion_matrix(y_test, my_label))\n",
    "\n",
    "%matplotlib inline\n",
    "fig, ax = plt.subplots()\n",
    "cmap=plt.cm.Blues\n",
    "ax.imshow(metrics.confusion_matrix(y_test, my_label), cmap=cmap)\n",
    "fig.set_figwidth(6)    \n",
    "fig.set_figheight(6)     \n",
    "plt.show()"
   ]
  },
  {
   "cell_type": "code",
   "execution_count": 18,
   "id": "3d927c03",
   "metadata": {},
   "outputs": [
    {
     "name": "stderr",
     "output_type": "stream",
     "text": [
      "C:\\Users\\PC\\anaconda3\\lib\\site-packages\\sklearn\\ensemble\\_gb.py:280: FutureWarning: The loss parameter name 'deviance' was deprecated in v1.1 and will be removed in version 1.3. Use the new parameter name 'log_loss' which is equivalent.\n",
      "  warnings.warn(\n"
     ]
    },
    {
     "name": "stdout",
     "output_type": "stream",
     "text": [
      "{'criterion': 'squared_error', 'learning_rate': 0.2, 'loss': 'deviance', 'max_depth': 8, 'max_features': 'sqrt', 'min_samples_split': 0.01, 'n_estimators': 20}\n",
      "0.7447166921898928\n",
      "time of execution (sec) 327.16247725486755\n"
     ]
    }
   ],
   "source": [
    "start = time.time() \n",
    "\n",
    "parameters = {\n",
    "    \"loss\":[\"deviance\"],\n",
    "    \"learning_rate\": [0.01, 0.05, 0.2],\n",
    "    \"min_samples_split\": [0.01, 0.2],\n",
    "    \"max_depth\":[3,8],\n",
    "    \"max_features\":[\"log2\",\"sqrt\"],\n",
    "    \"criterion\": ['squared_error'],\n",
    "    \"n_estimators\":[10, 20]\n",
    "    }\n",
    "\n",
    "\n",
    "clf1 = GridSearchCV(GradientBoostingClassifier(), parameters, cv=3, n_jobs=-1)\n",
    "\n",
    "clf1.fit(X_train, y_train)\n",
    "\n",
    "# getting the best parameters ans score\n",
    "print(clf1.best_params_)\n",
    "print(clf1.best_score_)\n",
    "\n",
    "stop = time.time()    \n",
    "print('time of execution (sec)', stop - start)"
   ]
  },
  {
   "cell_type": "code",
   "execution_count": 22,
   "id": "a45022c5",
   "metadata": {},
   "outputs": [],
   "source": [
    "with open('GBK_model.pkl', 'wb') as fin:\n",
    "    pickle.dump(clf1, fin)"
   ]
  },
  {
   "cell_type": "code",
   "execution_count": 19,
   "id": "bea5563d",
   "metadata": {},
   "outputs": [],
   "source": [
    "my_label1Up=clf1.predict(X_test)"
   ]
  },
  {
   "cell_type": "code",
   "execution_count": 23,
   "id": "8092f32e",
   "metadata": {},
   "outputs": [
    {
     "name": "stdout",
     "output_type": "stream",
     "text": [
      "              precision    recall  f1-score   support\n",
      "\n",
      "          -2       0.14      0.03      0.04       192\n",
      "          -1       0.51      0.33      0.40      1291\n",
      "           0       0.60      0.84      0.70      2001\n",
      "           1       0.27      0.05      0.09       229\n",
      "           2       0.15      0.07      0.10        43\n",
      "\n",
      "    accuracy                           0.57      3756\n",
      "   macro avg       0.33      0.26      0.27      3756\n",
      "weighted avg       0.52      0.57      0.52      3756\n",
      "\n",
      "[[   5   83  103    1    0]\n",
      " [  17  428  830   10    6]\n",
      " [  12  275 1688   17    9]\n",
      " [   2   36  177   12    2]\n",
      " [   0   11   25    4    3]]\n"
     ]
    },
    {
     "data": {
      "image/png": "[encoded data removed]",
      "text/plain": [
       "<Figure size 600x600 with 1 Axes>"
      ]
     },
     "metadata": {},
     "output_type": "display_data"
    }
   ],
   "source": [
    "# сравним полученный результат с известными ответами\n",
    "# вывод качества построенной модели\n",
    "print(metrics.classification_report(y_test, my_label1, zero_division=0))\n",
    "print(metrics.confusion_matrix(y_test, my_label1))\n",
    "\n",
    "%matplotlib inline\n",
    "fig, ax = plt.subplots()\n",
    "cmap=plt.cm.Blues\n",
    "ax.imshow(metrics.confusion_matrix(y_test, my_label1), cmap=cmap)\n",
    "fig.set_figwidth(6)    \n",
    "fig.set_figheight(6)    \n",
    "plt.show()"
   ]
  },
  {
   "cell_type": "code",
   "execution_count": 20,
   "id": "58e84c0d",
   "metadata": {},
   "outputs": [
    {
     "name": "stdout",
     "output_type": "stream",
     "text": [
      "              precision    recall  f1-score   support\n",
      "\n",
      "          -2       0.83      0.83      0.83      1998\n",
      "          -1       0.60      0.54      0.56      1945\n",
      "           0       0.61      0.65      0.63      1938\n",
      "           1       0.83      0.80      0.81      1992\n",
      "           2       0.93      1.00      0.96      1922\n",
      "\n",
      "    accuracy                           0.76      9795\n",
      "   macro avg       0.76      0.76      0.76      9795\n",
      "weighted avg       0.76      0.76      0.76      9795\n",
      "\n",
      "[[1663  169   89   71    6]\n",
      " [ 209 1044  575  105   12]\n",
      " [  79  427 1256  146   30]\n",
      " [  58  112  139 1585   98]\n",
      " [   0    1    2    6 1913]]\n"
     ]
    },
    {
     "data": {
      "image/png": "[encoded data removed]",
      "text/plain": [
       "<Figure size 600x600 with 1 Axes>"
      ]
     },
     "metadata": {},
     "output_type": "display_data"
    }
   ],
   "source": [
    "# сравним полученный результат с известными ответами\n",
    "# вывод качества построенной модели\n",
    "print(metrics.classification_report(y_test, my_label1Up, zero_division=0))\n",
    "print(metrics.confusion_matrix(y_test, my_label1Up))\n",
    "\n",
    "%matplotlib inline\n",
    "fig, ax = plt.subplots()\n",
    "cmap=plt.cm.Blues\n",
    "ax.imshow(metrics.confusion_matrix(y_test, my_label1Up), cmap=cmap)\n",
    "fig.set_figwidth(6)    \n",
    "fig.set_figheight(6)   \n",
    "plt.show()"
   ]
  },
  {
   "cell_type": "code",
   "execution_count": 37,
   "id": "8ffafc14",
   "metadata": {},
   "outputs": [
    {
     "name": "stdout",
     "output_type": "stream",
     "text": [
      "{'learning_rate': 0.1, 'n_estimators': 200}\n",
      "0.47313255062106513\n",
      "time of execution (sec) 648.4543709754944\n"
     ]
    }
   ],
   "source": [
    "model = AdaBoostClassifier(n_estimators=2, random_state=None, learning_rate=0.01)\n",
    "\n",
    "mycv = ShuffleSplit(n_splits=5, test_size=0.3, random_state=0)\n",
    "\n",
    "myparam_grid = {'learning_rate':[0.001, 0.01, 0.1],\n",
    "               'n_estimators':[2, 10, 50, 100, 200]}\n",
    "\n",
    "start = time.time()\n",
    "\n",
    "clf3 = GridSearchCV(estimator=model, param_grid=myparam_grid, cv=mycv, n_jobs=-1)\n",
    "\n",
    "clf3.fit(X_train, y_train)\n",
    "print(clf3.best_params_)\n",
    "print(clf3.best_score_)\n",
    "\n",
    "stop = time.time()  \n",
    "print('time of execution (sec)', stop - start)"
   ]
  },
  {
   "cell_type": "code",
   "execution_count": 38,
   "id": "848ee8a3",
   "metadata": {},
   "outputs": [],
   "source": [
    "y_label3D=clf3.predict(X_test)"
   ]
  },
  {
   "cell_type": "code",
   "execution_count": 39,
   "id": "d36653eb",
   "metadata": {},
   "outputs": [
    {
     "name": "stdout",
     "output_type": "stream",
     "text": [
      "              precision    recall  f1-score   support\n",
      "\n",
      "          -2       0.46      0.44      0.45      1998\n",
      "          -1       0.40      0.34      0.37      1945\n",
      "           0       0.49      0.48      0.49      1938\n",
      "           1       0.38      0.54      0.44      1992\n",
      "           2       0.73      0.55      0.63      1922\n",
      "\n",
      "    accuracy                           0.47      9795\n",
      "   macro avg       0.49      0.47      0.48      9795\n",
      "weighted avg       0.49      0.47      0.47      9795\n",
      "\n",
      "[[ 884  345  184  491   94]\n",
      " [ 419  671  516  309   30]\n",
      " [ 162  519  933  295   29]\n",
      " [ 311  139  233 1069  240]\n",
      " [ 150   11   32  671 1058]]\n"
     ]
    },
    {
     "data": {
      "image/png": "[encoded data removed]",
      "text/plain": [
       "<Figure size 600x600 with 1 Axes>"
      ]
     },
     "metadata": {},
     "output_type": "display_data"
    }
   ],
   "source": [
    "# сравним полученный результат с известными ответами\n",
    "# вывод качества построенной модели\n",
    "print(metrics.classification_report(y_test, y_label3D, zero_division=0))\n",
    "print(metrics.confusion_matrix(y_test, y_label3D))\n",
    "\n",
    "%matplotlib inline\n",
    "fig, ax = plt.subplots()\n",
    "cmap=plt.cm.Blues\n",
    "ax.imshow(metrics.confusion_matrix(y_test, y_label3D), cmap=cmap)\n",
    "fig.set_figwidth(6)    \n",
    "fig.set_figheight(6)    \n",
    "plt.show()"
   ]
  },
  {
   "cell_type": "markdown",
   "id": "d2b770d0",
   "metadata": {},
   "source": [
    "## Тестирование"
   ]
  },
  {
   "cell_type": "code",
   "execution_count": 24,
   "id": "8439fa21",
   "metadata": {},
   "outputs": [
    {
     "name": "stdout",
     "output_type": "stream",
     "text": [
      "Dataset size (8048, 2)\n",
      "row number:  8048\n",
      "feature number:  2\n",
      "\n",
      "names of features:  ['original_data', 'score']\n",
      "-------------------\n",
      "full data loaded\n",
      "-------------------\n"
     ]
    }
   ],
   "source": [
    "# читаем данные из файла\n",
    "f = 'test_data_exam_1.xlsx'\n",
    "df1 = pd.read_excel(f, 0)  \n",
    "print('Dataset size', df1.shape)\n",
    "num_rows, num_feature = df1.shape\n",
    "\n",
    "print('row number: ', num_rows)\n",
    "print('feature number: ', num_feature)\n",
    "print()\n",
    "print('names of features: ', list(df1))\n",
    "\n",
    "print('-------------------')\n",
    "print('full data loaded')\n",
    "print('-------------------')"
   ]
  },
  {
   "cell_type": "code",
   "execution_count": 7,
   "id": "48784443",
   "metadata": {},
   "outputs": [],
   "source": [
    "# Init the Wordnet Lemmatizer\n",
    "lemmatizer = WordNetLemmatizer()"
   ]
  },
  {
   "cell_type": "code",
   "execution_count": 27,
   "id": "272f861b",
   "metadata": {},
   "outputs": [
    {
     "name": "stderr",
     "output_type": "stream",
     "text": [
      "[nltk_data] Downloading package stopwords to\n",
      "[nltk_data]     C:\\Users\\PC\\AppData\\Roaming\\nltk_data...\n",
      "[nltk_data]   Package stopwords is already up-to-date!\n",
      "100%|██████████| 8048/8048 [03:55<00:00, 34.17it/s]"
     ]
    },
    {
     "name": "stdout",
     "output_type": "stream",
     "text": [
      "Lematization is over\n"
     ]
    },
    {
     "name": "stderr",
     "output_type": "stream",
     "text": [
      "\n"
     ]
    }
   ],
   "source": [
    "y_data1 = []\n",
    "lemm_data1 = []\n",
    "morph = pymorphy2.MorphAnalyzer()\n",
    "stop = set(stopwords.words(\"russian\") + list(string.punctuation))\n",
    "\n",
    "for i in tqdm(range(num_rows)):\n",
    "\n",
    "    s2 = str(df1['original_data'][i])\n",
    "    s12 = re.sub(r\"[,.?“/!@#$1234567890#—ツ►๑۩۞۩•*”˜˜”*°°*`)(]\", '', s2)\n",
    "    word_list1 = nltk.word_tokenize(s12)\n",
    "    for j in range(0,len(word_list1)):\n",
    "        word_list1[j] = morph.parse(word_list1[j])[0].normal_form\n",
    "    word_list1 = [w for w in word_list1 if not w in stop]  \n",
    "    lemmatized_output = ' '.join([lemmatizer.lemmatize(w) for w in word_list1])\n",
    "    lemm_data1.append(lemmatized_output)\n",
    "    y_data1.append(word_list1)\n",
    "    \n",
    "print('Lematization is over')"
   ]
  },
  {
   "cell_type": "code",
   "execution_count": 28,
   "id": "1081c693",
   "metadata": {},
   "outputs": [
    {
     "name": "stdout",
     "output_type": "stream",
     "text": [
      "(4199, 3)\n",
      "(2747, 3)\n",
      "(524, 3)\n",
      "(473, 3)\n",
      "(105, 3)\n"
     ]
    }
   ],
   "source": [
    "# прежде всего полученный датасет data объеденим с Y.\n",
    "df1[\"processed data\"] = y_data1\n",
    "\n",
    "neut_df1= df1[df1['score'] == 0]\n",
    "neg_df1= df1[df1['score'] == -1]\n",
    "pos_df1= df1[df1['score'] == 1]\n",
    "super_neg_df1 = df1[df1['score'] == -2]\n",
    "super_pos_df1= df1[df1['score'] == 2]\n",
    "\n",
    "print(neut_df1.shape)\n",
    "print(neg_df1.shape)\n",
    "print(pos_df1.shape)\n",
    "print(super_neg_df1.shape)\n",
    "print(super_pos_df1.shape)"
   ]
  },
  {
   "cell_type": "code",
   "execution_count": 29,
   "id": "91a67add",
   "metadata": {},
   "outputs": [
    {
     "name": "stdout",
     "output_type": "stream",
     "text": [
      "neg_dataset before sampling:  (2747, 3)\n",
      "neg_dataset after sampling:  (4199, 3)\n",
      "pos_dataset before sampling:  (524, 3)\n",
      "pos_dataset after sampling:  (4199, 3)\n",
      "super_neg_dataset before sampling:  (473, 3)\n",
      "super_neg_dataset after sampling:  (4199, 3)\n",
      "super_pos_dataset before sampling:  (105, 3)\n",
      "neg_dataset after sampling:  (4199, 3)\n"
     ]
    }
   ],
   "source": [
    "print('neg_dataset before sampling: ', neg_df1.shape)\n",
    "\n",
    "neg_downsample = resample(neg_df1,\n",
    "             replace=True,\n",
    "             n_samples=4199,\n",
    "             random_state=42)\n",
    "\n",
    "print('neg_dataset after sampling: ', neg_downsample.shape)\n",
    "\n",
    "print('pos_dataset before sampling: ', pos_df1.shape)\n",
    "\n",
    "pos_downsample = resample(pos_df1,\n",
    "             replace=True,\n",
    "             n_samples=4199,\n",
    "             random_state=42)\n",
    "\n",
    "print('pos_dataset after sampling: ', pos_downsample.shape)\n",
    "\n",
    "print('super_neg_dataset before sampling: ', super_neg_df1.shape)\n",
    "\n",
    "super_neg_downsample = resample(super_neg_df1,\n",
    "             replace=True,\n",
    "             n_samples=4199,\n",
    "             random_state=42)\n",
    "\n",
    "print('super_neg_dataset after sampling: ', super_neg_downsample.shape)\n",
    "\n",
    "print('super_pos_dataset before sampling: ', super_pos_df1.shape)\n",
    "\n",
    "super_pos_downsample = resample(super_pos_df1,\n",
    "             replace=True,\n",
    "             n_samples=4199,\n",
    "             random_state=42)\n",
    "\n",
    "print('neg_dataset after sampling: ', super_pos_downsample.shape)"
   ]
  },
  {
   "cell_type": "code",
   "execution_count": 30,
   "id": "354c78cc",
   "metadata": {},
   "outputs": [
    {
     "name": "stdout",
     "output_type": "stream",
     "text": [
      "(20995, 3)\n"
     ]
    }
   ],
   "source": [
    "full_up_sample1 = pd.concat([super_neg_downsample, neg_downsample, neut_df1, pos_downsample, super_pos_downsample])\n",
    "print(full_up_sample1.shape)"
   ]
  },
  {
   "cell_type": "code",
   "execution_count": 31,
   "id": "a2e295a0",
   "metadata": {},
   "outputs": [],
   "source": [
    "doc2vec_model = Doc2Vec.load(\"doc2vec2.model\")"
   ]
  },
  {
   "cell_type": "code",
   "execution_count": 32,
   "id": "f22f98c4",
   "metadata": {},
   "outputs": [],
   "source": [
    "y_data1 = list(full_up_sample1[\"processed data\"])\n",
    "output = []\n",
    "for d in y_data1:\n",
    "    output.append(d2v_model.infer_vector(d))"
   ]
  },
  {
   "cell_type": "code",
   "execution_count": 33,
   "id": "feb330d3",
   "metadata": {},
   "outputs": [],
   "source": [
    "goalY = full_up_sample1['score']"
   ]
  },
  {
   "cell_type": "code",
   "execution_count": 34,
   "id": "3683f803",
   "metadata": {},
   "outputs": [],
   "source": [
    "my_label1 = clf1.predict(output)"
   ]
  },
  {
   "cell_type": "code",
   "execution_count": 35,
   "id": "d9695fbc",
   "metadata": {},
   "outputs": [
    {
     "name": "stdout",
     "output_type": "stream",
     "text": [
      "              precision    recall  f1-score   support\n",
      "\n",
      "          -2       0.78      0.57      0.66      4199\n",
      "          -1       0.45      0.47      0.46      4199\n",
      "           0       0.42      0.67      0.52      4199\n",
      "           1       0.68      0.56      0.62      4199\n",
      "           2       0.92      0.73      0.81      4199\n",
      "\n",
      "    accuracy                           0.60     20995\n",
      "   macro avg       0.65      0.60      0.61     20995\n",
      "weighted avg       0.65      0.60      0.61     20995\n",
      "\n",
      "[[2381  941  727  126   24]\n",
      " [ 417 1978 1567  210   27]\n",
      " [ 176  868 2806  306   43]\n",
      " [  79  512 1066 2371  171]\n",
      " [  13  138  523  472 3053]]\n"
     ]
    },
    {
     "data": {
      "image/png": "[encoded data removed]",
      "text/plain": [
       "<Figure size 600x600 with 1 Axes>"
      ]
     },
     "metadata": {},
     "output_type": "display_data"
    }
   ],
   "source": [
    "# сравним полученный результат с известными ответами\n",
    "# вывод качества построенной модели\n",
    "print(metrics.classification_report(goalY, my_label1, zero_division=0))\n",
    "print(metrics.confusion_matrix(goalY, my_label1))\n",
    "\n",
    "%matplotlib inline\n",
    "fig, ax = plt.subplots()\n",
    "cmap=plt.cm.Blues\n",
    "ax.imshow(metrics.confusion_matrix(goalY, my_label1), cmap=cmap)\n",
    "fig.set_figwidth(6)    \n",
    "fig.set_figheight(6) \n",
    "plt.show()"
   ]
  },
  {
   "cell_type": "code",
   "execution_count": 55,
   "id": "306d8cc6",
   "metadata": {},
   "outputs": [],
   "source": [
    "my_labelnew = clf1.predict(output)"
   ]
  },
  {
   "cell_type": "code",
   "execution_count": 56,
   "id": "7ea6b1e5",
   "metadata": {},
   "outputs": [
    {
     "name": "stdout",
     "output_type": "stream",
     "text": [
      "              precision    recall  f1-score   support\n",
      "\n",
      "          -2       0.41      0.64      0.49      4199\n",
      "          -1       0.38      0.21      0.27      4199\n",
      "           0       0.43      0.28      0.34      4199\n",
      "           1       0.41      0.49      0.45      4199\n",
      "           2       0.73      0.77      0.75      4199\n",
      "\n",
      "    accuracy                           0.48     20995\n",
      "   macro avg       0.47      0.48      0.46     20995\n",
      "weighted avg       0.47      0.48      0.46     20995\n",
      "\n",
      "[[2669  494  287  524  225]\n",
      " [1722  887  635  817  138]\n",
      " [1146  613 1160 1064  216]\n",
      " [ 847  273  399 2051  629]\n",
      " [ 202   67  209  502 3219]]\n"
     ]
    },
    {
     "data": {
      "image/png": "[encoded data removed]",
      "text/plain": [
       "<Figure size 600x600 with 1 Axes>"
      ]
     },
     "metadata": {},
     "output_type": "display_data"
    }
   ],
   "source": [
    "# сравним полученный результат с известными ответами\n",
    "# вывод качества построенной модели\n",
    "print(metrics.classification_report(goalY, my_labelnew, zero_division=0))\n",
    "print(metrics.confusion_matrix(goalY, my_labelnew))\n",
    "\n",
    "%matplotlib inline\n",
    "fig, ax = plt.subplots()\n",
    "cmap=plt.cm.Blues\n",
    "ax.imshow(metrics.confusion_matrix(goalY, my_labelnew), cmap=cmap)\n",
    "fig.set_figwidth(6)     \n",
    "fig.set_figheight(6)    \n",
    "plt.show()"
   ]
  },
  {
   "cell_type": "code",
   "execution_count": 40,
   "id": "04ec03c0",
   "metadata": {},
   "outputs": [],
   "source": [
    "my_labelnewAda= clf3.predict(output)"
   ]
  },
  {
   "cell_type": "code",
   "execution_count": 41,
   "id": "c0f8f109",
   "metadata": {},
   "outputs": [
    {
     "name": "stdout",
     "output_type": "stream",
     "text": [
      "              precision    recall  f1-score   support\n",
      "\n",
      "          -2       0.42      0.34      0.38      4199\n",
      "          -1       0.35      0.36      0.36      4199\n",
      "           0       0.36      0.47      0.41      4199\n",
      "           1       0.33      0.45      0.38      4199\n",
      "           2       0.74      0.38      0.50      4199\n",
      "\n",
      "    accuracy                           0.40     20995\n",
      "   macro avg       0.44      0.40      0.40     20995\n",
      "weighted avg       0.44      0.40      0.40     20995\n",
      "\n",
      "[[1424 1036  815  849   75]\n",
      " [ 690 1504 1403  570   32]\n",
      " [ 392 1080 1988  684   55]\n",
      " [ 470  507  946 1890  386]\n",
      " [ 386  128  433 1671 1581]]\n"
     ]
    },
    {
     "data": {
      "image/png": "[encoded data removed]",
      "text/plain": [
       "<Figure size 600x600 with 1 Axes>"
      ]
     },
     "metadata": {},
     "output_type": "display_data"
    }
   ],
   "source": [
    "# сравним полученный результат с известными ответами\n",
    "# вывод качества построенной модели\n",
    "print(metrics.classification_report(goalY, my_labelnewAda, zero_division=0))\n",
    "print(metrics.confusion_matrix(goalY, my_labelnewAda))\n",
    "\n",
    "%matplotlib inline\n",
    "fig, ax = plt.subplots()\n",
    "cmap=plt.cm.Blues\n",
    "ax.imshow(metrics.confusion_matrix(goalY, my_labelnewAda), cmap=cmap)\n",
    "fig.set_figwidth(6)    \n",
    "fig.set_figheight(6)    \n",
    "plt.show()"
   ]
  }
 ],
 "metadata": {
  "kernelspec": {
   "display_name": "Python 3 (ipykernel)",
   "language": "python",
   "name": "python3"
  },
  "language_info": {
   "codemirror_mode": {
    "name": "ipython",
    "version": 3
   },
   "file_extension": ".py",
   "mimetype": "text/x-python",
   "name": "python",
   "nbconvert_exporter": "python",
   "pygments_lexer": "ipython3",
   "version": "3.9.19"
  }
 },
 "nbformat": 4,
 "nbformat_minor": 5
}
